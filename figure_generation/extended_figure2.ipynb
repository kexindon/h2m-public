{
 "cells": [
  {
   "cell_type": "markdown",
   "id": "41c316a6",
   "metadata": {},
   "source": [
    "## Extended Figure 3\n",
    "\n",
    "This manuscript generates extended data figure 3 and relavent data of the paper. \n",
    "\n",
    "Kexin Dong\n",
    "\n",
    "Date created: May 24, 2024  \n",
    "\n",
    "Last updated: Oct 20, 2025\n"
   ]
  },
  {
   "cell_type": "code",
   "execution_count": null,
   "id": "ddfb0964",
   "metadata": {},
   "outputs": [
    {
     "name": "stderr",
     "output_type": "stream",
     "text": [
      "/Users/kexindong/Documents/GitHub/h2m-public/.conda/lib/python3.10/site-packages/Bio/pairwise2.py:278: BiopythonDeprecationWarning: Bio.pairwise2 has been deprecated, and we intend to remove it in a future release of Biopython. As an alternative, please consider using Bio.Align.PairwiseAligner as a replacement, and contact the Biopython developers if you still need the Bio.pairwise2 module.\n",
      "  warnings.warn(\n"
     ]
    }
   ],
   "source": [
    "import matplotlib as mpl\n",
    "mpl.rcParams['pdf.fonttype'] = 42   \n",
    "mpl.rcParams['ps.fonttype'] = 42 \n",
    "mpl.rcParams['text.usetex'] = False \n",
    "import bioh2m as h2m\n",
    "import pandas as pd\n",
    "import numpy as np\n",
    "import matplotlib.pyplot as plt\n",
    "import re\n",
    "import requests\n",
    "import time\n",
    "from adjustText import adjust_text\n",
    "import matplotlib.patheffects as PathEffects\n",
    "import seaborn as sns\n",
    "plt.rcParams['font.family'] = 'sans-serif'\n",
    "plt.rcParams['font.sans-serif'] = ['Arial']"
   ]
  }
 ],
 "metadata": {
  "language_info": {
   "name": "python"
  }
 },
 "nbformat": 4,
 "nbformat_minor": 5
}
