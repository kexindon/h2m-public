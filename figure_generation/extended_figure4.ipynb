{
 "cells": [
  {
   "cell_type": "markdown",
   "id": "b688f04f",
   "metadata": {},
   "source": [
    "## Extended Figure 4\n",
    "\n",
    "This manuscript generates extended data figure 4 and relavent data of the paper. \n",
    "\n",
    "Kexin Dong\n",
    "\n",
    "Date created: May 24, 2024  \n",
    "\n",
    "Last updated: Oct 20, 2025"
   ]
  },
  {
   "cell_type": "code",
   "execution_count": null,
   "id": "440adc62",
   "metadata": {
    "vscode": {
     "languageId": "plaintext"
    }
   },
   "outputs": [],
   "source": [
    "import matplotlib as mpl\n",
    "mpl.rcParams['pdf.fonttype'] = 42   \n",
    "mpl.rcParams['ps.fonttype'] = 42 \n",
    "mpl.rcParams['text.usetex'] = False \n",
    "import bioh2m as h2m\n",
    "import pandas as pd\n",
    "import numpy as np\n",
    "import matplotlib.pyplot as plt\n",
    "import re\n",
    "import requests\n",
    "import time\n",
    "from adjustText import adjust_text\n",
    "import matplotlib.patheffects as PathEffects\n",
    "import seaborn as sns\n",
    "plt.rcParams['font.family'] = 'sans-serif'\n",
    "plt.rcParams['font.sans-serif'] = ['Arial']"
   ]
  }
 ],
 "metadata": {
  "language_info": {
   "name": "python"
  }
 },
 "nbformat": 4,
 "nbformat_minor": 5
}
