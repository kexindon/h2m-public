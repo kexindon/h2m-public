{
 "cells": [
  {
   "cell_type": "markdown",
   "metadata": {},
   "source": [
    "## Figure 4  \n",
    "\n",
    "This manuscript generates figure 3 and relavent data of the paper. \n",
    "\n",
    "Kexin Dong\n",
    "\n",
    "May 24, 2024  "
   ]
  },
  {
   "cell_type": "markdown",
   "metadata": {},
   "source": [
    "## 4b \n",
    "\n",
    "Correlation between \n",
    "NetMHCpan 4.0 prediction"
   ]
  },
  {
   "cell_type": "code",
   "execution_count": null,
   "metadata": {},
   "outputs": [],
   "source": []
  }
 ],
 "metadata": {
  "language_info": {
   "name": "python"
  }
 },
 "nbformat": 4,
 "nbformat_minor": 2
}
