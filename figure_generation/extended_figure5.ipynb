{
 "cells": [
  {
   "cell_type": "markdown",
   "id": "6e436e0f",
   "metadata": {},
   "source": [
    "## Extended Figure 5\n",
    "\n",
    "This manuscript generates extended data figure 1 and relavent data of the paper. \n",
    "\n",
    "Kexin Dong\n",
    "\n",
    "Date created: May 24, 2024  \n",
    "\n",
    "Last updated: Oct 20, 2025"
   ]
  },
  {
   "cell_type": "code",
   "execution_count": null,
   "id": "0d8c0812",
   "metadata": {
    "vscode": {
     "languageId": "plaintext"
    }
   },
   "outputs": [],
   "source": [
    "import matplotlib as mpl\n",
    "mpl.rcParams['pdf.fonttype'] = 42   \n",
    "mpl.rcParams['ps.fonttype'] = 42 \n",
    "mpl.rcParams['text.usetex'] = False \n",
    "import bioh2m as h2m\n",
    "import pandas as pd\n",
    "import numpy as np\n",
    "import matplotlib.pyplot as plt\n",
    "import re\n",
    "import requests\n",
    "import time\n",
    "from adjustText import adjust_text\n",
    "import matplotlib.patheffects as PathEffects\n",
    "import seaborn as sns\n",
    "plt.rcParams['font.family'] = 'sans-serif'\n",
    "plt.rcParams['font.sans-serif'] = ['Arial']"
   ]
  }
 ],
 "metadata": {
  "language_info": {
   "name": "python"
  }
 },
 "nbformat": 4,
 "nbformat_minor": 5
}
