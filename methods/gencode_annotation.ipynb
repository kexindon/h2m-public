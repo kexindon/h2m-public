{
 "cells": [
  {
   "cell_type": "markdown",
   "metadata": {},
   "source": [
    "# Preparing the GENCODE annotation db file  \n",
    "This script uses human reference genome GRCh37 as an example to show how to process downloaded GENCODE gtf file.  \n",
    "Author: Kexin Dong   \n",
    "Date: Jan 4, 2024  "
   ]
  },
  {
   "cell_type": "code",
   "execution_count": null,
   "metadata": {},
   "outputs": [],
   "source": [
    "# if not installed: pip install gffutils\n",
    "import gffutils"
   ]
  },
  {
   "cell_type": "markdown",
   "metadata": {},
   "source": [
    "Download GENCODE newest release of gtf files from it's [FTP site](https://ftp.ebi.ac.uk/pub/databases/gencode/)."
   ]
  },
  {
   "cell_type": "code",
   "execution_count": null,
   "metadata": {},
   "outputs": [],
   "source": [
    "path_h_anno = '.../gencode.v19.annotation.gtf.gz' #path of the gtf file you've downloaded\n",
    "target_h_anno = '.../gencode_v19_GRCh37_.db' #target path of the .db file you want to build\n",
    "db = gffutils.create_db(path_h_anno, target_h_anno)"
   ]
  }
 ],
 "metadata": {
  "language_info": {
   "name": "python"
  }
 },
 "nbformat": 4,
 "nbformat_minor": 2
}
