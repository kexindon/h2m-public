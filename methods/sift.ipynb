{
 "cells": [
  {
   "cell_type": "markdown",
   "metadata": {},
   "source": [
    "## SIFT sore for KIT miissense mutations in human and mouse. \n",
    "\n",
    "**Date**: May 10, 2024  \n",
    "**Author**: Kexin Dong  "
   ]
  },
  {
   "cell_type": "markdown",
   "metadata": {},
   "source": [
    "### Cut KIT AACR #>=5 and run SIFT  "
   ]
  },
  {
   "cell_type": "code",
   "execution_count": null,
   "metadata": {},
   "outputs": [
    {
     "name": "stderr",
     "output_type": "stream",
     "text": [
      "/Users/kexindong/Documents/GitHub/h2m-public/.conda/lib/python3.10/site-packages/Bio/pairwise2.py:278: BiopythonDeprecationWarning: Bio.pairwise2 has been deprecated, and we intend to remove it in a future release of Biopython. As an alternative, please consider using Bio.Align.PairwiseAligner as a replacement, and contact the Biopython developers if you still need the Bio.pairwise2 module.\n",
      "  warnings.warn(\n"
     ]
    }
   ],
   "source": [
    "import bioh2m as h2m\n",
    "from pegg import prime\n",
    "from pegg import base\n",
    "import pandas as pd\n",
    "# df_all = pd.read_csv('/Users/kexindong/Documents/GitHub/Output/h2m_database/BEGG/be_human.csv')"
   ]
  },
  {
   "cell_type": "code",
   "execution_count": 2,
   "metadata": {},
   "outputs": [],
   "source": [
    "import pandas as pd"
   ]
  },
  {
   "cell_type": "code",
   "execution_count": 15,
   "metadata": {},
   "outputs": [],
   "source": [
    "df_freq = pd.read_csv('/Users/kexindong/Documents/GitHub/Output/h2m_database/database-output-final/df_kit_freq_over_5.csv')"
   ]
  },
  {
   "cell_type": "code",
   "execution_count": 34,
   "metadata": {},
   "outputs": [],
   "source": [
    "df_input = pd.read_csv('/Users/kexindong/Documents/GitHub/Output/h2m_database/aacr_input_original.csv')\n",
    "df_kit = df_freq[(df_freq['status']==True)& (df_freq['type_h']=='SNP')].reset_index(drop=True)"
   ]
  },
  {
   "cell_type": "code",
   "execution_count": 35,
   "metadata": {},
   "outputs": [
    {
     "data": {
      "text/plain": [
       "123"
      ]
     },
     "execution_count": 35,
     "metadata": {},
     "output_type": "execute_result"
    }
   ],
   "source": [
    "len(pd.read_csv('/Users/kexindong/Documents/GitHub/Output/h2m_database/SIFT/sift_h.txt',sep='\\t'))"
   ]
  },
  {
   "cell_type": "markdown",
   "metadata": {},
   "source": [
    "### Build VCF files for both human and mouse variants for SIFT prediction  "
   ]
  },
  {
   "cell_type": "code",
   "execution_count": 36,
   "metadata": {},
   "outputs": [],
   "source": [
    "sift_h = df_kit[['chr_h',\n",
    "                       'start_h',\n",
    "                       'ID_human',\n",
    "                       'ref_seq_h',\n",
    "                       'alt_seq_h']].drop_duplicates().reset_index(drop=True)\n",
    "sift_h['QUAL'] = None\n",
    "sift_h['FILTER'] = 'PASS'\n",
    "sift_h['INFO'] = '-'\n",
    "sift_h['FORMAT'] = '-'\n",
    "sift_h['MP96-Ripoll-MRC-Harwell'] = '-'"
   ]
  },
  {
   "cell_type": "code",
   "execution_count": 37,
   "metadata": {},
   "outputs": [],
   "source": [
    "sift_h = df_kit[['chr_h',\n",
    "                       'start_h',\n",
    "                       'ID_human',\n",
    "                       'ref_seq_h',\n",
    "                       'alt_seq_h']].drop_duplicates().reset_index(drop=True)\n",
    "sift_h['QUAL'] = None\n",
    "sift_h['FILTER'] = 'PASS'\n",
    "sift_h['INFO'] = '-'\n",
    "sift_h['FORMAT'] = '-'\n",
    "sift_h['MP96-Ripoll-MRC-Harwell'] = '-'\n"
   ]
  },
  {
   "cell_type": "code",
   "execution_count": 38,
   "metadata": {},
   "outputs": [],
   "source": [
    "sift_h.columns = ['CHROM','POS','ID','REF','ALT','QUAL','FILTER','INFO','FORMAT','MP96-Ripoll-MRC-Harwell']"
   ]
  },
  {
   "cell_type": "code",
   "execution_count": 41,
   "metadata": {},
   "outputs": [],
   "source": [
    "sift_h = sift_h.sort_values('POS').reset_index(drop=True)\n",
    "sift_h.to_csv('/Users/kexindong/Documents/GitHub/Output/h2m_database/SIFT/sift_h_2.txt',sep='\\t', index=False)"
   ]
  },
  {
   "cell_type": "code",
   "execution_count": 21,
   "metadata": {},
   "outputs": [],
   "source": [
    "sift_m = df_kit[['chr_m',\n",
    "                       'start_m',\n",
    "                       'ID_human',\n",
    "                       'ref_seq_m',\n",
    "                       'alt_seq_m']].dropna().reset_index(drop=True).drop_duplicates().reset_index(drop=True)\n",
    "sift_m['QUAL'] = None\n",
    "sift_m['FILTER'] = 'PASS'\n",
    "sift_m['INFO'] = '-'\n",
    "sift_m['FORMAT'] = '-'\n",
    "sift_m['start_m'] = [int(x) for x in sift_m['start_m']] \n",
    "sift_m['MP96-Ripoll-MRC-Harwell'] = '-'\n",
    "sift_m = sift_m.sort_values('start_m').reset_index(drop=True)"
   ]
  },
  {
   "cell_type": "markdown",
   "metadata": {},
   "source": [
    "# mapp GRCm39 to GRCm38  "
   ]
  },
  {
   "cell_type": "code",
   "execution_count": 23,
   "metadata": {},
   "outputs": [],
   "source": [
    "list_of_print = []\n",
    "for i,x in sift_m.iterrows():\n",
    "    xx = int(x['start_m'])\n",
    "    list_of_print.append(f'chr5 {xx} {xx}')"
   ]
  },
  {
   "cell_type": "code",
   "execution_count": 24,
   "metadata": {},
   "outputs": [
    {
     "data": {
      "text/plain": [
       "112"
      ]
     },
     "execution_count": 24,
     "metadata": {},
     "output_type": "execute_result"
    }
   ],
   "source": [
    "len(list_of_print)"
   ]
  },
  {
   "cell_type": "code",
   "execution_count": 25,
   "metadata": {},
   "outputs": [
    {
     "name": "stdout",
     "output_type": "stream",
     "text": [
      "chr5 75735766 75735766\n",
      "chr5 75767719 75767719\n",
      "chr5 75767760 75767760\n",
      "chr5 75767760 75767760\n",
      "chr5 75767760 75767760\n",
      "chr5 75767760 75767760\n",
      "chr5 75767760 75767760\n",
      "chr5 75767760 75767760\n",
      "chr5 75767772 75767772\n",
      "chr5 75767800 75767800\n",
      "chr5 75767908 75767908\n",
      "chr5 75767925 75767925\n",
      "chr5 75769941 75769941\n",
      "chr5 75769983 75769983\n",
      "chr5 75769995 75769995\n",
      "chr5 75769996 75769996\n",
      "chr5 75770032 75770032\n",
      "chr5 75770061 75770061\n",
      "chr5 75770067 75770067\n",
      "chr5 75770070 75770070\n",
      "chr5 75770082 75770082\n",
      "chr5 75770121 75770121\n",
      "chr5 75770122 75770122\n",
      "chr5 75770133 75770133\n",
      "chr5 75771556 75771556\n",
      "chr5 75776021 75776021\n",
      "chr5 75776039 75776039\n",
      "chr5 75776067 75776067\n",
      "chr5 75781617 75781617\n",
      "chr5 75783672 75783672\n",
      "chr5 75783689 75783689\n",
      "chr5 75797975 75797975\n",
      "chr5 75797977 75797977\n",
      "chr5 75799681 75799681\n",
      "chr5 75799764 75799764\n",
      "chr5 75799804 75799804\n",
      "chr5 75801203 75801203\n",
      "chr5 75801233 75801233\n",
      "chr5 75801363 75801363\n",
      "chr5 75801374 75801374\n",
      "chr5 75801378 75801378\n",
      "chr5 75801380 75801380\n",
      "chr5 75801380 75801380\n",
      "chr5 75801380 75801380\n",
      "chr5 75801383 75801383\n",
      "chr5 75801387 75801387\n",
      "chr5 75801387 75801387\n",
      "chr5 75801387 75801387\n",
      "chr5 75801390 75801390\n",
      "chr5 75801390 75801390\n",
      "chr5 75801390 75801390\n",
      "chr5 75801399 75801399\n",
      "chr5 75801405 75801405\n",
      "chr5 75801414 75801414\n",
      "chr5 75801438 75801438\n",
      "chr5 75801440 75801440\n",
      "chr5 75801842 75801842\n",
      "chr5 75801856 75801856\n",
      "chr5 75801874 75801874\n",
      "chr5 75802007 75802007\n",
      "chr5 75802007 75802007\n",
      "chr5 75802031 75802031\n",
      "chr5 75802068 75802068\n",
      "chr5 75806513 75806513\n",
      "chr5 75806514 75806514\n",
      "chr5 75806561 75806561\n",
      "chr5 75806562 75806562\n",
      "chr5 75808461 75808461\n",
      "chr5 75808472 75808472\n",
      "chr5 75808485 75808485\n",
      "chr5 75809056 75809056\n",
      "chr5 75809076 75809076\n",
      "chr5 75809094 75809094\n",
      "chr5 75809106 75809106\n",
      "chr5 75809160 75809160\n",
      "chr5 75809163 75809163\n",
      "chr5 75810256 75810256\n",
      "chr5 75810291 75810291\n",
      "chr5 75810291 75810291\n",
      "chr5 75810292 75810292\n",
      "chr5 75810293 75810293\n",
      "chr5 75810303 75810303\n",
      "chr5 75810304 75810304\n",
      "chr5 75810304 75810304\n",
      "chr5 75810305 75810305\n",
      "chr5 75810309 75810309\n",
      "chr5 75810310 75810310\n",
      "chr5 75810311 75810311\n",
      "chr5 75810311 75810311\n",
      "chr5 75810312 75810312\n",
      "chr5 75813210 75813210\n",
      "chr5 75813265 75813265\n",
      "chr5 75813279 75813279\n",
      "chr5 75813446 75813446\n",
      "chr5 75813466 75813466\n",
      "chr5 75813482 75813482\n",
      "chr5 75813483 75813483\n",
      "chr5 75813503 75813503\n",
      "chr5 75813914 75813914\n",
      "chr5 75813915 75813915\n",
      "chr5 75813929 75813929\n",
      "chr5 75813957 75813957\n",
      "chr5 75813984 75813984\n",
      "chr5 75815108 75815108\n",
      "chr5 75815119 75815119\n",
      "chr5 75815140 75815140\n",
      "chr5 75815140 75815140\n",
      "chr5 75815140 75815140\n",
      "chr5 75815150 75815150\n",
      "chr5 75815150 75815150\n",
      "chr5 75815155 75815155\n",
      "chr5 75815197 75815197\n"
     ]
    }
   ],
   "source": [
    "print('\\n'.join(list_of_print))"
   ]
  },
  {
   "cell_type": "code",
   "execution_count": null,
   "metadata": {},
   "outputs": [],
   "source": [
    "# https://genome.ucsc.edu/cgi-bin/hgLiftOver"
   ]
  },
  {
   "cell_type": "code",
   "execution_count": 26,
   "metadata": {},
   "outputs": [],
   "source": [
    "bed_file_path = 'path/to/your/file.bed'\n",
    "bed_df = pd.read_csv('/Users/kexindong/Downloads/hglft_genome_12885_cf4c50.bed', sep='\\t', header=None)"
   ]
  },
  {
   "cell_type": "code",
   "execution_count": 27,
   "metadata": {},
   "outputs": [
    {
     "data": {
      "text/html": [
       "<div>\n",
       "<style scoped>\n",
       "    .dataframe tbody tr th:only-of-type {\n",
       "        vertical-align: middle;\n",
       "    }\n",
       "\n",
       "    .dataframe tbody tr th {\n",
       "        vertical-align: top;\n",
       "    }\n",
       "\n",
       "    .dataframe thead th {\n",
       "        text-align: right;\n",
       "    }\n",
       "</style>\n",
       "<table border=\"1\" class=\"dataframe\">\n",
       "  <thead>\n",
       "    <tr style=\"text-align: right;\">\n",
       "      <th></th>\n",
       "      <th>0</th>\n",
       "      <th>1</th>\n",
       "      <th>2</th>\n",
       "      <th>3</th>\n",
       "      <th>4</th>\n",
       "    </tr>\n",
       "  </thead>\n",
       "  <tbody>\n",
       "    <tr>\n",
       "      <th>0</th>\n",
       "      <td>chr5</td>\n",
       "      <td>75575106</td>\n",
       "      <td>75575106</td>\n",
       "      <td>chr5:75735767-75735766</td>\n",
       "      <td>1</td>\n",
       "    </tr>\n",
       "    <tr>\n",
       "      <th>1</th>\n",
       "      <td>chr5</td>\n",
       "      <td>75607059</td>\n",
       "      <td>75607059</td>\n",
       "      <td>chr5:75767720-75767719</td>\n",
       "      <td>1</td>\n",
       "    </tr>\n",
       "    <tr>\n",
       "      <th>2</th>\n",
       "      <td>chr5</td>\n",
       "      <td>75607100</td>\n",
       "      <td>75607100</td>\n",
       "      <td>chr5:75767761-75767760</td>\n",
       "      <td>1</td>\n",
       "    </tr>\n",
       "    <tr>\n",
       "      <th>3</th>\n",
       "      <td>chr5</td>\n",
       "      <td>75607100</td>\n",
       "      <td>75607100</td>\n",
       "      <td>chr5:75767761-75767760</td>\n",
       "      <td>1</td>\n",
       "    </tr>\n",
       "    <tr>\n",
       "      <th>4</th>\n",
       "      <td>chr5</td>\n",
       "      <td>75607100</td>\n",
       "      <td>75607100</td>\n",
       "      <td>chr5:75767761-75767760</td>\n",
       "      <td>1</td>\n",
       "    </tr>\n",
       "    <tr>\n",
       "      <th>...</th>\n",
       "      <td>...</td>\n",
       "      <td>...</td>\n",
       "      <td>...</td>\n",
       "      <td>...</td>\n",
       "      <td>...</td>\n",
       "    </tr>\n",
       "    <tr>\n",
       "      <th>107</th>\n",
       "      <td>chr5</td>\n",
       "      <td>75654480</td>\n",
       "      <td>75654480</td>\n",
       "      <td>chr5:75815141-75815140</td>\n",
       "      <td>1</td>\n",
       "    </tr>\n",
       "    <tr>\n",
       "      <th>108</th>\n",
       "      <td>chr5</td>\n",
       "      <td>75654490</td>\n",
       "      <td>75654490</td>\n",
       "      <td>chr5:75815151-75815150</td>\n",
       "      <td>1</td>\n",
       "    </tr>\n",
       "    <tr>\n",
       "      <th>109</th>\n",
       "      <td>chr5</td>\n",
       "      <td>75654490</td>\n",
       "      <td>75654490</td>\n",
       "      <td>chr5:75815151-75815150</td>\n",
       "      <td>1</td>\n",
       "    </tr>\n",
       "    <tr>\n",
       "      <th>110</th>\n",
       "      <td>chr5</td>\n",
       "      <td>75654495</td>\n",
       "      <td>75654495</td>\n",
       "      <td>chr5:75815156-75815155</td>\n",
       "      <td>1</td>\n",
       "    </tr>\n",
       "    <tr>\n",
       "      <th>111</th>\n",
       "      <td>chr5</td>\n",
       "      <td>75654537</td>\n",
       "      <td>75654537</td>\n",
       "      <td>chr5:75815198-75815197</td>\n",
       "      <td>1</td>\n",
       "    </tr>\n",
       "  </tbody>\n",
       "</table>\n",
       "<p>112 rows × 5 columns</p>\n",
       "</div>"
      ],
      "text/plain": [
       "        0         1         2                       3  4\n",
       "0    chr5  75575106  75575106  chr5:75735767-75735766  1\n",
       "1    chr5  75607059  75607059  chr5:75767720-75767719  1\n",
       "2    chr5  75607100  75607100  chr5:75767761-75767760  1\n",
       "3    chr5  75607100  75607100  chr5:75767761-75767760  1\n",
       "4    chr5  75607100  75607100  chr5:75767761-75767760  1\n",
       "..    ...       ...       ...                     ... ..\n",
       "107  chr5  75654480  75654480  chr5:75815141-75815140  1\n",
       "108  chr5  75654490  75654490  chr5:75815151-75815150  1\n",
       "109  chr5  75654490  75654490  chr5:75815151-75815150  1\n",
       "110  chr5  75654495  75654495  chr5:75815156-75815155  1\n",
       "111  chr5  75654537  75654537  chr5:75815198-75815197  1\n",
       "\n",
       "[112 rows x 5 columns]"
      ]
     },
     "execution_count": 27,
     "metadata": {},
     "output_type": "execute_result"
    }
   ],
   "source": [
    "bed_df"
   ]
  },
  {
   "cell_type": "code",
   "execution_count": 28,
   "metadata": {},
   "outputs": [
    {
     "data": {
      "text/plain": [
       "112"
      ]
     },
     "execution_count": 28,
     "metadata": {},
     "output_type": "execute_result"
    }
   ],
   "source": [
    "len(list(bed_df.iloc[:,1]))"
   ]
  },
  {
   "cell_type": "code",
   "execution_count": 29,
   "metadata": {},
   "outputs": [],
   "source": [
    "sift_m['start_m'] = list(bed_df.iloc[:,1])\n",
    "sift_m = sift_m.sort_values('start_m').reset_index(drop=True)\n",
    "sift_m.to_csv('/Users/kexindong/Documents/GitHub/Output/h2m_database/SIFT/sift_m_2.txt',sep='\\t', index=False)"
   ]
  },
  {
   "cell_type": "markdown",
   "metadata": {},
   "source": [
    "# add vcf file header to the output txt file: ##fileformat=VCFv4.1\n",
    "# use SIFT 4G annotator to perform the prediction  "
   ]
  }
 ],
 "metadata": {
  "kernelspec": {
   "display_name": "Python 3",
   "language": "python",
   "name": "python3"
  },
  "language_info": {
   "codemirror_mode": {
    "name": "ipython",
    "version": 3
   },
   "file_extension": ".py",
   "mimetype": "text/x-python",
   "name": "python",
   "nbconvert_exporter": "python",
   "pygments_lexer": "ipython3",
   "version": "3.10.14"
  }
 },
 "nbformat": 4,
 "nbformat_minor": 2
}
