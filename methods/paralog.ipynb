{
 "cells": [
  {
   "cell_type": "markdown",
   "metadata": {},
   "source": [
    "#### This script generates human mutation dictionary between  paralogous genes.\n",
    "\n",
    "**Author**: Kexin Dong  \n",
    "**Date**: May 1, 2024    "
   ]
  },
  {
   "cell_type": "markdown",
   "metadata": {},
   "source": [
    "## Read in gene paralog dictionary  "
   ]
  },
  {
   "cell_type": "code",
   "execution_count": 2,
   "metadata": {},
   "outputs": [],
   "source": [
    "import pandas as pd"
   ]
  },
  {
   "cell_type": "code",
   "execution_count": 3,
   "metadata": {},
   "outputs": [],
   "source": [
    "paralog = pd.read_excel('/Users/kexindong/Documents/GitHub/Output/paralog/cell_report_2021.xlsx', sheet_name = 'Table_S1', header=1)\n",
    "paralog = paralog.dropna().reset_index(drop=True)\n",
    "x = [x.split('|') for x in paralog['paralog_pair']]\n",
    "df_paralog = pd.DataFrame(x).drop_duplicates()\n",
    "df_paralog.columns = ['gene1','gene2']\n",
    "df_paralog_2 = df_paralog[['gene2','gene1']]\n",
    "df_paralog_2.columns = ['gene1','gene2']\n",
    "df_paralog = pd.concat([df_paralog,df_paralog_2])\n",
    "\n",
    "df_paralog = df_paralog.reset_index(drop=True)\n",
    "dict_paralog = dict(zip(df_paralog['gene1'],df_paralog['gene2']))"
   ]
  },
  {
   "cell_type": "code",
   "execution_count": 5,
   "metadata": {},
   "outputs": [
    {
     "data": {
      "text/html": [
       "<div>\n",
       "<style scoped>\n",
       "    .dataframe tbody tr th:only-of-type {\n",
       "        vertical-align: middle;\n",
       "    }\n",
       "\n",
       "    .dataframe tbody tr th {\n",
       "        vertical-align: top;\n",
       "    }\n",
       "\n",
       "    .dataframe thead th {\n",
       "        text-align: right;\n",
       "    }\n",
       "</style>\n",
       "<table border=\"1\" class=\"dataframe\">\n",
       "  <thead>\n",
       "    <tr style=\"text-align: right;\">\n",
       "      <th></th>\n",
       "      <th>pgRNA_ID</th>\n",
       "      <th>target1_sgRNA_seq</th>\n",
       "      <th>target2_sgRNA_seq</th>\n",
       "      <th>paralog_pair</th>\n",
       "      <th>target_type</th>\n",
       "      <th>target1</th>\n",
       "      <th>target2</th>\n",
       "      <th>target1_ensembl_id</th>\n",
       "      <th>target2_ensembl_id</th>\n",
       "    </tr>\n",
       "  </thead>\n",
       "  <tbody>\n",
       "    <tr>\n",
       "      <th>0</th>\n",
       "      <td>A2M_PZP_pg1</td>\n",
       "      <td>ACTGCATCTGTGCAAACGGG</td>\n",
       "      <td>AGATGAACATTCGTGCAATG</td>\n",
       "      <td>A2M|PZP</td>\n",
       "      <td>gene_gene</td>\n",
       "      <td>A2M</td>\n",
       "      <td>PZP</td>\n",
       "      <td>ENSG00000175899</td>\n",
       "      <td>ENSG00000126838</td>\n",
       "    </tr>\n",
       "    <tr>\n",
       "      <th>1</th>\n",
       "      <td>A2M_PZP_pg10</td>\n",
       "      <td>TGAAATGAAACTTCACACTG</td>\n",
       "      <td>CTTACCTCAAGGTATATCAG</td>\n",
       "      <td>A2M|PZP</td>\n",
       "      <td>gene_gene</td>\n",
       "      <td>A2M</td>\n",
       "      <td>PZP</td>\n",
       "      <td>ENSG00000175899</td>\n",
       "      <td>ENSG00000126838</td>\n",
       "    </tr>\n",
       "    <tr>\n",
       "      <th>2</th>\n",
       "      <td>A2M_PZP_pg11</td>\n",
       "      <td>TGAAATGAAACTTCACACTG</td>\n",
       "      <td>TCTTAATTGTGACAAGCAGG</td>\n",
       "      <td>A2M|PZP</td>\n",
       "      <td>gene_gene</td>\n",
       "      <td>A2M</td>\n",
       "      <td>PZP</td>\n",
       "      <td>ENSG00000175899</td>\n",
       "      <td>ENSG00000126838</td>\n",
       "    </tr>\n",
       "    <tr>\n",
       "      <th>3</th>\n",
       "      <td>A2M_PZP_pg12</td>\n",
       "      <td>TGAAATGAAACTTCACACTG</td>\n",
       "      <td>TTATGAATGAAGAAAGGACG</td>\n",
       "      <td>A2M|PZP</td>\n",
       "      <td>gene_gene</td>\n",
       "      <td>A2M</td>\n",
       "      <td>PZP</td>\n",
       "      <td>ENSG00000175899</td>\n",
       "      <td>ENSG00000126838</td>\n",
       "    </tr>\n",
       "    <tr>\n",
       "      <th>4</th>\n",
       "      <td>A2M_PZP_pg13</td>\n",
       "      <td>TTACTCATATAGGATCCCAA</td>\n",
       "      <td>AGATGAACATTCGTGCAATG</td>\n",
       "      <td>A2M|PZP</td>\n",
       "      <td>gene_gene</td>\n",
       "      <td>A2M</td>\n",
       "      <td>PZP</td>\n",
       "      <td>ENSG00000175899</td>\n",
       "      <td>ENSG00000126838</td>\n",
       "    </tr>\n",
       "    <tr>\n",
       "      <th>...</th>\n",
       "      <td>...</td>\n",
       "      <td>...</td>\n",
       "      <td>...</td>\n",
       "      <td>...</td>\n",
       "      <td>...</td>\n",
       "      <td>...</td>\n",
       "      <td>...</td>\n",
       "      <td>...</td>\n",
       "      <td>...</td>\n",
       "    </tr>\n",
       "    <tr>\n",
       "      <th>16391</th>\n",
       "      <td>ZYG11B_ZYG11A_pg5</td>\n",
       "      <td>CAAGTTCCACTAACTTGTGG</td>\n",
       "      <td>AATGCACTATCTGAAATGCC</td>\n",
       "      <td>ZYG11B|ZYG11A</td>\n",
       "      <td>gene_gene</td>\n",
       "      <td>ZYG11B</td>\n",
       "      <td>ZYG11A</td>\n",
       "      <td>ENSG00000162378</td>\n",
       "      <td>ENSG00000203995</td>\n",
       "    </tr>\n",
       "    <tr>\n",
       "      <th>16392</th>\n",
       "      <td>ZYG11B_ZYG11A_pg6</td>\n",
       "      <td>CAAGTTCCACTAACTTGTGG</td>\n",
       "      <td>CATCACCCTGAGAAATCGCT</td>\n",
       "      <td>ZYG11B|ZYG11A</td>\n",
       "      <td>gene_gene</td>\n",
       "      <td>ZYG11B</td>\n",
       "      <td>ZYG11A</td>\n",
       "      <td>ENSG00000162378</td>\n",
       "      <td>ENSG00000203995</td>\n",
       "    </tr>\n",
       "    <tr>\n",
       "      <th>16393</th>\n",
       "      <td>ZYG11B_ZYG11A_pg7</td>\n",
       "      <td>CAAGTTCCACTAACTTGTGG</td>\n",
       "      <td>GCTCTCAACCTAACACGCCA</td>\n",
       "      <td>ZYG11B|ZYG11A</td>\n",
       "      <td>gene_gene</td>\n",
       "      <td>ZYG11B</td>\n",
       "      <td>ZYG11A</td>\n",
       "      <td>ENSG00000162378</td>\n",
       "      <td>ENSG00000203995</td>\n",
       "    </tr>\n",
       "    <tr>\n",
       "      <th>16394</th>\n",
       "      <td>ZYG11B_ZYG11A_pg8</td>\n",
       "      <td>CAAGTTCCACTAACTTGTGG</td>\n",
       "      <td>TAGAACTGTTTATACGACTG</td>\n",
       "      <td>ZYG11B|ZYG11A</td>\n",
       "      <td>gene_gene</td>\n",
       "      <td>ZYG11B</td>\n",
       "      <td>ZYG11A</td>\n",
       "      <td>ENSG00000162378</td>\n",
       "      <td>ENSG00000203995</td>\n",
       "    </tr>\n",
       "    <tr>\n",
       "      <th>16395</th>\n",
       "      <td>ZYG11B_ZYG11A_pg9</td>\n",
       "      <td>GCAGTGGCTTTGCAACCATG</td>\n",
       "      <td>AATGCACTATCTGAAATGCC</td>\n",
       "      <td>ZYG11B|ZYG11A</td>\n",
       "      <td>gene_gene</td>\n",
       "      <td>ZYG11B</td>\n",
       "      <td>ZYG11A</td>\n",
       "      <td>ENSG00000162378</td>\n",
       "      <td>ENSG00000203995</td>\n",
       "    </tr>\n",
       "  </tbody>\n",
       "</table>\n",
       "<p>16396 rows × 9 columns</p>\n",
       "</div>"
      ],
      "text/plain": [
       "                pgRNA_ID     target1_sgRNA_seq     target2_sgRNA_seq  \\\n",
       "0            A2M_PZP_pg1  ACTGCATCTGTGCAAACGGG  AGATGAACATTCGTGCAATG   \n",
       "1           A2M_PZP_pg10  TGAAATGAAACTTCACACTG  CTTACCTCAAGGTATATCAG   \n",
       "2           A2M_PZP_pg11  TGAAATGAAACTTCACACTG  TCTTAATTGTGACAAGCAGG   \n",
       "3           A2M_PZP_pg12  TGAAATGAAACTTCACACTG  TTATGAATGAAGAAAGGACG   \n",
       "4           A2M_PZP_pg13  TTACTCATATAGGATCCCAA  AGATGAACATTCGTGCAATG   \n",
       "...                  ...                   ...                   ...   \n",
       "16391  ZYG11B_ZYG11A_pg5  CAAGTTCCACTAACTTGTGG  AATGCACTATCTGAAATGCC   \n",
       "16392  ZYG11B_ZYG11A_pg6  CAAGTTCCACTAACTTGTGG  CATCACCCTGAGAAATCGCT   \n",
       "16393  ZYG11B_ZYG11A_pg7  CAAGTTCCACTAACTTGTGG  GCTCTCAACCTAACACGCCA   \n",
       "16394  ZYG11B_ZYG11A_pg8  CAAGTTCCACTAACTTGTGG  TAGAACTGTTTATACGACTG   \n",
       "16395  ZYG11B_ZYG11A_pg9  GCAGTGGCTTTGCAACCATG  AATGCACTATCTGAAATGCC   \n",
       "\n",
       "        paralog_pair target_type target1 target2 target1_ensembl_id  \\\n",
       "0            A2M|PZP   gene_gene     A2M     PZP    ENSG00000175899   \n",
       "1            A2M|PZP   gene_gene     A2M     PZP    ENSG00000175899   \n",
       "2            A2M|PZP   gene_gene     A2M     PZP    ENSG00000175899   \n",
       "3            A2M|PZP   gene_gene     A2M     PZP    ENSG00000175899   \n",
       "4            A2M|PZP   gene_gene     A2M     PZP    ENSG00000175899   \n",
       "...              ...         ...     ...     ...                ...   \n",
       "16391  ZYG11B|ZYG11A   gene_gene  ZYG11B  ZYG11A    ENSG00000162378   \n",
       "16392  ZYG11B|ZYG11A   gene_gene  ZYG11B  ZYG11A    ENSG00000162378   \n",
       "16393  ZYG11B|ZYG11A   gene_gene  ZYG11B  ZYG11A    ENSG00000162378   \n",
       "16394  ZYG11B|ZYG11A   gene_gene  ZYG11B  ZYG11A    ENSG00000162378   \n",
       "16395  ZYG11B|ZYG11A   gene_gene  ZYG11B  ZYG11A    ENSG00000162378   \n",
       "\n",
       "      target2_ensembl_id  \n",
       "0        ENSG00000126838  \n",
       "1        ENSG00000126838  \n",
       "2        ENSG00000126838  \n",
       "3        ENSG00000126838  \n",
       "4        ENSG00000126838  \n",
       "...                  ...  \n",
       "16391    ENSG00000203995  \n",
       "16392    ENSG00000203995  \n",
       "16393    ENSG00000203995  \n",
       "16394    ENSG00000203995  \n",
       "16395    ENSG00000203995  \n",
       "\n",
       "[16396 rows x 9 columns]"
      ]
     },
     "execution_count": 5,
     "metadata": {},
     "output_type": "execute_result"
    }
   ],
   "source": [
    "paralog "
   ]
  },
  {
   "cell_type": "markdown",
   "metadata": {},
   "source": [
    "## Generate input for H2M "
   ]
  },
  {
   "cell_type": "code",
   "execution_count": null,
   "metadata": {},
   "outputs": [],
   "source": [
    "df_binded = pd.read_csv('/Users/kexindong/Documents/GitHub/Output/h2m_database/database-output-final/df_result_cleaned_v3.csv')\n",
    "df_binded = df_binded.drop_duplicates(subset='ID_human')\n",
    "df_binded = df_binded.reset_index(drop=True)\n",
    "df_binded = df_binded[df_binded['gene_name_h'].isin(dict_paralog.keys())].reset_index(drop=True)"
   ]
  },
  {
   "cell_type": "code",
   "execution_count": null,
   "metadata": {},
   "outputs": [],
   "source": [
    "df_binded = df_binded[df_binded['Database']=='AACR'].reset_index(drop=True)\n",
    "df_binded = df_binded[['gene_name_h','gene_id_h','tx_id_h','start_h','end_h','ref_seq_h','alt_seq_h', 'type_h','ID_human']]"
   ]
  },
  {
   "cell_type": "code",
   "execution_count": null,
   "metadata": {},
   "outputs": [],
   "source": [
    "df_binded['gene_name_m'] = [dict_paralog[x] for x in df_binded['gene_name_h']]\n",
    "df_binded['tx_id_m'] = [h2m.dict_tx_h[x][0] for x in df_binded['gene_name_m']]"
   ]
  },
  {
   "cell_type": "code",
   "execution_count": null,
   "metadata": {},
   "outputs": [],
   "source": [
    "aacr = pd.read_csv('/Users/kexindong/Documents/GitHub/Output/h2m_database/aacr_input_original.csv')"
   ]
  },
  {
   "cell_type": "code",
   "execution_count": null,
   "metadata": {},
   "outputs": [],
   "source": [
    "set_ = set(aacr[aacr['count']>=3]['ID'])"
   ]
  },
  {
   "cell_type": "code",
   "execution_count": null,
   "metadata": {},
   "outputs": [
    {
     "data": {
      "text/plain": [
       "116315"
      ]
     },
     "metadata": {},
     "output_type": "display_data"
    }
   ],
   "source": [
    "len(set_)"
   ]
  },
  {
   "cell_type": "code",
   "execution_count": null,
   "metadata": {},
   "outputs": [],
   "source": [
    "df_binded_run = df_binded[df_binded['ID_human'].isin(set_)].reset_index(drop=True)"
   ]
  },
  {
   "cell_type": "code",
   "execution_count": null,
   "metadata": {},
   "outputs": [],
   "source": [
    "df_binded_run['index'] = df_binded_run['ID_human']"
   ]
  },
  {
   "cell_type": "code",
   "execution_count": null,
   "metadata": {},
   "outputs": [
    {
     "data": {
      "text/html": [
       "<div>\n",
       "<style scoped>\n",
       "    .dataframe tbody tr th:only-of-type {\n",
       "        vertical-align: middle;\n",
       "    }\n",
       "\n",
       "    .dataframe tbody tr th {\n",
       "        vertical-align: top;\n",
       "    }\n",
       "\n",
       "    .dataframe thead th {\n",
       "        text-align: right;\n",
       "    }\n",
       "</style>\n",
       "<table border=\"1\" class=\"dataframe\">\n",
       "  <thead>\n",
       "    <tr style=\"text-align: right;\">\n",
       "      <th></th>\n",
       "      <th>gene_name_h</th>\n",
       "      <th>gene_id_h</th>\n",
       "      <th>tx_id_h</th>\n",
       "      <th>start_h</th>\n",
       "      <th>end_h</th>\n",
       "      <th>ref_seq_h</th>\n",
       "      <th>alt_seq_h</th>\n",
       "      <th>type_h</th>\n",
       "      <th>ID_human</th>\n",
       "      <th>gene_name_m</th>\n",
       "      <th>tx_id_m</th>\n",
       "      <th>index</th>\n",
       "    </tr>\n",
       "  </thead>\n",
       "  <tbody>\n",
       "    <tr>\n",
       "      <th>10948</th>\n",
       "      <td>MAPK1</td>\n",
       "      <td>ENSG00000100030.10</td>\n",
       "      <td>ENST00000215832.6</td>\n",
       "      <td>22221709</td>\n",
       "      <td>22221714</td>\n",
       "      <td>CCGCCG</td>\n",
       "      <td>-</td>\n",
       "      <td>DEL</td>\n",
       "      <td>AACR-H0037787</td>\n",
       "      <td>MAPK3</td>\n",
       "      <td>ENST00000263025.4</td>\n",
       "      <td>AACR-H0037787</td>\n",
       "    </tr>\n",
       "    <tr>\n",
       "      <th>10949</th>\n",
       "      <td>MAPK1</td>\n",
       "      <td>ENSG00000100030.10</td>\n",
       "      <td>ENST00000215832.6</td>\n",
       "      <td>22221711</td>\n",
       "      <td>22221712</td>\n",
       "      <td>-</td>\n",
       "      <td>C</td>\n",
       "      <td>INS</td>\n",
       "      <td>AACR-H0052790</td>\n",
       "      <td>MAPK3</td>\n",
       "      <td>ENST00000263025.4</td>\n",
       "      <td>AACR-H0052790</td>\n",
       "    </tr>\n",
       "    <tr>\n",
       "      <th>10950</th>\n",
       "      <td>MAPK1</td>\n",
       "      <td>ENSG00000100030.10</td>\n",
       "      <td>ENST00000215832.6</td>\n",
       "      <td>22142589</td>\n",
       "      <td>22142590</td>\n",
       "      <td>-</td>\n",
       "      <td>T</td>\n",
       "      <td>INS</td>\n",
       "      <td>AACR-H0102059</td>\n",
       "      <td>MAPK3</td>\n",
       "      <td>ENST00000263025.4</td>\n",
       "      <td>AACR-H0102059</td>\n",
       "    </tr>\n",
       "    <tr>\n",
       "      <th>10951</th>\n",
       "      <td>MAPK1</td>\n",
       "      <td>ENSG00000100030.10</td>\n",
       "      <td>ENST00000215832.6</td>\n",
       "      <td>22162138</td>\n",
       "      <td>22162139</td>\n",
       "      <td>-</td>\n",
       "      <td>A</td>\n",
       "      <td>INS</td>\n",
       "      <td>AACR-H0100920</td>\n",
       "      <td>MAPK3</td>\n",
       "      <td>ENST00000263025.4</td>\n",
       "      <td>AACR-H0100920</td>\n",
       "    </tr>\n",
       "    <tr>\n",
       "      <th>10952</th>\n",
       "      <td>MAPK1</td>\n",
       "      <td>ENSG00000100030.10</td>\n",
       "      <td>ENST00000215832.6</td>\n",
       "      <td>22221708</td>\n",
       "      <td>22221709</td>\n",
       "      <td>-</td>\n",
       "      <td>CCG</td>\n",
       "      <td>INS</td>\n",
       "      <td>AACR-H0001560</td>\n",
       "      <td>MAPK3</td>\n",
       "      <td>ENST00000263025.4</td>\n",
       "      <td>AACR-H0001560</td>\n",
       "    </tr>\n",
       "    <tr>\n",
       "      <th>...</th>\n",
       "      <td>...</td>\n",
       "      <td>...</td>\n",
       "      <td>...</td>\n",
       "      <td>...</td>\n",
       "      <td>...</td>\n",
       "      <td>...</td>\n",
       "      <td>...</td>\n",
       "      <td>...</td>\n",
       "      <td>...</td>\n",
       "      <td>...</td>\n",
       "      <td>...</td>\n",
       "      <td>...</td>\n",
       "    </tr>\n",
       "    <tr>\n",
       "      <th>9225</th>\n",
       "      <td>ITGB3</td>\n",
       "      <td>ENSG00000259207.3</td>\n",
       "      <td>ENST00000559488.1</td>\n",
       "      <td>45360896</td>\n",
       "      <td>45360896</td>\n",
       "      <td>T</td>\n",
       "      <td>C</td>\n",
       "      <td>SNP</td>\n",
       "      <td>AACR-H0057442</td>\n",
       "      <td>ITGB5</td>\n",
       "      <td>ENST00000296181.4</td>\n",
       "      <td>AACR-H0057442</td>\n",
       "    </tr>\n",
       "    <tr>\n",
       "      <th>9226</th>\n",
       "      <td>ITGB3</td>\n",
       "      <td>ENSG00000259207.3</td>\n",
       "      <td>ENST00000559488.1</td>\n",
       "      <td>45384910</td>\n",
       "      <td>45384910</td>\n",
       "      <td>C</td>\n",
       "      <td>T</td>\n",
       "      <td>SNP</td>\n",
       "      <td>AACR-H0092886</td>\n",
       "      <td>ITGB5</td>\n",
       "      <td>ENST00000296181.4</td>\n",
       "      <td>AACR-H0092886</td>\n",
       "    </tr>\n",
       "    <tr>\n",
       "      <th>13211</th>\n",
       "      <td>RHOT1</td>\n",
       "      <td>ENSG00000126858.12</td>\n",
       "      <td>ENST00000580392.1</td>\n",
       "      <td>30580135</td>\n",
       "      <td>30580135</td>\n",
       "      <td>C</td>\n",
       "      <td>T</td>\n",
       "      <td>SNP</td>\n",
       "      <td>AACR-H0018250</td>\n",
       "      <td>RHOT2</td>\n",
       "      <td>ENST00000315082.4</td>\n",
       "      <td>AACR-H0018250</td>\n",
       "    </tr>\n",
       "    <tr>\n",
       "      <th>13213</th>\n",
       "      <td>RHOT1</td>\n",
       "      <td>ENSG00000126858.12</td>\n",
       "      <td>ENST00000580392.1</td>\n",
       "      <td>30580129</td>\n",
       "      <td>30580129</td>\n",
       "      <td>C</td>\n",
       "      <td>T</td>\n",
       "      <td>SNP</td>\n",
       "      <td>AACR-H0050059</td>\n",
       "      <td>RHOT2</td>\n",
       "      <td>ENST00000315082.4</td>\n",
       "      <td>AACR-H0050059</td>\n",
       "    </tr>\n",
       "    <tr>\n",
       "      <th>16220</th>\n",
       "      <td>VAV1</td>\n",
       "      <td>ENSG00000141968.3</td>\n",
       "      <td>ENST00000602142.1</td>\n",
       "      <td>6854090</td>\n",
       "      <td>6854090</td>\n",
       "      <td>G</td>\n",
       "      <td>A</td>\n",
       "      <td>SNP</td>\n",
       "      <td>AACR-H0106709</td>\n",
       "      <td>VAV3</td>\n",
       "      <td>ENST00000370056.4</td>\n",
       "      <td>AACR-H0106709</td>\n",
       "    </tr>\n",
       "  </tbody>\n",
       "</table>\n",
       "<p>17018 rows × 12 columns</p>\n",
       "</div>"
      ],
      "text/plain": [
       "      gene_name_h           gene_id_h            tx_id_h   start_h     end_h  \\\n",
       "10948       MAPK1  ENSG00000100030.10  ENST00000215832.6  22221709  22221714   \n",
       "10949       MAPK1  ENSG00000100030.10  ENST00000215832.6  22221711  22221712   \n",
       "10950       MAPK1  ENSG00000100030.10  ENST00000215832.6  22142589  22142590   \n",
       "10951       MAPK1  ENSG00000100030.10  ENST00000215832.6  22162138  22162139   \n",
       "10952       MAPK1  ENSG00000100030.10  ENST00000215832.6  22221708  22221709   \n",
       "...           ...                 ...                ...       ...       ...   \n",
       "9225        ITGB3   ENSG00000259207.3  ENST00000559488.1  45360896  45360896   \n",
       "9226        ITGB3   ENSG00000259207.3  ENST00000559488.1  45384910  45384910   \n",
       "13211       RHOT1  ENSG00000126858.12  ENST00000580392.1  30580135  30580135   \n",
       "13213       RHOT1  ENSG00000126858.12  ENST00000580392.1  30580129  30580129   \n",
       "16220        VAV1   ENSG00000141968.3  ENST00000602142.1   6854090   6854090   \n",
       "\n",
       "      ref_seq_h alt_seq_h type_h       ID_human gene_name_m  \\\n",
       "10948    CCGCCG         -    DEL  AACR-H0037787       MAPK3   \n",
       "10949         -         C    INS  AACR-H0052790       MAPK3   \n",
       "10950         -         T    INS  AACR-H0102059       MAPK3   \n",
       "10951         -         A    INS  AACR-H0100920       MAPK3   \n",
       "10952         -       CCG    INS  AACR-H0001560       MAPK3   \n",
       "...         ...       ...    ...            ...         ...   \n",
       "9225          T         C    SNP  AACR-H0057442       ITGB5   \n",
       "9226          C         T    SNP  AACR-H0092886       ITGB5   \n",
       "13211         C         T    SNP  AACR-H0018250       RHOT2   \n",
       "13213         C         T    SNP  AACR-H0050059       RHOT2   \n",
       "16220         G         A    SNP  AACR-H0106709        VAV3   \n",
       "\n",
       "                 tx_id_m          index  \n",
       "10948  ENST00000263025.4  AACR-H0037787  \n",
       "10949  ENST00000263025.4  AACR-H0052790  \n",
       "10950  ENST00000263025.4  AACR-H0102059  \n",
       "10951  ENST00000263025.4  AACR-H0100920  \n",
       "10952  ENST00000263025.4  AACR-H0001560  \n",
       "...                  ...            ...  \n",
       "9225   ENST00000296181.4  AACR-H0057442  \n",
       "9226   ENST00000296181.4  AACR-H0092886  \n",
       "13211  ENST00000315082.4  AACR-H0018250  \n",
       "13213  ENST00000315082.4  AACR-H0050059  \n",
       "16220  ENST00000370056.4  AACR-H0106709  \n",
       "\n",
       "[17018 rows x 12 columns]"
      ]
     },
     "metadata": {},
     "output_type": "display_data"
    }
   ],
   "source": [
    "df_binded_run.sort_values(by=['tx_id_h','tx_id_m'])"
   ]
  },
  {
   "cell_type": "code",
   "execution_count": null,
   "metadata": {},
   "outputs": [
    {
     "name": "stdout",
     "output_type": "stream",
     "text": [
      "There were rows that could not be processed.\n"
     ]
    }
   ],
   "source": [
    "df_result, df_fail = h2m.model_batch(df_binded_run, records_h, index_list_h, records_h, index_list_h, db_h, db_h, 37, direction='h2h', memory_size=100)\n",
    "df_result.to_csv('/Users/kexindong/Documents/GitHub/Output/paralog/h2h_result.csv',index=False)"
   ]
  },
  {
   "cell_type": "code",
   "execution_count": 6,
   "metadata": {},
   "outputs": [],
   "source": [
    "df_result = pd.read_csv('/Users/kexindong/Documents/GitHub/Output/paralog/h2h_result.csv')"
   ]
  },
  {
   "cell_type": "markdown",
   "metadata": {},
   "source": [
    "## Fuse AlphaMissense Scores with SMARCA2/SMARCA4  "
   ]
  },
  {
   "cell_type": "code",
   "execution_count": 10,
   "metadata": {},
   "outputs": [],
   "source": [
    "import requests\n",
    "import time\n",
    "def get_uniprot_ids_from_gene_symbols(gene_symbols):\n",
    "    base_url = \"https://rest.uniprot.org/uniprotkb/search\"\n",
    "    uniprot_ids = {}\n",
    "\n",
    "    for gene_symbol in gene_symbols:\n",
    "        query = f\"query=gene_exact:{gene_symbol}&fields=accession\"\n",
    "        url = f\"{base_url}?{query}\"\n",
    "        headers = {\n",
    "            'Content-Type': 'application/json',\n",
    "            'Accept': 'application/json'\n",
    "        }\n",
    "\n",
    "        response = requests.get(url, headers=headers)\n",
    "        if response.status_code == 200:\n",
    "            data = response.json()\n",
    "            results = data.get('results', [])\n",
    "            if results:\n",
    "                uniprot_id = results[0].get('primaryAccession', None)\n",
    "                uniprot_ids[gene_symbol] = uniprot_id\n",
    "            else:\n",
    "                uniprot_ids[gene_symbol] = None\n",
    "        else:\n",
    "            print(f\"Failed to retrieve data for gene symbol: {gene_symbol}\")\n",
    "        \n",
    "        # 添加延迟以避免速率限制\n",
    "        time.sleep(1)\n",
    "\n",
    "    return uniprot_ids"
   ]
  },
  {
   "cell_type": "code",
   "execution_count": 11,
   "metadata": {},
   "outputs": [
    {
     "name": "stdout",
     "output_type": "stream",
     "text": [
      "Gene Symbol: SMARCA2, UniProt ID: P51531\n",
      "Gene Symbol: SMARCA4, UniProt ID: P51532\n"
     ]
    }
   ],
   "source": [
    "# 示例基因符号列表\n",
    "gene_symbols = ['SMARCA2', 'SMARCA4']\n",
    "\n",
    "uniprot_ids = get_uniprot_ids_from_gene_symbols(gene_symbols)\n",
    "for gene_symbol, uniprot_id in uniprot_ids.items():\n",
    "    print(f\"Gene Symbol: {gene_symbol}, UniProt ID: {uniprot_id}\")"
   ]
  },
  {
   "cell_type": "code",
   "execution_count": null,
   "metadata": {},
   "outputs": [],
   "source": [
    "file_path = '/Users/kexindong/Documents/GitHub/Database/Pathogenecity/AlphaMIssense/AlphaMissense_aa_substitutions.tsv'\n",
    "df_am = pd.read_csv(file_path, sep = '\\t',comment='#')"
   ]
  },
  {
   "cell_type": "code",
   "execution_count": null,
   "metadata": {},
   "outputs": [],
   "source": [
    "df_p53 = df_am[df_am['uniprot_id']=='P51532'].reset_index(drop=True)\n",
    "df_p53_2 = df_am[df_am['uniprot_id']=='P51531'].reset_index(drop=True)"
   ]
  },
  {
   "cell_type": "code",
   "execution_count": null,
   "metadata": {},
   "outputs": [],
   "source": [
    "df_p53 = df_p53.drop('uniprot_id',axis=1)\n",
    "df_p53_2 = df_p53_2.drop('uniprot_id',axis=1)"
   ]
  },
  {
   "cell_type": "code",
   "execution_count": null,
   "metadata": {},
   "outputs": [],
   "source": [
    "color_dict = {\n",
    "    'pathogenic': 'darkred',\n",
    "    'benign': 'darkblue',\n",
    "    'ambiguous': 'grey'\n",
    "}\n",
    "color_dict  = color_dict.update({'DELETERIOUS':'darkblue',\n",
    "                                 'TOLERATED':'darkred'})"
   ]
  },
  {
   "cell_type": "code",
   "execution_count": null,
   "metadata": {},
   "outputs": [],
   "source": [
    "# df_p53 = df_p53.drop('uniprot_id',axis=1)\n",
    "df_p53.columns=['HGVSp_h_1','am_pathogenicity','am_class']\n",
    "df_h2m = df_result[df_result['gene_name_h_1']=='SMARCA4'].drop_duplicates(subset='index').reset_index(drop=True)\n",
    "df_h2m = df_h2m[df_h2m['classification_h_1'] == 'Missense'].reset_index(drop=True)\n",
    "df_h2m = df_h2m.drop_duplicates(subset=cols_to_drop_duplicate)\n",
    "df_merged_all = pd.merge(df_h2m, df_p53, how='left').dropna(subset='am_class').reset_index(drop=True)\n",
    "df_merged_all['loc_h'] = [search_loc(s) for s in  df_merged_all['HGVSp_h_1']]\n",
    "df_merged_all['color'] = [color_dict[x] for x in df_merged_all['am_class']]\n",
    "df_merged_all['color_h2m'] = [color_dict_h2m[x] for x in df_merged_all['class']]"
   ]
  },
  {
   "cell_type": "code",
   "execution_count": null,
   "metadata": {},
   "outputs": [],
   "source": [
    "df_p53['gene_name_h_1'] = 'SMARCA4'\n",
    "df_p53.columns = ['HGVSp_h_1','am_pathogenicity_1','am_class_1','gene_name_h_1']\n",
    "df_p53_2['gene_name_h_2'] = 'SMARCA2'\n",
    "df_p53_2.columns = ['HGVSp_h_2','am_pathogenicity_2','am_class_2','gene_name_h_2']"
   ]
  },
  {
   "cell_type": "code",
   "execution_count": null,
   "metadata": {},
   "outputs": [],
   "source": [
    "df_h2m = df_result[df_result['classification_h_1'] == 'Missense'].reset_index(drop=True)"
   ]
  },
  {
   "cell_type": "code",
   "execution_count": null,
   "metadata": {},
   "outputs": [
    {
     "data": {
      "text/html": [
       "<div>\n",
       "<style scoped>\n",
       "    .dataframe tbody tr th:only-of-type {\n",
       "        vertical-align: middle;\n",
       "    }\n",
       "\n",
       "    .dataframe tbody tr th {\n",
       "        vertical-align: top;\n",
       "    }\n",
       "\n",
       "    .dataframe thead th {\n",
       "        text-align: right;\n",
       "    }\n",
       "</style>\n",
       "<table border=\"1\" class=\"dataframe\">\n",
       "  <thead>\n",
       "    <tr style=\"text-align: right;\">\n",
       "      <th></th>\n",
       "      <th>gene_name_h_1</th>\n",
       "      <th>HGVSp_h_1</th>\n",
       "      <th>class</th>\n",
       "      <th>status</th>\n",
       "      <th>gene_name_h_2</th>\n",
       "      <th>HGVSp_h_2</th>\n",
       "      <th>flank_size</th>\n",
       "    </tr>\n",
       "  </thead>\n",
       "  <tbody>\n",
       "    <tr>\n",
       "      <th>0</th>\n",
       "      <td>SMARCA4</td>\n",
       "      <td>T910M</td>\n",
       "      <td>1</td>\n",
       "      <td>True</td>\n",
       "      <td>SMARCA2</td>\n",
       "      <td>T880M</td>\n",
       "      <td>44</td>\n",
       "    </tr>\n",
       "    <tr>\n",
       "      <th>1</th>\n",
       "      <td>SMARCA4</td>\n",
       "      <td>R1243W</td>\n",
       "      <td>0</td>\n",
       "      <td>True</td>\n",
       "      <td>SMARCA2</td>\n",
       "      <td>R1213W</td>\n",
       "      <td>82</td>\n",
       "    </tr>\n",
       "    <tr>\n",
       "      <th>2</th>\n",
       "      <td>SMARCA4</td>\n",
       "      <td>R1192H</td>\n",
       "      <td>0</td>\n",
       "      <td>True</td>\n",
       "      <td>SMARCA2</td>\n",
       "      <td>R1162H</td>\n",
       "      <td>82</td>\n",
       "    </tr>\n",
       "    <tr>\n",
       "      <th>3</th>\n",
       "      <td>SMARCA4</td>\n",
       "      <td>R1192C</td>\n",
       "      <td>0</td>\n",
       "      <td>True</td>\n",
       "      <td>SMARCA2</td>\n",
       "      <td>R1162C</td>\n",
       "      <td>82</td>\n",
       "    </tr>\n",
       "    <tr>\n",
       "      <th>4</th>\n",
       "      <td>SMARCA4</td>\n",
       "      <td>E882K</td>\n",
       "      <td>0</td>\n",
       "      <td>True</td>\n",
       "      <td>SMARCA2</td>\n",
       "      <td>E852K</td>\n",
       "      <td>61</td>\n",
       "    </tr>\n",
       "    <tr>\n",
       "      <th>...</th>\n",
       "      <td>...</td>\n",
       "      <td>...</td>\n",
       "      <td>...</td>\n",
       "      <td>...</td>\n",
       "      <td>...</td>\n",
       "      <td>...</td>\n",
       "      <td>...</td>\n",
       "    </tr>\n",
       "    <tr>\n",
       "      <th>656</th>\n",
       "      <td>SMARCA4</td>\n",
       "      <td>R1445C</td>\n",
       "      <td>1</td>\n",
       "      <td>True</td>\n",
       "      <td>SMARCA2</td>\n",
       "      <td>R1370C</td>\n",
       "      <td>13</td>\n",
       "    </tr>\n",
       "    <tr>\n",
       "      <th>657</th>\n",
       "      <td>SMARCA4</td>\n",
       "      <td>S813L</td>\n",
       "      <td>0</td>\n",
       "      <td>True</td>\n",
       "      <td>SMARCA2</td>\n",
       "      <td>S783L</td>\n",
       "      <td>11</td>\n",
       "    </tr>\n",
       "    <tr>\n",
       "      <th>658</th>\n",
       "      <td>SMARCA4</td>\n",
       "      <td>F1121L</td>\n",
       "      <td>0</td>\n",
       "      <td>True</td>\n",
       "      <td>SMARCA2</td>\n",
       "      <td>F1091L</td>\n",
       "      <td>0</td>\n",
       "    </tr>\n",
       "    <tr>\n",
       "      <th>659</th>\n",
       "      <td>SMARCA4</td>\n",
       "      <td>D1183Y</td>\n",
       "      <td>0</td>\n",
       "      <td>True</td>\n",
       "      <td>SMARCA2</td>\n",
       "      <td>D1153Y</td>\n",
       "      <td>81</td>\n",
       "    </tr>\n",
       "    <tr>\n",
       "      <th>660</th>\n",
       "      <td>SMARCA4</td>\n",
       "      <td>R1077Q</td>\n",
       "      <td>0</td>\n",
       "      <td>True</td>\n",
       "      <td>SMARCA2</td>\n",
       "      <td>R1047Q</td>\n",
       "      <td>21</td>\n",
       "    </tr>\n",
       "  </tbody>\n",
       "</table>\n",
       "<p>661 rows × 7 columns</p>\n",
       "</div>"
      ],
      "text/plain": [
       "    gene_name_h_1 HGVSp_h_1  class  status gene_name_h_2 HGVSp_h_2  flank_size\n",
       "0         SMARCA4     T910M      1    True       SMARCA2     T880M          44\n",
       "1         SMARCA4    R1243W      0    True       SMARCA2    R1213W          82\n",
       "2         SMARCA4    R1192H      0    True       SMARCA2    R1162H          82\n",
       "3         SMARCA4    R1192C      0    True       SMARCA2    R1162C          82\n",
       "4         SMARCA4     E882K      0    True       SMARCA2     E852K          61\n",
       "..            ...       ...    ...     ...           ...       ...         ...\n",
       "656       SMARCA4    R1445C      1    True       SMARCA2    R1370C          13\n",
       "657       SMARCA4     S813L      0    True       SMARCA2     S783L          11\n",
       "658       SMARCA4    F1121L      0    True       SMARCA2    F1091L           0\n",
       "659       SMARCA4    D1183Y      0    True       SMARCA2    D1153Y          81\n",
       "660       SMARCA4    R1077Q      0    True       SMARCA2    R1047Q          21\n",
       "\n",
       "[661 rows x 7 columns]"
      ]
     },
     "metadata": {},
     "output_type": "display_data"
    }
   ],
   "source": [
    "df_h2m_1 = df_h2m[df_h2m['gene_name_h_1']=='SMARCA4'].reset_index(drop=True)[['gene_name_h_1','HGVSp_h_1','class','status','gene_name_h_2','HGVSp_h_2','flank_size']]\n",
    "df_h2m_2 = df_h2m[df_h2m['gene_name_h_1']=='SMARCA2'].reset_index(drop=True)[['gene_name_h_1','HGVSp_h_1','class','status','gene_name_h_2','HGVSp_h_2','flank_size']]\n",
    "df_h2m_2.columns = ['gene_name_h_2','HGVSp_h_2','class','status','gene_name_h_1','HGVSp_h_1','flank_size']\n",
    "df_h2m = pd.concat([df_h2m_1,df_h2m_2]).reset_index(drop=True)\n",
    "df_h2m"
   ]
  },
  {
   "cell_type": "code",
   "execution_count": null,
   "metadata": {},
   "outputs": [],
   "source": [
    "df_h2m = pd.merge(df_h2m, df_p53, how='left')\n",
    "df_h2m = pd.merge(df_h2m, df_p53_2, how='left')"
   ]
  },
  {
   "cell_type": "code",
   "execution_count": null,
   "metadata": {},
   "outputs": [],
   "source": [
    "import matplotlib.colors as mcolors\n",
    "import numpy as np\n",
    "\n",
    "# Define the initial color dictionary\n",
    "color_dict = {\n",
    "    'pathogenic': 'darkred',\n",
    "    'benign': 'darkblue',\n",
    "    'ambiguous': 'grey'\n",
    "}\n",
    "\n",
    "# Function to blend two colors\n",
    "def blend_colors(color1, color2):\n",
    "    # Convert color names to RGBA\n",
    "    rgb1 = np.array(mcolors.to_rgb(color1))\n",
    "    rgb2 = np.array(mcolors.to_rgb(color2))\n",
    "    # Calculate the average of the RGB components\n",
    "    blended_rgb = (rgb1 + rgb2) / 2\n",
    "    # Convert the blended RGB back to hex color code\n",
    "    return mcolors.to_hex(blended_rgb)\n",
    "\n",
    "# Create a combined color dictionary\n",
    "combined_color_dict = {}\n",
    "for key1 in color_dict:\n",
    "    for key2 in color_dict:\n",
    "        # Blend each pair of colors\n",
    "        combined_color_dict[(key1, key2)] = blend_colors(color_dict[key1], color_dict[key2])"
   ]
  },
  {
   "cell_type": "code",
   "execution_count": null,
   "metadata": {},
   "outputs": [],
   "source": [
    "df_h2m['color_class'] = [color_dict_h2m[x] for x in df_h2m['class']]\n",
    "df_h2m['color_score'] = df_h2m.apply(lambda row: combined_color_dict[(row['am_class_1'], row['am_class_2'])], axis=1)\n",
    "df_h2m['loc_h_1'] = [search_loc(s) for s in  df_h2m['HGVSp_h_1']]\n",
    "df_h2m['loc_h_2'] = [search_loc(s) for s in  df_h2m['HGVSp_h_2']]\n",
    "df_h2m['color_h2m_1'] = [color_dict[x] for x in df_h2m['am_class_1']]\n",
    "df_h2m['color_h2m_2'] = [color_dict[x] for x in df_h2m['am_class_2']]"
   ]
  },
  {
   "cell_type": "markdown",
   "metadata": {},
   "source": [
    "## GuideRNA Library Design  "
   ]
  },
  {
   "cell_type": "code",
   "execution_count": null,
   "metadata": {},
   "outputs": [],
   "source": [
    "import pegg\n",
    "from pegg import base\n",
    "import pandas as pd"
   ]
  },
  {
   "cell_type": "code",
   "execution_count": null,
   "metadata": {},
   "outputs": [],
   "source": [
    "path_h_ref, path_m_ref = '/Users/kexindong/Documents/GitHub/Database/RefGenome/ncbi-2023-09-12/GCF_000001405.25_GRCh37.p13_genomic.fna.gz', '/Users/kexindong/Documents/GitHub/Database/RefGenome/mouse-2023-09-13/GCF_000001635.27_GRCm39_genomic.fna.gz'\n",
    "# remember to replace the paths with yours\n",
    "chrom_dict, i = pegg.prime.genome_loader(path_h_ref)"
   ]
  },
  {
   "cell_type": "code",
   "execution_count": null,
   "metadata": {},
   "outputs": [],
   "source": [
    "df = df[df['status']==True].reset_index(drop=True)"
   ]
  },
  {
   "cell_type": "code",
   "execution_count": null,
   "metadata": {},
   "outputs": [
    {
     "data": {
      "text/plain": [
       "Index(['gene_name_h_1', 'gene_id_h_1', 'tx_id_h_1', 'chr_h_1', 'exon_num_h_1',\n",
       "       'strand_h_1', 'match_1', 'start_h_1', 'end_h_1', 'ref_seq_h_1',\n",
       "       'alt_seq_h_1', 'HGVSc_h_1', 'HGVSp_h_1', 'classification_h_1',\n",
       "       'exon_h_1', 'type_h_1', 'status', 'class', 'statement',\n",
       "       'flank_size_left', 'flank_size_right', 'gene_name_h_2', 'gene_id_h_2',\n",
       "       'tx_id_h_2', 'chr_h_2', 'exon_num_h_2', 'strand_h_2', 'type_h_2',\n",
       "       'classification_h_2', 'exon_h_2', 'start_h_2_ori', 'end_h_2_ori',\n",
       "       'ref_seq_h_2_ori', 'alt_seq_h_2_ori', 'HGVSc_h_2_ori', 'HGVSp_h_2_ori',\n",
       "       'start_h_2', 'end_h_2', 'ref_seq_h_2', 'alt_seq_h_2', 'HGVSc_h_2',\n",
       "       'HGVSp_h_2', 'index'],\n",
       "      dtype='object')"
      ]
     },
     "metadata": {},
     "output_type": "display_data"
    }
   ],
   "source": [
    "df.columns"
   ]
  },
  {
   "cell_type": "code",
   "execution_count": null,
   "metadata": {},
   "outputs": [],
   "source": [
    "df_1 = df[\n",
    "    ['gene_name_h_1', 'chr_h_1',  'start_h_1', 'end_h_1', \n",
    "     'type_h_1', \n",
    "     'ref_seq_h_1', 'alt_seq_h_1','index']\n",
    "]\n",
    "df_1.columns = ['Hugo_Symbol','Chromosome','Start_Position','End_Position', 'Variant_Type','Reference_Allele','Tumor_Seq_Allele2','ID']\n",
    "\n",
    "df_2 = df[\n",
    "    ['gene_name_h_2', 'chr_h_2',  'start_h_2', 'end_h_2', \n",
    "     'type_h_2', \n",
    "     'ref_seq_h_2', 'alt_seq_h_2','index']\n",
    "]\n",
    "df_2.columns = ['Hugo_Symbol','Chromosome','Start_Position','End_Position', 'Variant_Type','Reference_Allele','Tumor_Seq_Allele2','ID']"
   ]
  },
  {
   "cell_type": "code",
   "execution_count": null,
   "metadata": {},
   "outputs": [],
   "source": [
    "df_1['index'] = range(len(df_1))\n",
    "df_2['index'] = range(len(df_2))"
   ]
  },
  {
   "cell_type": "code",
   "execution_count": null,
   "metadata": {},
   "outputs": [],
   "source": [
    "def be_amenable(df):\n",
    "    set_be = {('C','T'),\n",
    "              ('T','C'),\n",
    "              ('A','G'),\n",
    "              ('G','A'),}\n",
    "    df = df[df['Variant_Type']=='SNP'].reset_index(drop=True)\n",
    "    df = df[[(x,y) in set(set_be) for x,y in zip(df['Reference_Allele'],df['Tumor_Seq_Allele2'])]].reset_index(drop=True)\n",
    "    return df"
   ]
  },
  {
   "cell_type": "code",
   "execution_count": null,
   "metadata": {},
   "outputs": [],
   "source": [
    "df_1 = be_amenable(df_1)\n",
    "df_2 = be_amenable(df_2)"
   ]
  },
  {
   "cell_type": "code",
   "execution_count": null,
   "metadata": {},
   "outputs": [],
   "source": [
    "df_1 = df_1[df_1['index'].isin(set(df_2['index']))].reset_index(drop=True)"
   ]
  },
  {
   "cell_type": "code",
   "execution_count": null,
   "metadata": {},
   "outputs": [],
   "source": [
    "df_1['Chromosome'] = [str(x[3:]) for x in df_1['Chromosome']]\n",
    "df_2['Chromosome'] = [str(x[3:]) for x in df_2['Chromosome']]\n",
    "df_1['Start_Position'] = [int(x) for x in df_1['Start_Position']]\n",
    "df_2['Start_Position'] = [int(x) for x in df_2['Start_Position']]\n",
    "df_1['End_Position'] = [int(x) for x in df_1['End_Position']]\n",
    "df_2['End_Position'] = [int(x) for x in df_2['End_Position']]"
   ]
  },
  {
   "cell_type": "code",
   "execution_count": null,
   "metadata": {},
   "outputs": [
    {
     "name": "stdout",
     "output_type": "stream",
     "text": [
      "Error in mutant # 1935; Dropped from pegRNA generation\n",
      "Variant Type = SNP| REF = G | ALT = A\n",
      "GGGCGGATTTTGCAGATGCCAGACTTCTCTGCTATGGGCCTTATTTTCGCAATGTAGCCAAGCGGGTCTTGGAATTCAGCCCAGCTAGGCTCAAAAACCGGGCACTCCGGTGGCGGCAGGAACTCGTCACACCCCGGTTCCATGTCGGGCCTTAATGCTAAGCTGTAAAATAAGAATCACATTGTCTTTAATGACGCGCTGGTTCCTCCTACTAAAAGGCCTATGAAAATTTCATTTTCTT\n",
      "GGGCGGATTTTGCAGATGCCAGACTTCTCTGCTATGGGCCTTATTTTCGCAATGTAGCCAAGCGGGTCTTGGAATTCAGCCCAGCTAGGCTCAAAAACCGGGCACTCCGGTGGCGGCAGGGACTCGTCACACCCCGGTTCCATGTCGGGCCTTAATGCTAAGCTGTAAAATAAGAATCACATTGTCTTTAATGACGCGCTGGTTCCTCCTACTAAAAGGCCTATGAAAATTTCATTTTCTT\n",
      "Error in mutant # 2694; Dropped from pegRNA generation\n",
      "Variant Type = SNP| REF = C | ALT = T\n",
      "TGAAGGATTCCATGATAAAGACAGTTCAGGTTGGAGTTGCAGCAAAGATAAGGATGCATATAGCAGTTTTGGGTCTCGAGATTCTAGAGGAAAGCCTGGTTATTTCAGTGAACGTGGAAGTGGATCAAGGGGAAGGTAAATCTCAGCTTGTGTTTGTATACAGTAGAAATTTAGAAATTTTAATTTGGTAGGTTCTCATTCTTCATACTTTCAGTGGTCAAGCATATCTTTAACAGATTAC\n",
      "TGAAGGATTCCATGATAAAGACAGTTCAGGTTGGAGTTGCAGCAAAGATAAGGATGCATATAGCAGTTTTGGGTCTCGAGATTCTAGAGGAAAGCCTGGTTATTTCAGTGAACGTGGAAGCGGATCAAGGGGAAGGTAAATCTCAGCTTGTGTTTGTATACAGTAGAAATTTAGAAATTTTAATTTGGTAGGTTCTCATTCTTCATACTTTCAGTGGTCAAGCATATCTTTAACAGATTAC\n",
      "Error in mutant # 4046; Dropped from pegRNA generation\n",
      "Variant Type = SNP| REF = C | ALT = T\n",
      "CTTTCCTCGACTGTCAGGCTAACAGACTCCTCTTCACTCTCGCGGCTCGCTTTTCCTTCCGCCATTTTCTTTGCCTCATCACCGAAGGCAACAGCGGCGGTAGTGAGCGACACTGCGCAGGATTTCATGGAAACAACAAATTTCCAAGTCCCACGACGATACCCAACCTTAATCGAGTAGTTGAAAAGACGCCTTCAATCGCTGCTTGAGACTGTGACGCCAATTTTATCGCCTCCTCAGC\n",
      "CTTTCCTCGACTGTCAGGCTAACAGACTCCTCTTCACTCTCGCGGCTCGCTTTTCCTTCCGCCATTTTCTTTGCCTCATCACCGAAGGCAACAGCGGCGGTAGTGAGCGACACTGCGCAGCATTTCATGGAAACAACAAATTTCCAAGTCCCACGACGATACCCAACCTTAATCGAGTAGTTGAAAAGACGCCTTCAATCGCTGCTTGAGACTGTGACGCCAATTTTATCGCCTCCTCAGC\n"
     ]
    }
   ],
   "source": [
    "df_result_1 = base.run_base(df_1,'cBioPortal', chrom_dict, PAM='NGN',filtration='ABE+CBE', ideal_edit_window=[4, 8], auto_SNP_filter=True, proto_size=19,context_size=120, RE_sites=None, polyT_threshold=4, before_proto_context=5,sensor_length=40, sensor_orientation='reverse-complement', sensor=True)\n",
    "df_result_2 = base.run_base(df_2,'cBioPortal', chrom_dict, PAM='NGN',filtration='ABE+CBE', ideal_edit_window=[4, 8], auto_SNP_filter=True, proto_size=19,context_size=120, RE_sites=None, polyT_threshold=4, before_proto_context=5,sensor_length=40, sensor_orientation='reverse-complement', sensor=True)"
   ]
  },
  {
   "cell_type": "code",
   "execution_count": null,
   "metadata": {},
   "outputs": [
    {
     "data": {
      "text/plain": [
       "4770"
      ]
     },
     "metadata": {},
     "output_type": "display_data"
    }
   ],
   "source": [
    "len(df_result_1['mutation_idx'].unique())"
   ]
  },
  {
   "cell_type": "code",
   "execution_count": null,
   "metadata": {},
   "outputs": [
    {
     "data": {
      "text/plain": [
       "4793"
      ]
     },
     "metadata": {},
     "output_type": "display_data"
    }
   ],
   "source": [
    "len(df_result_2['mutation_idx'].unique())"
   ]
  },
  {
   "cell_type": "code",
   "execution_count": null,
   "metadata": {},
   "outputs": [
    {
     "data": {
      "text/plain": [
       "52066"
      ]
     },
     "metadata": {},
     "output_type": "display_data"
    }
   ],
   "source": [
    "len(df_result_2) + len(df_result_1)"
   ]
  },
  {
   "cell_type": "code",
   "execution_count": null,
   "metadata": {},
   "outputs": [
    {
     "data": {
      "text/plain": [
       "4740"
      ]
     },
     "metadata": {},
     "output_type": "display_data"
    }
   ],
   "source": [
    "len(set(df_result_1['ID']).intersection(df_result_2['ID']))"
   ]
  },
  {
   "cell_type": "code",
   "execution_count": null,
   "metadata": {},
   "outputs": [
    {
     "data": {
      "text/plain": [
       "Index(['mutation_idx', 'level_0', 'Hugo_Symbol', 'Chromosome',\n",
       "       'Start_Position', 'End_Position', 'Variant_Type', 'Reference_Allele',\n",
       "       'Tumor_Seq_Allele2', 'ID', 'seq_start', 'seq_end', 'wt_w_context',\n",
       "       'alt_w_context', 'left_context', 'right_context', 'REF', 'ALT',\n",
       "       'PAM_start', 'PAM_end', 'PAM', 'PAM_strand', 'Protospacer_30',\n",
       "       'Protospacer', 'Protospacer_Location', 'Ideal_Edit_Window', 'Editor',\n",
       "       'gRNA_id', 'OnTarget_Azimuth_Score', 'sensor_wt', 'sensor_alt',\n",
       "       'sensor_orientation', 'sensor_error', 'contains_polyT_terminator'],\n",
       "      dtype='object')"
      ]
     },
     "metadata": {},
     "output_type": "display_data"
    }
   ],
   "source": [
    "df_result_1.columns"
   ]
  },
  {
   "cell_type": "code",
   "execution_count": null,
   "metadata": {},
   "outputs": [],
   "source": [
    "df_result_1.to_csv('/Users/kexindong/Documents/GitHub/Output/paralog/h2h_be_1.csv', index = False)\n",
    "df_result_2.to_csv('/Users/kexindong/Documents/GitHub/Output/paralog/h2h_be_2.csv', index = False)"
   ]
  },
  {
   "cell_type": "markdown",
   "metadata": {},
   "source": [
    "## Attach AlphaMissense to mutation pairs that can be engineered by signel guide  "
   ]
  },
  {
   "cell_type": "code",
   "execution_count": null,
   "metadata": {},
   "outputs": [],
   "source": [
    "df = pd.read_csv('/Users/kexindong/Documents/GitHub/Output/paralog/h2h_result.csv')"
   ]
  },
  {
   "cell_type": "code",
   "execution_count": null,
   "metadata": {},
   "outputs": [],
   "source": [
    "x = pd.merge(df_result_1.drop('level_0',axis=1), df_result_2.drop('level_0',axis=1), on = ['ID','Protospacer','Editor'],how = 'inner')"
   ]
  },
  {
   "cell_type": "code",
   "execution_count": null,
   "metadata": {},
   "outputs": [],
   "source": [
    "k = df[['index','HGVSp_h_1','HGVSp_h_2']].drop_duplicates()\n",
    "k.columns = ['ID','HGVSp_h_1','HGVSp_h_2']"
   ]
  },
  {
   "cell_type": "code",
   "execution_count": null,
   "metadata": {},
   "outputs": [],
   "source": [
    "x = pd.merge(x, k, on = 'ID',how = 'left')"
   ]
  },
  {
   "cell_type": "code",
   "execution_count": null,
   "metadata": {},
   "outputs": [],
   "source": [
    "import requests\n",
    "\n",
    "def fetch_protein_id(species, identifier, is_symbol=True, grch37=False):\n",
    "    base_url = \"https://grch37.rest.ensembl.org\" if grch37 else \"https://rest.ensembl.org\"\n",
    "    endpoint = \"/lookup/symbol\" if is_symbol else \"/lookup/id\"\n",
    "    url = f\"{base_url}{endpoint}/{species}/{identifier}?expand=1;content-type=application/json\"\n",
    "    headers = {\"Content-Type\": \"application/json\"}\n",
    "    \n",
    "    response = requests.get(url, headers=headers)\n",
    "    if response.status_code == 200:\n",
    "        data = response.json()\n",
    "        if \"Transcript\" in data:\n",
    "            for transcript in data[\"Transcript\"]:\n",
    "                if \"Translation\" in transcript:\n",
    "                    return transcript[\"Translation\"][\"id\"]\n",
    "        return None\n",
    "    else:\n",
    "        print(f\"Error: {response.status_code}\")\n",
    "        return None\n"
   ]
  },
  {
   "cell_type": "code",
   "execution_count": null,
   "metadata": {},
   "outputs": [],
   "source": [
    "x_l = x[['Hugo_Symbol_x','HGVSp_h_1','Hugo_Symbol_y','HGVSp_h_2','Protospacer','Editor']].drop_duplicates()"
   ]
  },
  {
   "cell_type": "code",
   "execution_count": null,
   "metadata": {},
   "outputs": [],
   "source": [
    "y = pd.DataFrame({'Hugo_Symbol_x':list(x_l['Hugo_Symbol_x'].unique())})\n",
    "y['p_id_1']= [fetch_protein_id(\"homo_sapiens\", x, is_symbol=True, grch37=True) for x in y['Hugo_Symbol_x']]"
   ]
  },
  {
   "cell_type": "code",
   "execution_count": null,
   "metadata": {},
   "outputs": [],
   "source": [
    "yy = pd.DataFrame({'Hugo_Symbol_y':list(x_l['Hugo_Symbol_y'].unique())})\n",
    "yy['p_id_2']= [fetch_protein_id(\"homo_sapiens\", x, is_symbol=True, grch37=True) for x in yy['Hugo_Symbol_y']]"
   ]
  },
  {
   "cell_type": "code",
   "execution_count": null,
   "metadata": {},
   "outputs": [],
   "source": [
    "x_l = pd.merge(pd.merge(x_l, y, how = 'left'), yy, how = 'left')\n",
    "x_l = x_l[['Hugo_Symbol_x','p_id_1','HGVSp_h_1','Hugo_Symbol_y','p_id_2','HGVSp_h_2','Protospacer','Editor']]\n",
    "x_l.columns = ['Hugo_Symbol_1','p_id_1','HGVSp_h_1','Hugo_Symbol_2','p_id_2','HGVSp_h_2','Protospacer','Editor']"
   ]
  },
  {
   "cell_type": "code",
   "execution_count": null,
   "metadata": {},
   "outputs": [
    {
     "data": {
      "text/html": [
       "<div>\n",
       "<style scoped>\n",
       "    .dataframe tbody tr th:only-of-type {\n",
       "        vertical-align: middle;\n",
       "    }\n",
       "\n",
       "    .dataframe tbody tr th {\n",
       "        vertical-align: top;\n",
       "    }\n",
       "\n",
       "    .dataframe thead th {\n",
       "        text-align: right;\n",
       "    }\n",
       "</style>\n",
       "<table border=\"1\" class=\"dataframe\">\n",
       "  <thead>\n",
       "    <tr style=\"text-align: right;\">\n",
       "      <th></th>\n",
       "      <th>Hugo_Symbol_1</th>\n",
       "      <th>p_id_1</th>\n",
       "      <th>HGVSp_h_1</th>\n",
       "      <th>Hugo_Symbol_2</th>\n",
       "      <th>p_id_2</th>\n",
       "      <th>HGVSp_h_2</th>\n",
       "      <th>Protospacer</th>\n",
       "      <th>Editor</th>\n",
       "    </tr>\n",
       "  </thead>\n",
       "  <tbody>\n",
       "    <tr>\n",
       "      <th>0</th>\n",
       "      <td>CDKN2A</td>\n",
       "      <td>ENSP00000307101</td>\n",
       "      <td>W110*</td>\n",
       "      <td>CDKN2B</td>\n",
       "      <td>ENSP00000276925</td>\n",
       "      <td>W112*</td>\n",
       "      <td>GCCAGGCATCGCGCACGTCC</td>\n",
       "      <td>CBE</td>\n",
       "    </tr>\n",
       "    <tr>\n",
       "      <th>1</th>\n",
       "      <td>PTPN11</td>\n",
       "      <td>ENSP00000376376</td>\n",
       "      <td>E69K</td>\n",
       "      <td>PTPN6</td>\n",
       "      <td>ENSP00000443393</td>\n",
       "      <td>E67K</td>\n",
       "      <td>GTCCCCTCCATACAGGTCAT</td>\n",
       "      <td>CBE</td>\n",
       "    </tr>\n",
       "    <tr>\n",
       "      <th>2</th>\n",
       "      <td>SMARCA4</td>\n",
       "      <td>ENSP00000343896</td>\n",
       "      <td>R1192H</td>\n",
       "      <td>SMARCA2</td>\n",
       "      <td>ENSP00000392081</td>\n",
       "      <td>R1162H</td>\n",
       "      <td>GTCGTTCTGCTGCCCGATGC</td>\n",
       "      <td>CBE</td>\n",
       "    </tr>\n",
       "    <tr>\n",
       "      <th>3</th>\n",
       "      <td>SMARCA4</td>\n",
       "      <td>ENSP00000343896</td>\n",
       "      <td>R1192H</td>\n",
       "      <td>SMARCA2</td>\n",
       "      <td>ENSP00000392081</td>\n",
       "      <td>R1162H</td>\n",
       "      <td>GTCTGCTGCCCGATGCGGTG</td>\n",
       "      <td>CBE</td>\n",
       "    </tr>\n",
       "    <tr>\n",
       "      <th>4</th>\n",
       "      <td>SMARCA4</td>\n",
       "      <td>ENSP00000343896</td>\n",
       "      <td>R1192H</td>\n",
       "      <td>SMARCA2</td>\n",
       "      <td>ENSP00000392081</td>\n",
       "      <td>R1162H</td>\n",
       "      <td>GGTTCTGCTGCCCGATGCGG</td>\n",
       "      <td>CBE</td>\n",
       "    </tr>\n",
       "    <tr>\n",
       "      <th>...</th>\n",
       "      <td>...</td>\n",
       "      <td>...</td>\n",
       "      <td>...</td>\n",
       "      <td>...</td>\n",
       "      <td>...</td>\n",
       "      <td>...</td>\n",
       "      <td>...</td>\n",
       "      <td>...</td>\n",
       "    </tr>\n",
       "    <tr>\n",
       "      <th>749</th>\n",
       "      <td>GRIN2A</td>\n",
       "      <td>ENSP00000379818</td>\n",
       "      <td>I814T</td>\n",
       "      <td>GRIN2B</td>\n",
       "      <td>ENSP00000477455</td>\n",
       "      <td>I815T</td>\n",
       "      <td>GATGTTGTCAATGTCCAGCT</td>\n",
       "      <td>ABE</td>\n",
       "    </tr>\n",
       "    <tr>\n",
       "      <th>750</th>\n",
       "      <td>GRIN2A</td>\n",
       "      <td>ENSP00000379818</td>\n",
       "      <td>I814T</td>\n",
       "      <td>GRIN2B</td>\n",
       "      <td>ENSP00000477455</td>\n",
       "      <td>I815T</td>\n",
       "      <td>GCATGTTGTCAATGTCCAGC</td>\n",
       "      <td>ABE</td>\n",
       "    </tr>\n",
       "    <tr>\n",
       "      <th>751</th>\n",
       "      <td>BIRC3</td>\n",
       "      <td>ENSP00000263464</td>\n",
       "      <td>A279V</td>\n",
       "      <td>BIRC2</td>\n",
       "      <td>ENSP00000432410</td>\n",
       "      <td>A293V</td>\n",
       "      <td>GCTGAGCAGCTTGCAAGTGC</td>\n",
       "      <td>CBE</td>\n",
       "    </tr>\n",
       "    <tr>\n",
       "      <th>752</th>\n",
       "      <td>BIRC3</td>\n",
       "      <td>ENSP00000263464</td>\n",
       "      <td>R52H</td>\n",
       "      <td>BIRC2</td>\n",
       "      <td>ENSP00000432410</td>\n",
       "      <td>R69H</td>\n",
       "      <td>GCGAGCAAGACTCCTTTCTG</td>\n",
       "      <td>CBE</td>\n",
       "    </tr>\n",
       "    <tr>\n",
       "      <th>753</th>\n",
       "      <td>BIRC3</td>\n",
       "      <td>ENSP00000263464</td>\n",
       "      <td>R52H</td>\n",
       "      <td>BIRC2</td>\n",
       "      <td>ENSP00000432410</td>\n",
       "      <td>R69H</td>\n",
       "      <td>GCACGAGCAAGACTCCTTTC</td>\n",
       "      <td>CBE</td>\n",
       "    </tr>\n",
       "  </tbody>\n",
       "</table>\n",
       "<p>754 rows × 8 columns</p>\n",
       "</div>"
      ],
      "text/plain": [
       "    Hugo_Symbol_1           p_id_1 HGVSp_h_1 Hugo_Symbol_2           p_id_2  \\\n",
       "0          CDKN2A  ENSP00000307101     W110*        CDKN2B  ENSP00000276925   \n",
       "1          PTPN11  ENSP00000376376      E69K         PTPN6  ENSP00000443393   \n",
       "2         SMARCA4  ENSP00000343896    R1192H       SMARCA2  ENSP00000392081   \n",
       "3         SMARCA4  ENSP00000343896    R1192H       SMARCA2  ENSP00000392081   \n",
       "4         SMARCA4  ENSP00000343896    R1192H       SMARCA2  ENSP00000392081   \n",
       "..            ...              ...       ...           ...              ...   \n",
       "749        GRIN2A  ENSP00000379818     I814T        GRIN2B  ENSP00000477455   \n",
       "750        GRIN2A  ENSP00000379818     I814T        GRIN2B  ENSP00000477455   \n",
       "751         BIRC3  ENSP00000263464     A279V         BIRC2  ENSP00000432410   \n",
       "752         BIRC3  ENSP00000263464      R52H         BIRC2  ENSP00000432410   \n",
       "753         BIRC3  ENSP00000263464      R52H         BIRC2  ENSP00000432410   \n",
       "\n",
       "    HGVSp_h_2           Protospacer Editor  \n",
       "0       W112*  GCCAGGCATCGCGCACGTCC    CBE  \n",
       "1        E67K  GTCCCCTCCATACAGGTCAT    CBE  \n",
       "2      R1162H  GTCGTTCTGCTGCCCGATGC    CBE  \n",
       "3      R1162H  GTCTGCTGCCCGATGCGGTG    CBE  \n",
       "4      R1162H  GGTTCTGCTGCCCGATGCGG    CBE  \n",
       "..        ...                   ...    ...  \n",
       "749     I815T  GATGTTGTCAATGTCCAGCT    ABE  \n",
       "750     I815T  GCATGTTGTCAATGTCCAGC    ABE  \n",
       "751     A293V  GCTGAGCAGCTTGCAAGTGC    CBE  \n",
       "752      R69H  GCGAGCAAGACTCCTTTCTG    CBE  \n",
       "753      R69H  GCACGAGCAAGACTCCTTTC    CBE  \n",
       "\n",
       "[754 rows x 8 columns]"
      ]
     },
     "metadata": {},
     "output_type": "display_data"
    }
   ],
   "source": [
    "x_l"
   ]
  },
  {
   "cell_type": "code",
   "execution_count": null,
   "metadata": {},
   "outputs": [],
   "source": [
    "# x_ll = x_l[['*' not in x for x in x_l['HGVSp_h_1']]].reset_index(drop=True)\n",
    "x_ll = x_l[['delins' not in x for x in x_l['HGVSp_h_1']]].reset_index(drop=True)"
   ]
  },
  {
   "cell_type": "code",
   "execution_count": null,
   "metadata": {},
   "outputs": [],
   "source": [
    "def get_uniprot_ids_from_gene_symbols(gene_symbols):\n",
    "    base_url = \"https://rest.uniprot.org/uniprotkb/search\"\n",
    "    uniprot_ids = {}\n",
    "\n",
    "    for gene_symbol in gene_symbols:\n",
    "        query = f\"query=gene_exact:{gene_symbol}&fields=accession\"\n",
    "        url = f\"{base_url}?{query}\"\n",
    "        headers = {\n",
    "            'Content-Type': 'application/json',\n",
    "            'Accept': 'application/json'\n",
    "        }\n",
    "\n",
    "        response = requests.get(url, headers=headers)\n",
    "        if response.status_code == 200:\n",
    "            data = response.json()\n",
    "            results = data.get('results', [])\n",
    "            if results:\n",
    "                uniprot_id = results[0].get('primaryAccession', None)\n",
    "                uniprot_ids[gene_symbol] = uniprot_id\n",
    "            else:\n",
    "                uniprot_ids[gene_symbol] = None\n",
    "        else:\n",
    "            print(f\"Failed to retrieve data for gene symbol: {gene_symbol}\")\n",
    "        \n",
    "        # 添加延迟以避免速率限制\n",
    "        time.sleep(1)\n",
    "\n",
    "    return uniprot_ids"
   ]
  },
  {
   "cell_type": "code",
   "execution_count": null,
   "metadata": {},
   "outputs": [],
   "source": [
    "# 示例基因符号列表\n",
    "dict_gene = dict()\n",
    "gene_symbols = list(x_ll['Hugo_Symbol_1'].unique()) + list(x_ll['Hugo_Symbol_2'].unique())\n",
    "\n",
    "uniprot_ids = get_uniprot_ids_from_gene_symbols(gene_symbols)\n",
    "for gene_symbol, uniprot_id in uniprot_ids.items():\n",
    "    dict_gene.update({uniprot_id:gene_symbol})"
   ]
  },
  {
   "cell_type": "code",
   "execution_count": null,
   "metadata": {},
   "outputs": [],
   "source": [
    "file_path = '/Users/kexindong/Documents/GitHub/Database/Pathogenecity/AlphaMIssense/AlphaMissense_aa_substitutions.tsv'\n",
    "df_am = pd.read_csv(file_path, sep = '\\t',comment='#')"
   ]
  },
  {
   "cell_type": "code",
   "execution_count": null,
   "metadata": {},
   "outputs": [],
   "source": [
    "df_am = df_am[df_am['uniprot_id'].isin(dict_gene.keys())].reset_index(drop=True)"
   ]
  },
  {
   "cell_type": "code",
   "execution_count": null,
   "metadata": {},
   "outputs": [],
   "source": [
    "df_am['uniprot_id'] = [dict_gene[x] for x in df_am['uniprot_id']]"
   ]
  },
  {
   "cell_type": "code",
   "execution_count": null,
   "metadata": {},
   "outputs": [],
   "source": [
    "df_am_1 = df_am.copy()\n",
    "df_am_1.columns=['Hugo_Symbol_1','HGVSp_h_1','am_pathogenicity_1','am_class_1']\n",
    "df_am.columns =['Hugo_Symbol_2','HGVSp_h_2','am_pathogenicity_2','am_class_2']"
   ]
  },
  {
   "cell_type": "code",
   "execution_count": null,
   "metadata": {},
   "outputs": [],
   "source": [
    "df_plot = pd.merge(pd.merge(x_ll, df_am_1, how = 'inner'),df_am, how = 'inner').drop_duplicates().reset_index(drop=True)"
   ]
  },
  {
   "cell_type": "code",
   "execution_count": null,
   "metadata": {},
   "outputs": [],
   "source": [
    "df_h2m = df_plot\n",
    "# df_h2m['color_class'] = [color_dict_h2m[x] for x in df_h2m['class']]\n",
    "df_h2m['color_score'] = df_h2m.apply(lambda row: combined_color_dict[(row['am_class_1'], row['am_class_2'])], axis=1)"
   ]
  },
  {
   "cell_type": "code",
   "execution_count": null,
   "metadata": {},
   "outputs": [],
   "source": [
    "df_plot.to_csv('/Users/kexindong/Documents/GitHub/Output/paralog/h2h_be_hit_by_single.csv', index = False)"
   ]
  },
  {
   "cell_type": "code",
   "execution_count": null,
   "metadata": {},
   "outputs": [],
   "source": [
    "import matplotlib.colors as mcolors\n",
    "import numpy as np\n",
    "# Define the initial color dictionary\n",
    "color_dict = {\n",
    "    'pathogenic': 'darkred',\n",
    "    'benign': 'darkblue',\n",
    "    'ambiguous': 'grey'\n",
    "}\n",
    "\n",
    "# Function to blend two colors\n",
    "def blend_colors(color1, color2):\n",
    "    # Convert color names to RGBA\n",
    "    rgb1 = np.array(mcolors.to_rgb(color1))\n",
    "    rgb2 = np.array(mcolors.to_rgb(color2))\n",
    "    # Calculate the average of the RGB components\n",
    "    blended_rgb = (rgb1 + rgb2) / 2\n",
    "    # Convert the blended RGB back to hex color code\n",
    "    return mcolors.to_hex(blended_rgb)\n",
    "\n",
    "# Create a combined color dictionary\n",
    "combined_color_dict = {}\n",
    "for key1 in color_dict:\n",
    "    for key2 in color_dict:\n",
    "        # Blend each pair of colors\n",
    "        combined_color_dict[(key1, key2)] = blend_colors(color_dict[key1], color_dict[key2])"
   ]
  }
 ],
 "metadata": {
  "kernelspec": {
   "display_name": "Python 3",
   "language": "python",
   "name": "python3"
  },
  "language_info": {
   "codemirror_mode": {
    "name": "ipython",
    "version": 3
   },
   "file_extension": ".py",
   "mimetype": "text/x-python",
   "name": "python",
   "nbconvert_exporter": "python",
   "pygments_lexer": "ipython3",
   "version": "3.10.14"
  }
 },
 "nbformat": 4,
 "nbformat_minor": 2
}
