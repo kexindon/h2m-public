{
 "cells": [
  {
   "cell_type": "markdown",
   "metadata": {},
   "source": [
    "This generates MBES2.0 with updated h2m 1.0.6.  \n",
    "Kexin Dong  \n",
    "Jan 15, 2023  "
   ]
  },
  {
   "cell_type": "code",
   "execution_count": 41,
   "metadata": {},
   "outputs": [],
   "source": [
    "import os\n",
    "import json\n",
    "import requests\n",
    "import gffutils\n",
    "import Bio.Align\n",
    "from Bio import pairwise2\n",
    "from Bio.Data import CodonTable\n",
    "import pegg\n",
    "from itertools import product\n",
    "import zipfile\n",
    "import h2m\n",
    "import pandas as pd\n",
    "import gc"
   ]
  },
  {
   "cell_type": "code",
   "execution_count": null,
   "metadata": {},
   "outputs": [],
   "source": [
    "# load refgenome\n",
    "path_h_ref, path_m_ref = '/Users/gorkordkx/Documents/Database/RefGenome/ncbi-2023-09-12/GCF_000001405.25_GRCh37.p13_genomic.fna.gz', '/Users/gorkordkx/Documents/Database/RefGenome/mouse-2023-09-13/GCF_000001635.27_GRCm39_genomic.fna.gz'\n",
    "# remember to replace the paths with yours\n",
    "records_h, index_list_h = h2m.genome_loader(path_h_ref)\n",
    "records_m, index_list_m  = h2m.genome_loader(path_m_ref)"
   ]
  },
  {
   "cell_type": "code",
   "execution_count": null,
   "metadata": {},
   "outputs": [],
   "source": [
    "path_h_anno, path_m_anno = '/Users/gorkordkx/Documents/Database/Genecode/gencode_v19_GRCh37.db', '/Users/gorkordkx/Documents/Database/Genecode/gencode_vm33_GRCm39.db'\n",
    "# remember to replace the paths with yours\n",
    "db_h, db_m = h2m.anno_loader(path_h_anno), h2m.anno_loader(path_m_anno)"
   ]
  },
  {
   "cell_type": "code",
   "execution_count": 1,
   "metadata": {},
   "outputs": [
    {
     "name": "stderr",
     "output_type": "stream",
     "text": [
      "/var/folders/r5/h0l2l6hx09d0shb15xt6sdr40000gn/T/ipykernel_98233/3555049352.py:2: DtypeWarning: Columns (4,12,17,18,19) have mixed types. Specify dtype option on import or set low_memory=False.\n",
      "  df_mutation = pd.read_csv('/Users/gorkordkx/Desktop/Flab - Drylab/Database/AACR-GENIE/v13.1/data_mutations_extended.txt', header=0, sep='\\t', comment=\"#\", na_values = 'Not Applicable')\n"
     ]
    }
   ],
   "source": [
    "import pandas as pd\n",
    "df_mutation = pd.read_csv('/Users/gorkordkx/Desktop/Flab - Drylab/Database/AACR-GENIE/v13.1/data_mutations_extended.txt', header=0, sep='\\t', comment=\"#\", na_values = 'Not Applicable')\n",
    "# only keep MSK data\n",
    "df = df_mutation[df_mutation['Center']=='MSK']\n",
    "len(pd.DataFrame(df['Tumor_Sample_Barcode'].value_counts()))\n",
    "df_mutation = df_mutation.iloc[:,[0, 37,2, 5,6,9,10,11,13,16]].reset_index(drop=True)\n",
    "df_mutation = df_mutation[df_mutation['Center']=='MSK'].reset_index(drop=True)\n",
    "df_mutation = df_mutation[df_mutation['Variant_Type'] == 'SNP'].reset_index(drop=True)\n",
    "df_mutation = df_mutation.dropna(subset='HGVSc').reset_index(drop=True)\n",
    "df_mutation['HGVSc'] = [x.split(':')[0] for x in df_mutation['HGVSc']]\n",
    "df_mutation = df_mutation.drop_duplicates().reset_index(drop=True)"
   ]
  },
  {
   "cell_type": "code",
   "execution_count": null,
   "metadata": {},
   "outputs": [
    {
     "data": {
      "text/html": [
       "<div>\n",
       "<style scoped>\n",
       "    .dataframe tbody tr th:only-of-type {\n",
       "        vertical-align: middle;\n",
       "    }\n",
       "\n",
       "    .dataframe tbody tr th {\n",
       "        vertical-align: top;\n",
       "    }\n",
       "\n",
       "    .dataframe thead th {\n",
       "        text-align: right;\n",
       "    }\n",
       "</style>\n",
       "<table border=\"1\" class=\"dataframe\">\n",
       "  <thead>\n",
       "    <tr style=\"text-align: right;\">\n",
       "      <th></th>\n",
       "      <th>Hugo_Symbol</th>\n",
       "      <th>HGVSc</th>\n",
       "      <th>Center</th>\n",
       "      <th>Start_Position</th>\n",
       "      <th>End_Position</th>\n",
       "      <th>Variant_Classification</th>\n",
       "      <th>Variant_Type</th>\n",
       "      <th>Reference_Allele</th>\n",
       "      <th>Tumor_Seq_Allele2</th>\n",
       "      <th>Tumor_Sample_Barcode</th>\n",
       "    </tr>\n",
       "  </thead>\n",
       "  <tbody>\n",
       "    <tr>\n",
       "      <th>0</th>\n",
       "      <td>SH2D1A</td>\n",
       "      <td>ENST00000371139.4</td>\n",
       "      <td>MSK</td>\n",
       "      <td>123504048</td>\n",
       "      <td>123504048</td>\n",
       "      <td>Missense_Mutation</td>\n",
       "      <td>SNP</td>\n",
       "      <td>G</td>\n",
       "      <td>T</td>\n",
       "      <td>GENIE-MSK-P-0048298-T02-IM6</td>\n",
       "    </tr>\n",
       "    <tr>\n",
       "      <th>1</th>\n",
       "      <td>KRAS</td>\n",
       "      <td>ENST00000256078.4</td>\n",
       "      <td>MSK</td>\n",
       "      <td>25378562</td>\n",
       "      <td>25378562</td>\n",
       "      <td>Missense_Mutation</td>\n",
       "      <td>SNP</td>\n",
       "      <td>C</td>\n",
       "      <td>T</td>\n",
       "      <td>GENIE-MSK-P-0030423-T01-IH3</td>\n",
       "    </tr>\n",
       "    <tr>\n",
       "      <th>2</th>\n",
       "      <td>TMPRSS2</td>\n",
       "      <td>ENST00000332149.5</td>\n",
       "      <td>MSK</td>\n",
       "      <td>42866465</td>\n",
       "      <td>42866465</td>\n",
       "      <td>Missense_Mutation</td>\n",
       "      <td>SNP</td>\n",
       "      <td>C</td>\n",
       "      <td>T</td>\n",
       "      <td>GENIE-MSK-P-0052339-T02-IM6</td>\n",
       "    </tr>\n",
       "    <tr>\n",
       "      <th>3</th>\n",
       "      <td>TAP2</td>\n",
       "      <td>ENST00000374897.2</td>\n",
       "      <td>MSK</td>\n",
       "      <td>32800190</td>\n",
       "      <td>32800190</td>\n",
       "      <td>Nonsense_Mutation</td>\n",
       "      <td>SNP</td>\n",
       "      <td>G</td>\n",
       "      <td>A</td>\n",
       "      <td>GENIE-MSK-P-0002113-T02-IM6</td>\n",
       "    </tr>\n",
       "    <tr>\n",
       "      <th>4</th>\n",
       "      <td>INPP4B</td>\n",
       "      <td>ENST00000262992.4</td>\n",
       "      <td>MSK</td>\n",
       "      <td>143003288</td>\n",
       "      <td>143003288</td>\n",
       "      <td>Missense_Mutation</td>\n",
       "      <td>SNP</td>\n",
       "      <td>T</td>\n",
       "      <td>G</td>\n",
       "      <td>GENIE-MSK-P-0043596-T01-IM6</td>\n",
       "    </tr>\n",
       "    <tr>\n",
       "      <th>...</th>\n",
       "      <td>...</td>\n",
       "      <td>...</td>\n",
       "      <td>...</td>\n",
       "      <td>...</td>\n",
       "      <td>...</td>\n",
       "      <td>...</td>\n",
       "      <td>...</td>\n",
       "      <td>...</td>\n",
       "      <td>...</td>\n",
       "      <td>...</td>\n",
       "    </tr>\n",
       "    <tr>\n",
       "      <th>442234</th>\n",
       "      <td>RNF43</td>\n",
       "      <td>ENST00000407977.2</td>\n",
       "      <td>MSK</td>\n",
       "      <td>56432308</td>\n",
       "      <td>56432308</td>\n",
       "      <td>Missense_Mutation</td>\n",
       "      <td>SNP</td>\n",
       "      <td>A</td>\n",
       "      <td>G</td>\n",
       "      <td>GENIE-MSK-P-0046563-T01-IM6</td>\n",
       "    </tr>\n",
       "    <tr>\n",
       "      <th>442235</th>\n",
       "      <td>CDK8</td>\n",
       "      <td>ENST00000381527.3</td>\n",
       "      <td>MSK</td>\n",
       "      <td>26959350</td>\n",
       "      <td>26959350</td>\n",
       "      <td>Missense_Mutation</td>\n",
       "      <td>SNP</td>\n",
       "      <td>G</td>\n",
       "      <td>C</td>\n",
       "      <td>GENIE-MSK-P-0029742-T01-IM6</td>\n",
       "    </tr>\n",
       "    <tr>\n",
       "      <th>442236</th>\n",
       "      <td>TP53</td>\n",
       "      <td>ENST00000269305.4</td>\n",
       "      <td>MSK</td>\n",
       "      <td>7578404</td>\n",
       "      <td>7578404</td>\n",
       "      <td>Missense_Mutation</td>\n",
       "      <td>SNP</td>\n",
       "      <td>A</td>\n",
       "      <td>T</td>\n",
       "      <td>GENIE-MSK-P-0041476-T01-IM6</td>\n",
       "    </tr>\n",
       "    <tr>\n",
       "      <th>442237</th>\n",
       "      <td>EP300</td>\n",
       "      <td>ENST00000263253.7</td>\n",
       "      <td>MSK</td>\n",
       "      <td>41553365</td>\n",
       "      <td>41553365</td>\n",
       "      <td>Nonsense_Mutation</td>\n",
       "      <td>SNP</td>\n",
       "      <td>G</td>\n",
       "      <td>T</td>\n",
       "      <td>GENIE-MSK-P-0066956-T02-IM7</td>\n",
       "    </tr>\n",
       "    <tr>\n",
       "      <th>442238</th>\n",
       "      <td>NOTCH2</td>\n",
       "      <td>ENST00000256646.2</td>\n",
       "      <td>MSK</td>\n",
       "      <td>120464358</td>\n",
       "      <td>120464358</td>\n",
       "      <td>Missense_Mutation</td>\n",
       "      <td>SNP</td>\n",
       "      <td>C</td>\n",
       "      <td>T</td>\n",
       "      <td>GENIE-MSK-P-0052484-T01-IM6</td>\n",
       "    </tr>\n",
       "  </tbody>\n",
       "</table>\n",
       "<p>442239 rows × 10 columns</p>\n",
       "</div>"
      ],
      "text/plain": [
       "       Hugo_Symbol              HGVSc Center  Start_Position  End_Position  \\\n",
       "0           SH2D1A  ENST00000371139.4    MSK       123504048     123504048   \n",
       "1             KRAS  ENST00000256078.4    MSK        25378562      25378562   \n",
       "2          TMPRSS2  ENST00000332149.5    MSK        42866465      42866465   \n",
       "3             TAP2  ENST00000374897.2    MSK        32800190      32800190   \n",
       "4           INPP4B  ENST00000262992.4    MSK       143003288     143003288   \n",
       "...            ...                ...    ...             ...           ...   \n",
       "442234       RNF43  ENST00000407977.2    MSK        56432308      56432308   \n",
       "442235        CDK8  ENST00000381527.3    MSK        26959350      26959350   \n",
       "442236        TP53  ENST00000269305.4    MSK         7578404       7578404   \n",
       "442237       EP300  ENST00000263253.7    MSK        41553365      41553365   \n",
       "442238      NOTCH2  ENST00000256646.2    MSK       120464358     120464358   \n",
       "\n",
       "       Variant_Classification Variant_Type Reference_Allele Tumor_Seq_Allele2  \\\n",
       "0           Missense_Mutation          SNP                G                 T   \n",
       "1           Missense_Mutation          SNP                C                 T   \n",
       "2           Missense_Mutation          SNP                C                 T   \n",
       "3           Nonsense_Mutation          SNP                G                 A   \n",
       "4           Missense_Mutation          SNP                T                 G   \n",
       "...                       ...          ...              ...               ...   \n",
       "442234      Missense_Mutation          SNP                A                 G   \n",
       "442235      Missense_Mutation          SNP                G                 C   \n",
       "442236      Missense_Mutation          SNP                A                 T   \n",
       "442237      Nonsense_Mutation          SNP                G                 T   \n",
       "442238      Missense_Mutation          SNP                C                 T   \n",
       "\n",
       "               Tumor_Sample_Barcode  \n",
       "0       GENIE-MSK-P-0048298-T02-IM6  \n",
       "1       GENIE-MSK-P-0030423-T01-IH3  \n",
       "2       GENIE-MSK-P-0052339-T02-IM6  \n",
       "3       GENIE-MSK-P-0002113-T02-IM6  \n",
       "4       GENIE-MSK-P-0043596-T01-IM6  \n",
       "...                             ...  \n",
       "442234  GENIE-MSK-P-0046563-T01-IM6  \n",
       "442235  GENIE-MSK-P-0029742-T01-IM6  \n",
       "442236  GENIE-MSK-P-0041476-T01-IM6  \n",
       "442237  GENIE-MSK-P-0066956-T02-IM7  \n",
       "442238  GENIE-MSK-P-0052484-T01-IM6  \n",
       "\n",
       "[442239 rows x 10 columns]"
      ]
     },
     "execution_count": 9,
     "metadata": {},
     "output_type": "execute_result"
    }
   ],
   "source": [
    "df_mutation"
   ]
  },
  {
   "cell_type": "code",
   "execution_count": null,
   "metadata": {},
   "outputs": [],
   "source": [
    "df_mutation_count = df_mutation.groupby([df_mutation.columns.tolist()[x] for x in [0,1,3,4,5,6,7,8]], as_index = False).size()\n",
    "df_mutation_count_sorted = df_mutation_count.sort_values(by = 'size')\n",
    "df_mutation_count_sorted.columns =['gene_name_h', 'tx_id_h','start_h','end_h','class_h','type_h','ref_seq_h','alt_seq_h','count']\n",
    "#df_mutation_count_sorted.reset_index(drop=True).to_csv('aacr_all_count.csv', index = False)"
   ]
  },
  {
   "cell_type": "code",
   "execution_count": null,
   "metadata": {},
   "outputs": [
    {
     "data": {
      "text/plain": [
       "25291"
      ]
     },
     "execution_count": 11,
     "metadata": {},
     "output_type": "execute_result"
    }
   ],
   "source": [
    "df_mutation_count_sorted_cut = df_mutation_count_sorted[df_mutation_count_sorted['count']>2].reset_index(drop=True)\n",
    "len(df_mutation_count_sorted_cut)"
   ]
  },
  {
   "cell_type": "code",
   "execution_count": null,
   "metadata": {},
   "outputs": [],
   "source": [
    "df_mutation_BE = df_mutation_count_sorted_cut.sort_values(by='gene_name_h').reset_index(drop=True)\n",
    "df_mutation_BE['index'] = range(len(df_mutation_BE))\n",
    "list_of_counts = df_mutation_BE['gene_name_h'].value_counts(sort=False).to_list()"
   ]
  },
  {
   "cell_type": "code",
   "execution_count": null,
   "metadata": {},
   "outputs": [],
   "source": [
    "df_mutation_BE = df_mutation_BE.iloc[:,[0,1,2,3,5,6,7,4,8,9]]"
   ]
  },
  {
   "cell_type": "code",
   "execution_count": null,
   "metadata": {},
   "outputs": [
    {
     "data": {
      "text/plain": [
       "Missense_Mutation         20298\n",
       "Nonsense_Mutation          3973\n",
       "Splice_Site                 885\n",
       "Intron                       49\n",
       "Translation_Start_Site       42\n",
       "5'UTR                        13\n",
       "Nonstop_Mutation             11\n",
       "3'UTR                         8\n",
       "Splice_Region                 8\n",
       "Silent                        4\n",
       "Name: class_h, dtype: int64"
      ]
     },
     "execution_count": 15,
     "metadata": {},
     "output_type": "execute_result"
    }
   ],
   "source": [
    "df_mutation_BE['class_h'].value_counts()"
   ]
  },
  {
   "cell_type": "code",
   "execution_count": null,
   "metadata": {},
   "outputs": [],
   "source": [
    "list_of_coding = [\n",
    "    'Missense_Mutation',\n",
    "    'Nonsense_Mutation',\n",
    "    'Nonstop_Mutation',\n",
    "    'Silent'\n",
    "]\n",
    "df_mutation_BE_coding = df_mutation_BE[[x in list_of_coding for x in df_mutation_BE['class_h']]].reset_index(drop=True)\n",
    "df_mutation_BE_non_coding = df_mutation_BE[[x not in list_of_coding for x in df_mutation_BE['class_h']]].reset_index(drop=True)"
   ]
  },
  {
   "cell_type": "markdown",
   "metadata": {},
   "source": [
    "# For non-coding ones"
   ]
  },
  {
   "cell_type": "code",
   "execution_count": null,
   "metadata": {},
   "outputs": [
    {
     "data": {
      "text/plain": [
       "568"
      ]
     },
     "execution_count": 12,
     "metadata": {},
     "output_type": "execute_result"
    }
   ],
   "source": [
    "len(list_of_counts)"
   ]
  },
  {
   "cell_type": "code",
   "execution_count": null,
   "metadata": {},
   "outputs": [],
   "source": [
    "# df_mutation_BE_coding.to_csv('input_MSK_over_2_coding.csv', index=False)\n",
    "# df_mutation_BE_non_coding.to_csv('input_MSK_over_2_non_coding.csv', index=False)\n",
    "\n",
    "df_mutation_BE_non_coding = pd.read_csv('input_MSK_over_2_non_coding.csv')\n",
    "list_of_counts = df_mutation_BE_non_coding['gene_name_h'].value_counts(sort=False).to_list()\n",
    "df_mutation_BE = df_mutation_BE_non_coding"
   ]
  },
  {
   "cell_type": "code",
   "execution_count": null,
   "metadata": {},
   "outputs": [],
   "source": [
    "result_list = []\n",
    "df_list = []\n",
    "t = 0\n",
    "r = 0\n",
    "for c_index, c_count in enumerate(list_of_counts):\n",
    "    print(c_index)\n",
    "    gene_name_h, tx_id_h  = df_mutation_BE.iloc[r,:2].to_list()\n",
    "    # if gene_name_h in dict\n",
    "    if gene_name_h in h2m.mouse_tx_id_dict.keys():\n",
    "        tx_id_m = h2m.mouse_tx_id_dict[gene_name_h]\n",
    "    else:\n",
    "        try:\n",
    "            gene_name_m = h2m.query(gene_name_h, show=False)[0]['gene_name_m']\n",
    "            tx_id_m = h2m.get_tx_id(gene_name_m,'m', show=False)[3]\n",
    "            # or input by yourself\n",
    "        except:\n",
    "            r = r+c_count\n",
    "            continue\n",
    "    \n",
    "    for i in range(c_count):\n",
    "        start_h, end_h, ty_h, ref_seq_h, alt_seq_h = df_mutation_BE.iloc[r,2:7].to_list()\n",
    "        unique_index = df_mutation_BE.iloc[r,9]\n",
    "        try:\n",
    "            result = h2m.model(records_h, index_list_h, records_m, index_list_m, db_h, db_m, tx_id_h, tx_id_m, start_h, end_h, alt_seq_h, ty_h, ver = 37, ref_seq_h=ref_seq_h, param='BE', batch=False)\n",
    "        except:\n",
    "            r = r+1\n",
    "        else:\n",
    "            if type(result) == list: # multiple alternative modeling\n",
    "                for k in result:\n",
    "                    k['index'] = unique_index\n",
    "                    r = r+1\n",
    "                    result_list.append(k)\n",
    "            else:\n",
    "                result['index'] = unique_index\n",
    "                r = r+1\n",
    "                result_list.append(result)\n",
    "        \n",
    "    df_list.append(pd.DataFrame(result_list))\n",
    "    result_list = []\n",
    "    gc.collect()\n",
    "\n",
    "df_result = pd.concat(df_list, ignore_index=True)\n",
    "df_result.to_csv('non_coding_msk_over_2_complete_v2.csv',index=False)\n",
    "df_output_noncoding = df_result[df_result['status']==True].reset_index(drop=True)\n",
    "df_output_noncoding.to_csv('msk_modelable_non_coding_over_2_v2.csv', index=False)\n",
    "\n",
    "# For coding ones\n",
    "# df_mutation_BE_coding.to_csv('input_MSK_over_2_coding.csv', index=False)\n",
    "# df_mutation_BE_non_coding.to_csv('input_MSK_over_2_non_coding.csv', index=False)\n",
    "\n",
    "df_mutation_BE = pd.read_csv('input_MSK_over_2_coding.csv')\n",
    "list_of_counts = df_mutation_BE['gene_name_h'].value_counts(sort=False).to_list()\n",
    "result_list = []\n",
    "df_list = []\n",
    "t = 0\n",
    "r = 0\n",
    "for c_index, c_count in enumerate(list_of_counts):\n",
    "    print(c_index)\n",
    "    gene_name_h, tx_id_h  = df_mutation_BE.iloc[r,:2].to_list()\n",
    "\n",
    "    # if gene_name_h in dict\n",
    "    ##################################### get tx_id_m #############################\n",
    "    if gene_name_h in h2m.mouse_tx_id_dict.keys():\n",
    "        tx_id_m = h2m.mouse_tx_id_dict[gene_name_h]\n",
    "    else:\n",
    "        try:\n",
    "            gene_name_m = h2m.query(gene_name_h, show=False)[0]['gene_name_m']\n",
    "            tx_id_m = h2m.get_tx_id(gene_name_m,'m', show=False)[3]\n",
    "            # or input by yourself\n",
    "        except:\n",
    "            r = r+c_count\n",
    "            continue\n",
    "    #################################### align ###################################\n",
    "    align_input = h2m.get_tx_and_align(records_h, index_list_h, records_m, index_list_m, db_h, db_m, tx_id_h, tx_id_m, ver = 37, align = True)\n",
    "    #################################### model ###################################\n",
    "    for i in range(c_count):\n",
    "        start_h, end_h, ty_h, ref_seq_h, alt_seq_h = df_mutation_BE.iloc[r,2:7].to_list()\n",
    "        unique_index = df_mutation_BE.iloc[r,9]\n",
    "        try:\n",
    "            result = h2m.model(records_h, index_list_h, records_m, index_list_m, db_h, db_m, tx_id_h, tx_id_m, start_h, end_h, alt_seq_h, ty_h, ver = 37, ref_seq_h=ref_seq_h, param='BE', batch=True, align_input=align_input)\n",
    "        except:\n",
    "            r = r+1\n",
    "        else:\n",
    "            if type(result) == list: # multiple alternative modeling\n",
    "                for k in result:\n",
    "                    k['index'] = unique_index\n",
    "                    r = r+1\n",
    "                    result_list.append(k)\n",
    "            else:\n",
    "                result['index'] = unique_index\n",
    "                r = r+1\n",
    "                result_list.append(result)\n",
    "    \n",
    "    df_list.append(pd.DataFrame(result_list))\n",
    "    result_list = []\n",
    "    gc.collect()\n",
    "\n",
    "df_result_2 = pd.concat(df_list, ignore_index=True)\n",
    "df_result_2.to_csv('coding_msk_over_2_complete_v2.csv',index=False)\n"
   ]
  },
  {
   "cell_type": "code",
   "execution_count": null,
   "metadata": {},
   "outputs": [],
   "source": [
    "df_output_coding.to_csv('msk_modelable_coding_over_2_v2.csv', index=False)\n",
    "df_result_2.to_csv('coding_msk_over_2_complete_v2.csv',index=False)\n",
    "df_output_coding = df_result_2[df_result_2['status']==True].reset_index(drop=True)\n",
    "df_output_coding.to_csv('msk_modelable_coding_over_2_v2.csv', index=False)\n",
    "\n",
    "df_result_bind = pd.concat([df_output_coding, df_output_noncoding], ignore_index=True)\n",
    "df_result_bind = df_result_bind.sort_values(by='index').reset_index(drop=True)\n",
    "df_result_bind.to_csv('msk_over_2_complete_v2.csv',index=False)"
   ]
  },
  {
   "cell_type": "code",
   "execution_count": null,
   "metadata": {},
   "outputs": [],
   "source": [
    "df_result_bind = pd.read_csv('msk_over_2_complete_v2.csv')"
   ]
  },
  {
   "cell_type": "code",
   "execution_count": null,
   "metadata": {},
   "outputs": [],
   "source": [
    "df_result_bind_list_index = [e for e,x in enumerate(list(df_result_bind['HGVSc_m'])) if x.split('>')[-1]=='None' ]\n",
    "df_result_bind_wrong = df_result_bind[df_result_bind.index.isin(df_result_bind_list_index)]\n",
    "df_result_bind_correct = df_result_bind[~df_result_bind.index.isin(df_result_bind_list_index)]\n",
    "df_result_bind_wrong = df_result_bind_wrong.reset_index(drop=True)\n",
    "df_result_bind_wrong['HGVSc_m'] = [x[:-9] for x in df_result_bind_wrong['HGVSc_m']]\n",
    "df_result_bind_wrong['HGVSc_h'][0][-3:]\n",
    "df_result_bind_wrong['HGVSc_m'] = [x+y[-3:] for x,y in zip(df_result_bind_wrong['HGVSc_m'],df_result_bind_wrong['HGVSc_h'])]\n"
   ]
  },
  {
   "cell_type": "code",
   "execution_count": null,
   "metadata": {},
   "outputs": [],
   "source": [
    "df_mutation_BE_coding = pd.read_csv('input_MSK_over_2_coding.csv')\n",
    "df_mutation_BE_non_coding = pd.read_csv('input_MSK_over_2_non_coding.csv')"
   ]
  },
  {
   "cell_type": "code",
   "execution_count": null,
   "metadata": {},
   "outputs": [],
   "source": [
    "list(df_mutation.columns).index('HGVSp_Short')\n",
    "df_mutation = df_mutation.iloc[:,[0, 37,2,5,6,9,10,11,13,16, 39]].reset_index(drop=True)\n",
    "df_mutation = df_mutation[df_mutation['Center']=='MSK'].reset_index(drop=True)\n",
    "df_mutation = df_mutation[df_mutation['Variant_Type'] == 'SNP'].reset_index(drop=True)\n",
    "#df_mutation = df_mutation.dropna(subset='HGVSc').reset_index(drop=True)\n",
    "#df_mutation['HGVSc'] = [x.split(':')[0] for x in df_mutation['HGVSc']]\n",
    "df_mutation = df_mutation.drop_duplicates().reset_index(drop=True)"
   ]
  },
  {
   "cell_type": "code",
   "execution_count": null,
   "metadata": {},
   "outputs": [],
   "source": [
    "df_result_bind_wrong = df_result_bind_wrong.drop('HGVSp_h', axis=1)"
   ]
  },
  {
   "cell_type": "code",
   "execution_count": null,
   "metadata": {},
   "outputs": [],
   "source": [
    "df_mutation_to_merge = df_mutation.iloc[:,[0,3,4,7,8,10]]\n",
    "df_mutation_to_merge['HGVSp_Short'] = [str(x) for x in df_mutation_to_merge['HGVSp_Short']]\n",
    "df_mutation_to_merge['HGVSp_Short'] = [x[2:] for x in df_mutation_to_merge['HGVSp_Short']]\n",
    "df_mutation_to_merge.columns = ['gene_name_h','start_h','end_h','ref_seq_h','alt_seq_h','HGVSp_h']\n",
    "df_mutation_BE_new = pd.merge(df_mutation_BE_non_coding, df_mutation_to_merge, on =['gene_name_h','start_h','end_h','ref_seq_h','alt_seq_h'],how = 'left')\n",
    "df_mutation_BE_new = df_mutation_BE_new.drop_duplicates().reset_index(drop=True)"
   ]
  },
  {
   "cell_type": "code",
   "execution_count": null,
   "metadata": {},
   "outputs": [
    {
     "data": {
      "text/plain": [
       "Index(['gene_name_h', 'gene_id_h', 'tx_id_m', 'chr_h', 'exon_num_h',\n",
       "       'strand_h', 'start_h', 'end_h', 'ref_seq_h', 'alt_seq_h', 'HGVSc_h',\n",
       "       'classification_h', 'exon_h', 'type_h', 'status', 'error', 'statement',\n",
       "       'gene_name_m', 'gene_id_m', 'chr_m', 'exon_num_m', 'strand_m', 'type_m',\n",
       "       'classification_m', 'exon_m', 'start_m_ori', 'end_m_ori',\n",
       "       'ref_seq_m_ori', 'alt_seq_m_ori', 'HGVSc_m_ori', 'HGVSp_m_ori',\n",
       "       'start_m', 'end_m', 'ref_seq_m', 'alt_seq_m', 'HGVSc_m', 'HGVSp_m',\n",
       "       'index'],\n",
       "      dtype='object')"
      ]
     },
     "execution_count": 19,
     "metadata": {},
     "output_type": "execute_result"
    }
   ],
   "source": [
    "df_result_bind_wrong.columns"
   ]
  },
  {
   "cell_type": "code",
   "execution_count": null,
   "metadata": {},
   "outputs": [],
   "source": [
    "df_result_bind_wrong = pd.merge(df_result_bind_wrong, df_mutation_BE_new.iloc[:,[8,9,10]], on='index', how='left')"
   ]
  },
  {
   "cell_type": "code",
   "execution_count": null,
   "metadata": {},
   "outputs": [],
   "source": [
    "df_result_bind_wrong_new = df_result_bind_wrong.iloc[:,list(range(11))+[38]+list(range(12,38))+[11]]"
   ]
  },
  {
   "cell_type": "code",
   "execution_count": null,
   "metadata": {},
   "outputs": [],
   "source": [
    "df_mutation_BE_coding_for_bind = df_mutation_BE_coding.iloc[:,[8,9]]\n",
    "df_result_bind_correct_new = pd.merge(df_result_bind_correct, df_mutation_BE_coding_for_bind, on='index', how='left')"
   ]
  },
  {
   "cell_type": "code",
   "execution_count": null,
   "metadata": {},
   "outputs": [],
   "source": [
    "df_result_bind_correct_new = df_result_bind_correct_new.drop(columns=['start_m_ori',\n",
    "       'end_m_ori', 'ref_seq_m_ori', 'alt_seq_m_ori', 'HGVSc_m_ori',\n",
    "       'HGVSp_m_ori'])"
   ]
  },
  {
   "cell_type": "code",
   "execution_count": null,
   "metadata": {},
   "outputs": [],
   "source": [
    "df_result_bind_wrong_new = df_result_bind_wrong.drop(columns=['start_m_ori',\n",
    "       'end_m_ori', 'ref_seq_m_ori', 'alt_seq_m_ori', 'HGVSc_m_ori',\n",
    "       'HGVSp_m_ori'])"
   ]
  },
  {
   "cell_type": "code",
   "execution_count": null,
   "metadata": {},
   "outputs": [],
   "source": [
    "col_correct = list(df_result_bind_correct_new.columns)\n",
    "col_wrong = list(df_result_bind_wrong_new.columns)\n",
    "idx = [col_wrong.index(x) for x in col_correct]\n",
    "df_result_bind_wrong_new = df_result_bind_wrong_new.iloc[:,idx]"
   ]
  },
  {
   "cell_type": "code",
   "execution_count": 43,
   "metadata": {},
   "outputs": [],
   "source": [
    "df_result_bind_new = pd.concat([df_result_bind_wrong_new, df_result_bind_correct_new])\n",
    "df_result_bind_new = df_result_bind_new.sort_values(by='index').reset_index(drop=True)\n",
    "#col_index = list(range(26))+list(range(26+6, len(df_result_bind_new.columns)))\n",
    "#df_result_bind_new = df_result_bind_new.iloc[:,col_index]"
   ]
  },
  {
   "cell_type": "code",
   "execution_count": 45,
   "metadata": {},
   "outputs": [],
   "source": [
    "df_result_bind_new.to_csv('msk_BE_modelable_pts_over_2.csv', index=False)"
   ]
  },
  {
   "cell_type": "code",
   "execution_count": null,
   "metadata": {},
   "outputs": [],
   "source": [
    "# result_list = []\n",
    "# df_list = []\n",
    "# t = 0\n",
    "# r = 0\n",
    "# for c_index, c_count in enumerate(list_of_counts):\n",
    "\n",
    "#     print(c_index)\n",
    "#     gene_name_h, tx_id_h  = df_mutation_BE.iloc[r,:2].to_list()\n",
    "#     unique_index = df_mutation_BE.iloc[r,9]\n",
    "#     # if gene_name_h in dict\n",
    "#     if gene_name_h in h2m.mouse_tx_id_dict.keys():\n",
    "#         tx_id_m = h2m.mouse_tx_id_dict[gene_name_h]\n",
    "\n",
    "#         align_input = h2m.get_tx_and_align(records_h, index_list_h, records_m, index_list_m, db_h, db_m, tx_id_h, tx_id_m, ver = 37, align = True)\n",
    "#         for i in range(c_count):\n",
    "#             start_h, end_h, ty_h, ref_seq_h, alt_seq_h = df_mutation_BE.iloc[r,2:7].to_list()\n",
    "#             try:\n",
    "#                 result = h2m.model(records_h, index_list_h, records_m, index_list_m, db_h, db_m, tx_id_h, tx_id_m, start_h, end_h, alt_seq_h, ty_h, ver = 37, ref_seq_h=ref_seq_h, param='BE', batch=True, align_input = align_input)\n",
    "#                 if type(result) == list: # multiple alternative modeling\n",
    "#                     for k in result:\n",
    "#                         k['index'] = unique_index\n",
    "#                         r = r+1\n",
    "#                         result_list.append(k)\n",
    "#                 else:\n",
    "#                     result['index'] = unique_index\n",
    "#                     r = r+1\n",
    "#                     result_list.append(result)\n",
    "                    \n",
    "#             except:\n",
    "#                 r = r+1\n",
    "#     else:\n",
    "#         try:\n",
    "#             gene_name_m = h2m.query(gene_name_h, show=False)[0]['gene_name_m']\n",
    "#             tx_id_m = h2m.get_tx_id(gene_name_m,'m', show=False)[3]\n",
    "#             # or input by yourself\n",
    "#             align_input = h2m.get_tx_and_align(records_h, index_list_h, records_m, index_list_m, db_h, db_m, tx_id_h, tx_id_m, ver = 37, align = True)\n",
    "#             for i in range(c_count):\n",
    "#                 start_h, end_h, ty_h, ref_seq_h, alt_seq_h = df_mutation_BE.iloc[r,2:7].to_list()\n",
    "#                 try:\n",
    "#                     result = h2m.model(records_h, index_list_h, records_m, index_list_m, db_h, db_m, tx_id_h, tx_id_m, start_h, end_h, alt_seq_h, ty_h, ver = 37, ref_seq_h=ref_seq_h, param='BE', batch=True, align_input = align_input)\n",
    "#                     if type(result) == list: # multiple alternative modeling\n",
    "#                         for k in result:\n",
    "#                             k['index'] = unique_index\n",
    "#                             r = r+1\n",
    "#                             result_list.append(k)\n",
    "#                     else:\n",
    "#                         result['index'] = unique_index\n",
    "#                         r = r+1\n",
    "#                         result_list.append(result)\n",
    "                        \n",
    "#                 except:\n",
    "#                     r = r+1\n",
    "#         except:\n",
    "#             r = r+1\n",
    "\n",
    "#     df_list.append(pd.DataFrame(result_list))\n",
    "#     result_list = []\n",
    "#     gc.collect()\n",
    "\n",
    "# df_result = pd.concat(df_list, ignore_index=True)"
   ]
  },
  {
   "cell_type": "code",
   "execution_count": 19,
   "metadata": {},
   "outputs": [
    {
     "data": {
      "text/plain": [
       "Seq('Q')"
      ]
     },
     "execution_count": 19,
     "metadata": {},
     "output_type": "execute_result"
    }
   ],
   "source": [
    "h2m.Translate('CAG')"
   ]
  },
  {
   "cell_type": "code",
   "execution_count": 15,
   "metadata": {},
   "outputs": [
    {
     "data": {
      "text/plain": [
       "'ACT'"
      ]
     },
     "execution_count": 15,
     "metadata": {},
     "output_type": "execute_result"
    }
   ],
   "source": [
    "'ACT'"
   ]
  },
  {
   "cell_type": "code",
   "execution_count": null,
   "metadata": {},
   "outputs": [],
   "source": []
  },
  {
   "cell_type": "code",
   "execution_count": 22,
   "metadata": {},
   "outputs": [],
   "source": [
    "gene_region_anno_h = h2m.GetTx(records_h, index_list_h, db_h, 'ENST00000269305.4', 'h', 37, 300)[7]"
   ]
  },
  {
   "cell_type": "code",
   "execution_count": 46,
   "metadata": {},
   "outputs": [],
   "source": [
    "gene_id_h, gene_name_h, chr_h, n_exon_h, gene_seq_h, gene_index_h, gene_region_anno_h, gene_region_idx_h = h2m.GetTx(records_h, index_list_h, db_h, 'ENST00000269305.4', 'h', 37, 300)\n",
    "tx_id_m = h2m.get_tx_id('Trp53','m', show=False)[3]\n",
    "gene_id_m, gene_name_m, chr_m, n_exon_m, gene_seq_m, gene_index_m, gene_region_anno_m, gene_region_idx_m = h2m.GetTx(records_m, index_list_m, db_m, tx_id_m, 'm', 37, 300)"
   ]
  },
  {
   "cell_type": "code",
   "execution_count": 189,
   "metadata": {},
   "outputs": [],
   "source": [
    "start_h, end_h = 7577018, 7577018\n",
    "splicing_size = 30"
   ]
  },
  {
   "cell_type": "code",
   "execution_count": 190,
   "metadata": {},
   "outputs": [],
   "source": [
    "strand_m = '-'\n",
    "strand_h = '+'"
   ]
  },
  {
   "cell_type": "code",
   "execution_count": null,
   "metadata": {},
   "outputs": [],
   "source": [
    "def GateFlankH(start_h, end_h, len_seq_h, align_idx_h, flank_size):\n",
    "    global status, error, statement\n",
    "    flank_left = min([start_h, flank_size])\n",
    "    flank_right = min([len_seq_h-end_h-1, flank_size])\n",
    "    s_flank, e_flank = start_h-flank_left, end_h+flank_right\n",
    "    identity = set(list(range(s_flank,e_flank+1))).issubset(set(align_idx_h))\n",
    "    if identity == False:\n",
    "        status = False\n",
    "        statement = 'Error 4: Flanked segments are not identical.'\n",
    "        error = 4"
   ]
  },
  {
   "cell_type": "code",
   "execution_count": 28,
   "metadata": {},
   "outputs": [
    {
     "data": {
      "text/plain": [
       "[0, 1, 2, 3, 4, 7]"
      ]
     },
     "execution_count": 28,
     "metadata": {},
     "output_type": "execute_result"
    }
   ],
   "source": [
    "x = pairwise2.align.localxx('AATATA', 'AATATATATCCGGGCCCCCGCGCGC')\n",
    "h2m.match_index(*x[0])"
   ]
  },
  {
   "cell_type": "code",
   "execution_count": null,
   "metadata": {},
   "outputs": [],
   "source": [
    "set_of_mut_idx = set([gene_region_idx_h[gene_index_h.index(x)] for x in range(start_h, end_h+1)]) \n",
    "set_of_mut_idx_idx_h = set(condition(gene_region_idx_h, set_of_mut_idx))"
   ]
  },
  {
   "cell_type": "code",
   "execution_count": 126,
   "metadata": {},
   "outputs": [],
   "source": [
    "import json\n",
    "file_name = '/Users/gorkordkx/Documents/GitHub/H2M-py/mouse_tx_id_dict.json'\n",
    "with open(file_name, 'r') as file:\n",
    "    mouse_tx_id_dict = json.load(file)"
   ]
  },
  {
   "cell_type": "code",
   "execution_count": 268,
   "metadata": {},
   "outputs": [],
   "source": [
    "df = df[df['Variant_Classification']=='Splice_Site'].reset_index(drop=True)\n",
    "df = df[df['Hugo_Symbol']=='TP53'].reset_index(drop=True)"
   ]
  },
  {
   "cell_type": "code",
   "execution_count": null,
   "metadata": {},
   "outputs": [],
   "source": [
    "import module_14 as module_4\n",
    "result_list = []\n",
    "error_index_list = []\n",
    "r = 0\n",
    "t = 0\n",
    "for c_index, c_count in enumerate([10]):\n",
    "    print(c_index)\n",
    "    gene_name_h, tx_id_h  = 'TP53', 'ENST00000269305.4'\n",
    "    # if gene_name_h in dict\n",
    "    if gene_name_h in mouse_tx_id_dict.keys():\n",
    "        tx_id_m = mouse_tx_id_dict[gene_name_h]\n",
    "    else:\n",
    "        gene_name_m = module_4.query(gene_name_h, show=False)[0]['gene_name_m']\n",
    "        tx_id_m = module_4.get_tx_id(gene_name_m,'m', show=False)[3]\n",
    "        # or input by yourself\n",
    "\n",
    "    align_input = module_4.get_tx_and_align(records_h, index_list_h, records_m, index_list_m, db_h, db_m, tx_id_h, tx_id_m, ver = 37, align = True)\n",
    "    \n",
    "    for i in range(c_count):\n",
    "        start_h, end_h, ty_h, ref_seq_h, alt_seq_h = df.iloc[r,[5,6,10,11,13]].tolist()\n",
    "        try:\n",
    "            result = module_4.model(records_h, index_list_h, records_m, index_list_m, db_h, db_m, tx_id_h, tx_id_m, start_h, end_h, alt_seq_h, ty_h, ver = 37, ref_seq_h=ref_seq_h, param='BE', batch=True, align_input = align_input)\n",
    "            if type(result) == list: # multiple alternative modeling\n",
    "                for k in result:\n",
    "                    k['index'] = t\n",
    "                    t = t +1\n",
    "                    r = r+1\n",
    "                    result_list.append(k)\n",
    "            else:\n",
    "                result['index'] = t\n",
    "                t = t + 1\n",
    "                r = r+1\n",
    "                result_list.append(result)\n",
    "                \n",
    "        except:\n",
    "            error_index_list.append(r)\n",
    "            r = r+1\n",
    "\n",
    "    # pd.DataFrame(result_list).to_csv(csv_file_path, mode='a', header=False, index=False)\n",
    "    # if len(error_index_list)>0:\n",
    "    #     with open('error.txt', 'a') as file:  # 使用'a'模式以便于在文件末尾追加内容\n",
    "    #         for item in error_index_list:\n",
    "    #             file.write(str(item) + \"\\n\")\n",
    "    # error_index_list = []\n",
    "    # result_list = []\n",
    "    # gc.collect()"
   ]
  },
  {
   "cell_type": "code",
   "execution_count": 26,
   "metadata": {},
   "outputs": [
    {
     "data": {
      "text/plain": [
       "Seq('M')"
      ]
     },
     "execution_count": 26,
     "metadata": {},
     "output_type": "execute_result"
    }
   ],
   "source": [
    "h2m.Translate('ATG')"
   ]
  }
 ],
 "metadata": {
  "kernelspec": {
   "display_name": "Python 3",
   "language": "python",
   "name": "python3"
  },
  "language_info": {
   "codemirror_mode": {
    "name": "ipython",
    "version": 3
   },
   "file_extension": ".py",
   "mimetype": "text/x-python",
   "name": "python",
   "nbconvert_exporter": "python",
   "pygments_lexer": "ipython3",
   "version": "3.11.2"
  }
 },
 "nbformat": 4,
 "nbformat_minor": 2
}
