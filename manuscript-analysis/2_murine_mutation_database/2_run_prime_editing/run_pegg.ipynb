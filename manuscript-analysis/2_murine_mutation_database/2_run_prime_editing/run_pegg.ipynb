{
 "cells": [
  {
   "cell_type": "markdown",
   "metadata": {},
   "source": [
    "## This script runs prime editing guide RNA design for H2M database.  \n",
    "\n",
    "Kexin Dong  \n",
    "\n",
    "May 1, 2024  "
   ]
  },
  {
   "cell_type": "code",
   "execution_count": 1,
   "metadata": {},
   "outputs": [
    {
     "name": "stderr",
     "output_type": "stream",
     "text": [
      "/Users/kexindong/Documents/GitHub/h2m-public/.conda/lib/python3.10/site-packages/Bio/pairwise2.py:278: BiopythonDeprecationWarning: Bio.pairwise2 has been deprecated, and we intend to remove it in a future release of Biopython. As an alternative, please consider using Bio.Align.PairwiseAligner as a replacement, and contact the Biopython developers if you still need the Bio.pairwise2 module.\n",
      "  warnings.warn(\n"
     ]
    }
   ],
   "source": [
    "import bioh2m as h2m"
   ]
  },
  {
   "cell_type": "code",
   "execution_count": 2,
   "metadata": {},
   "outputs": [],
   "source": [
    "from pegg import prime\n",
    "import pandas as pd"
   ]
  },
  {
   "cell_type": "code",
   "execution_count": 30,
   "metadata": {},
   "outputs": [],
   "source": [
    "df_all = pd.read_csv('/Users/kexindong/Documents/GitHub/Output/h2m_database/PEGG/pe_human.csv')"
   ]
  },
  {
   "cell_type": "code",
   "execution_count": 3,
   "metadata": {},
   "outputs": [],
   "source": [
    "path_h_ref, path_m_ref = '/Users/kexindong/Documents/GitHub/Database/RefGenome/ncbi-2023-09-12/GCF_000001405.25_GRCh37.p13_genomic.fna.gz', '/Users/kexindong/Documents/GitHub/Database/RefGenome/mouse-2023-09-13/GCF_000001635.27_GRCm39_genomic.fna.gz'\n",
    "chrom_dict_h, i = prime.genome_loader(path_h_ref)\n",
    "chrom_dict_m, i = prime.genome_loader(path_m_ref)"
   ]
  },
  {
   "cell_type": "markdown",
   "metadata": {},
   "source": [
    "# For Human  "
   ]
  },
  {
   "cell_type": "code",
   "execution_count": 32,
   "metadata": {},
   "outputs": [],
   "source": [
    "df_all = df_all[df_all['Chromosome']!='M'].reset_index(drop=True)"
   ]
  },
  {
   "cell_type": "code",
   "execution_count": 34,
   "metadata": {},
   "outputs": [],
   "source": [
    "df_all['Reference_Allele'] = [str(x) for x in df_all['Reference_Allele']]\n",
    "df_all['Tumor_Seq_Allele2'] = [str(x) for x in df_all['Tumor_Seq_Allele2']]\n",
    "df_all['Start_Position'] = [int(x) for x in df_all['Start_Position']]\n",
    "df_all['End_Position'] = [int(x) for x in df_all['End_Position']]\n",
    "df_pe_h = prime.run(df_all, 'cBioPortal', chrom_dict=chrom_dict_h, PAM='NGN',rankby='RF_Score', pegRNAs_per_mut=5, RTT_lengths=[5, 10, 15, 25, 30],PBS_lengths=[8, 10, 13, 15], min_RHA_size=1, RE_sites=None, polyT_threshold=4,proto_size=19, context_size=120, before_proto_context=5, sensor_length=60,sensor_orientation='reverse-complement', sensor=True)"
   ]
  },
  {
   "cell_type": "code",
   "execution_count": 38,
   "metadata": {},
   "outputs": [
    {
     "data": {
      "text/plain": [
       "5177"
      ]
     },
     "execution_count": 38,
     "metadata": {},
     "output_type": "execute_result"
    }
   ],
   "source": [
    "len(df_pe_h['ID'].unique())"
   ]
  },
  {
   "cell_type": "code",
   "execution_count": 41,
   "metadata": {},
   "outputs": [
    {
     "data": {
      "text/plain": [
       "Hugo_Symbol\n",
       "TP53      588\n",
       "APC       118\n",
       "PIK3CA    100\n",
       "PTEN       95\n",
       "ARID1A     85\n",
       "         ... \n",
       "FGF14       1\n",
       "FGA         1\n",
       "ERCC1       1\n",
       "ERRFI1      1\n",
       "SETD1B      1\n",
       "Name: count, Length: 614, dtype: int64"
      ]
     },
     "execution_count": 41,
     "metadata": {},
     "output_type": "execute_result"
    }
   ],
   "source": [
    "df_all['Hugo_Symbol'].value_counts()"
   ]
  },
  {
   "cell_type": "code",
   "execution_count": 44,
   "metadata": {},
   "outputs": [],
   "source": [
    "df_pe_h.to_csv('/Users/kexindong/Documents/GitHub/Output/h2m_database/PEGG/pe_human_result.csv',index=False)"
   ]
  },
  {
   "cell_type": "markdown",
   "metadata": {},
   "source": [
    "# For Mouse  "
   ]
  },
  {
   "cell_type": "code",
   "execution_count": 33,
   "metadata": {},
   "outputs": [],
   "source": [
    "df_all = pd.read_csv('/Users/kexindong/Documents/GitHub/Output/h2m_database/PEGG/pe_mouse.csv')"
   ]
  },
  {
   "cell_type": "code",
   "execution_count": 34,
   "metadata": {},
   "outputs": [],
   "source": [
    "dict_of_type = {'TNP':'ONP'}\n",
    "df_all['Variant_Type'] = [dict_of_type.get(x,x) for x in df_all['Variant_Type']]"
   ]
  },
  {
   "cell_type": "code",
   "execution_count": 35,
   "metadata": {},
   "outputs": [],
   "source": [
    "df_all = df_all[df_all['Chromosome']!='M'].reset_index(drop=True)"
   ]
  },
  {
   "cell_type": "code",
   "execution_count": 36,
   "metadata": {},
   "outputs": [
    {
     "name": "stdout",
     "output_type": "stream",
     "text": [
      "Warning: Efficiency predictions on non-NGG PAMs are un-tested\n"
     ]
    },
    {
     "data": {
      "text/html": [
       "<div>\n",
       "<style scoped>\n",
       "    .dataframe tbody tr th:only-of-type {\n",
       "        vertical-align: middle;\n",
       "    }\n",
       "\n",
       "    .dataframe tbody tr th {\n",
       "        vertical-align: top;\n",
       "    }\n",
       "\n",
       "    .dataframe thead th {\n",
       "        text-align: right;\n",
       "    }\n",
       "</style>\n",
       "<table border=\"1\" class=\"dataframe\">\n",
       "  <thead>\n",
       "    <tr style=\"text-align: right;\">\n",
       "      <th></th>\n",
       "      <th>mutation_idx</th>\n",
       "      <th>Hugo_Symbol</th>\n",
       "      <th>tx_id_m</th>\n",
       "      <th>Start_Position</th>\n",
       "      <th>End_Position</th>\n",
       "      <th>Reference_Allele</th>\n",
       "      <th>Tumor_Seq_Allele2</th>\n",
       "      <th>Variant_Type</th>\n",
       "      <th>ID</th>\n",
       "      <th>Chromosome</th>\n",
       "      <th>...</th>\n",
       "      <th>indel_size</th>\n",
       "      <th>PEGG2_Score</th>\n",
       "      <th>RF_Score</th>\n",
       "      <th>pegRNA_rank</th>\n",
       "      <th>sensor_wt</th>\n",
       "      <th>sensor_alt</th>\n",
       "      <th>sensor_orientation</th>\n",
       "      <th>sensor_error</th>\n",
       "      <th>contains_polyT_terminator</th>\n",
       "      <th>pegRNA_id</th>\n",
       "    </tr>\n",
       "  </thead>\n",
       "  <tbody>\n",
       "    <tr>\n",
       "      <th>0</th>\n",
       "      <td>0</td>\n",
       "      <td>Kras</td>\n",
       "      <td>ENSMUST00000111710.8</td>\n",
       "      <td>145192497</td>\n",
       "      <td>145192497</td>\n",
       "      <td>C</td>\n",
       "      <td>T</td>\n",
       "      <td>SNP</td>\n",
       "      <td>AACR-H0000001-M01-V01</td>\n",
       "      <td>6</td>\n",
       "      <td>...</td>\n",
       "      <td>0</td>\n",
       "      <td>20.660669</td>\n",
       "      <td>30.350048</td>\n",
       "      <td>1.0</td>\n",
       "      <td>AAATGACTGAGTATAAACTTGTGGTGGTTGGAGCTGGTGGCGTAGG...</td>\n",
       "      <td>AAATGACTGAGTATAAACTTGTGGTGGTTGGAGCTGATGGCGTAGG...</td>\n",
       "      <td>reverse-complement</td>\n",
       "      <td>No Error</td>\n",
       "      <td>False</td>\n",
       "      <td>pegRNA_0</td>\n",
       "    </tr>\n",
       "    <tr>\n",
       "      <th>1</th>\n",
       "      <td>0</td>\n",
       "      <td>Kras</td>\n",
       "      <td>ENSMUST00000111710.8</td>\n",
       "      <td>145192497</td>\n",
       "      <td>145192497</td>\n",
       "      <td>C</td>\n",
       "      <td>T</td>\n",
       "      <td>SNP</td>\n",
       "      <td>AACR-H0000001-M01-V01</td>\n",
       "      <td>6</td>\n",
       "      <td>...</td>\n",
       "      <td>0</td>\n",
       "      <td>20.310904</td>\n",
       "      <td>27.444430</td>\n",
       "      <td>2.0</td>\n",
       "      <td>AAATGACTGAGTATAAACTTGTGGTGGTTGGAGCTGGTGGCGTAGG...</td>\n",
       "      <td>AAATGACTGAGTATAAACTTGTGGTGGTTGGAGCTGATGGCGTAGG...</td>\n",
       "      <td>reverse-complement</td>\n",
       "      <td>No Error</td>\n",
       "      <td>False</td>\n",
       "      <td>pegRNA_1</td>\n",
       "    </tr>\n",
       "    <tr>\n",
       "      <th>2</th>\n",
       "      <td>0</td>\n",
       "      <td>Kras</td>\n",
       "      <td>ENSMUST00000111710.8</td>\n",
       "      <td>145192497</td>\n",
       "      <td>145192497</td>\n",
       "      <td>C</td>\n",
       "      <td>T</td>\n",
       "      <td>SNP</td>\n",
       "      <td>AACR-H0000001-M01-V01</td>\n",
       "      <td>6</td>\n",
       "      <td>...</td>\n",
       "      <td>0</td>\n",
       "      <td>21.117170</td>\n",
       "      <td>24.007503</td>\n",
       "      <td>3.0</td>\n",
       "      <td>AAATGACTGAGTATAAACTTGTGGTGGTTGGAGCTGGTGGCGTAGG...</td>\n",
       "      <td>AAATGACTGAGTATAAACTTGTGGTGGTTGGAGCTGATGGCGTAGG...</td>\n",
       "      <td>reverse-complement</td>\n",
       "      <td>No Error</td>\n",
       "      <td>False</td>\n",
       "      <td>pegRNA_2</td>\n",
       "    </tr>\n",
       "    <tr>\n",
       "      <th>3</th>\n",
       "      <td>0</td>\n",
       "      <td>Kras</td>\n",
       "      <td>ENSMUST00000111710.8</td>\n",
       "      <td>145192497</td>\n",
       "      <td>145192497</td>\n",
       "      <td>C</td>\n",
       "      <td>T</td>\n",
       "      <td>SNP</td>\n",
       "      <td>AACR-H0000001-M01-V01</td>\n",
       "      <td>6</td>\n",
       "      <td>...</td>\n",
       "      <td>0</td>\n",
       "      <td>20.669312</td>\n",
       "      <td>23.256523</td>\n",
       "      <td>4.0</td>\n",
       "      <td>AAATGACTGAGTATAAACTTGTGGTGGTTGGAGCTGGTGGCGTAGG...</td>\n",
       "      <td>AAATGACTGAGTATAAACTTGTGGTGGTTGGAGCTGATGGCGTAGG...</td>\n",
       "      <td>reverse-complement</td>\n",
       "      <td>No Error</td>\n",
       "      <td>False</td>\n",
       "      <td>pegRNA_3</td>\n",
       "    </tr>\n",
       "    <tr>\n",
       "      <th>4</th>\n",
       "      <td>0</td>\n",
       "      <td>Kras</td>\n",
       "      <td>ENSMUST00000111710.8</td>\n",
       "      <td>145192497</td>\n",
       "      <td>145192497</td>\n",
       "      <td>C</td>\n",
       "      <td>T</td>\n",
       "      <td>SNP</td>\n",
       "      <td>AACR-H0000001-M01-V01</td>\n",
       "      <td>6</td>\n",
       "      <td>...</td>\n",
       "      <td>0</td>\n",
       "      <td>20.302260</td>\n",
       "      <td>22.063635</td>\n",
       "      <td>5.0</td>\n",
       "      <td>AAATGACTGAGTATAAACTTGTGGTGGTTGGAGCTGGTGGCGTAGG...</td>\n",
       "      <td>AAATGACTGAGTATAAACTTGTGGTGGTTGGAGCTGATGGCGTAGG...</td>\n",
       "      <td>reverse-complement</td>\n",
       "      <td>No Error</td>\n",
       "      <td>False</td>\n",
       "      <td>pegRNA_4</td>\n",
       "    </tr>\n",
       "    <tr>\n",
       "      <th>...</th>\n",
       "      <td>...</td>\n",
       "      <td>...</td>\n",
       "      <td>...</td>\n",
       "      <td>...</td>\n",
       "      <td>...</td>\n",
       "      <td>...</td>\n",
       "      <td>...</td>\n",
       "      <td>...</td>\n",
       "      <td>...</td>\n",
       "      <td>...</td>\n",
       "      <td>...</td>\n",
       "      <td>...</td>\n",
       "      <td>...</td>\n",
       "      <td>...</td>\n",
       "      <td>...</td>\n",
       "      <td>...</td>\n",
       "      <td>...</td>\n",
       "      <td>...</td>\n",
       "      <td>...</td>\n",
       "      <td>...</td>\n",
       "      <td>...</td>\n",
       "    </tr>\n",
       "    <tr>\n",
       "      <th>23530</th>\n",
       "      <td>4708</td>\n",
       "      <td>Bcl9</td>\n",
       "      <td>ENSMUST00000046521.14</td>\n",
       "      <td>97117238</td>\n",
       "      <td>97117238</td>\n",
       "      <td>C</td>\n",
       "      <td>T</td>\n",
       "      <td>SNP</td>\n",
       "      <td>AACR-H0005030-M01-V01</td>\n",
       "      <td>3</td>\n",
       "      <td>...</td>\n",
       "      <td>0</td>\n",
       "      <td>17.825962</td>\n",
       "      <td>27.045849</td>\n",
       "      <td>1.0</td>\n",
       "      <td>GAGCACTGCTGGACGACCACCTGCTCCTGTTTCCGCCTCTTCTCTT...</td>\n",
       "      <td>GAGCACTGCTGGACGACCACCTGCTCCTGTTTTCGCCTCTTCTCTT...</td>\n",
       "      <td>reverse-complement</td>\n",
       "      <td>No Error</td>\n",
       "      <td>True</td>\n",
       "      <td>pegRNA_23530</td>\n",
       "    </tr>\n",
       "    <tr>\n",
       "      <th>23531</th>\n",
       "      <td>4708</td>\n",
       "      <td>Bcl9</td>\n",
       "      <td>ENSMUST00000046521.14</td>\n",
       "      <td>97117238</td>\n",
       "      <td>97117238</td>\n",
       "      <td>C</td>\n",
       "      <td>T</td>\n",
       "      <td>SNP</td>\n",
       "      <td>AACR-H0005030-M01-V01</td>\n",
       "      <td>3</td>\n",
       "      <td>...</td>\n",
       "      <td>0</td>\n",
       "      <td>17.151807</td>\n",
       "      <td>21.992069</td>\n",
       "      <td>2.0</td>\n",
       "      <td>GAGTTTTATGAAGAGAAGAGGCGGAAACAGGAGCAGGTGGTCGTCC...</td>\n",
       "      <td>GAGTTTTATGAAGAGAAGAGGCGAAAACAGGAGCAGGTGGTCGTCC...</td>\n",
       "      <td>reverse-complement</td>\n",
       "      <td>No Error</td>\n",
       "      <td>False</td>\n",
       "      <td>pegRNA_23531</td>\n",
       "    </tr>\n",
       "    <tr>\n",
       "      <th>23532</th>\n",
       "      <td>4708</td>\n",
       "      <td>Bcl9</td>\n",
       "      <td>ENSMUST00000046521.14</td>\n",
       "      <td>97117238</td>\n",
       "      <td>97117238</td>\n",
       "      <td>C</td>\n",
       "      <td>T</td>\n",
       "      <td>SNP</td>\n",
       "      <td>AACR-H0005030-M01-V01</td>\n",
       "      <td>3</td>\n",
       "      <td>...</td>\n",
       "      <td>0</td>\n",
       "      <td>17.394716</td>\n",
       "      <td>21.161375</td>\n",
       "      <td>3.0</td>\n",
       "      <td>GAGCACTGCTGGACGACCACCTGCTCCTGTTTCCGCCTCTTCTCTT...</td>\n",
       "      <td>GAGCACTGCTGGACGACCACCTGCTCCTGTTTTCGCCTCTTCTCTT...</td>\n",
       "      <td>reverse-complement</td>\n",
       "      <td>No Error</td>\n",
       "      <td>True</td>\n",
       "      <td>pegRNA_23532</td>\n",
       "    </tr>\n",
       "    <tr>\n",
       "      <th>23533</th>\n",
       "      <td>4708</td>\n",
       "      <td>Bcl9</td>\n",
       "      <td>ENSMUST00000046521.14</td>\n",
       "      <td>97117238</td>\n",
       "      <td>97117238</td>\n",
       "      <td>C</td>\n",
       "      <td>T</td>\n",
       "      <td>SNP</td>\n",
       "      <td>AACR-H0005030-M01-V01</td>\n",
       "      <td>3</td>\n",
       "      <td>...</td>\n",
       "      <td>0</td>\n",
       "      <td>17.173775</td>\n",
       "      <td>19.967213</td>\n",
       "      <td>4.0</td>\n",
       "      <td>GAGTTTTATGAAGAGAAGAGGCGGAAACAGGAGCAGGTGGTCGTCC...</td>\n",
       "      <td>GAGTTTTATGAAGAGAAGAGGCGAAAACAGGAGCAGGTGGTCGTCC...</td>\n",
       "      <td>reverse-complement</td>\n",
       "      <td>No Error</td>\n",
       "      <td>False</td>\n",
       "      <td>pegRNA_23533</td>\n",
       "    </tr>\n",
       "    <tr>\n",
       "      <th>23534</th>\n",
       "      <td>4708</td>\n",
       "      <td>Bcl9</td>\n",
       "      <td>ENSMUST00000046521.14</td>\n",
       "      <td>97117238</td>\n",
       "      <td>97117238</td>\n",
       "      <td>C</td>\n",
       "      <td>T</td>\n",
       "      <td>SNP</td>\n",
       "      <td>AACR-H0005030-M01-V01</td>\n",
       "      <td>3</td>\n",
       "      <td>...</td>\n",
       "      <td>0</td>\n",
       "      <td>17.160451</td>\n",
       "      <td>19.123854</td>\n",
       "      <td>5.0</td>\n",
       "      <td>GAGTTTTATGAAGAGAAGAGGCGGAAACAGGAGCAGGTGGTCGTCC...</td>\n",
       "      <td>GAGTTTTATGAAGAGAAGAGGCGAAAACAGGAGCAGGTGGTCGTCC...</td>\n",
       "      <td>reverse-complement</td>\n",
       "      <td>No Error</td>\n",
       "      <td>False</td>\n",
       "      <td>pegRNA_23534</td>\n",
       "    </tr>\n",
       "  </tbody>\n",
       "</table>\n",
       "<p>23535 rows × 46 columns</p>\n",
       "</div>"
      ],
      "text/plain": [
       "       mutation_idx Hugo_Symbol                tx_id_m  Start_Position  \\\n",
       "0                 0        Kras   ENSMUST00000111710.8       145192497   \n",
       "1                 0        Kras   ENSMUST00000111710.8       145192497   \n",
       "2                 0        Kras   ENSMUST00000111710.8       145192497   \n",
       "3                 0        Kras   ENSMUST00000111710.8       145192497   \n",
       "4                 0        Kras   ENSMUST00000111710.8       145192497   \n",
       "...             ...         ...                    ...             ...   \n",
       "23530          4708        Bcl9  ENSMUST00000046521.14        97117238   \n",
       "23531          4708        Bcl9  ENSMUST00000046521.14        97117238   \n",
       "23532          4708        Bcl9  ENSMUST00000046521.14        97117238   \n",
       "23533          4708        Bcl9  ENSMUST00000046521.14        97117238   \n",
       "23534          4708        Bcl9  ENSMUST00000046521.14        97117238   \n",
       "\n",
       "       End_Position Reference_Allele Tumor_Seq_Allele2 Variant_Type  \\\n",
       "0         145192497                C                 T          SNP   \n",
       "1         145192497                C                 T          SNP   \n",
       "2         145192497                C                 T          SNP   \n",
       "3         145192497                C                 T          SNP   \n",
       "4         145192497                C                 T          SNP   \n",
       "...             ...              ...               ...          ...   \n",
       "23530      97117238                C                 T          SNP   \n",
       "23531      97117238                C                 T          SNP   \n",
       "23532      97117238                C                 T          SNP   \n",
       "23533      97117238                C                 T          SNP   \n",
       "23534      97117238                C                 T          SNP   \n",
       "\n",
       "                          ID Chromosome  ...  indel_size  PEGG2_Score  \\\n",
       "0      AACR-H0000001-M01-V01          6  ...           0    20.660669   \n",
       "1      AACR-H0000001-M01-V01          6  ...           0    20.310904   \n",
       "2      AACR-H0000001-M01-V01          6  ...           0    21.117170   \n",
       "3      AACR-H0000001-M01-V01          6  ...           0    20.669312   \n",
       "4      AACR-H0000001-M01-V01          6  ...           0    20.302260   \n",
       "...                      ...        ...  ...         ...          ...   \n",
       "23530  AACR-H0005030-M01-V01          3  ...           0    17.825962   \n",
       "23531  AACR-H0005030-M01-V01          3  ...           0    17.151807   \n",
       "23532  AACR-H0005030-M01-V01          3  ...           0    17.394716   \n",
       "23533  AACR-H0005030-M01-V01          3  ...           0    17.173775   \n",
       "23534  AACR-H0005030-M01-V01          3  ...           0    17.160451   \n",
       "\n",
       "        RF_Score pegRNA_rank  \\\n",
       "0      30.350048         1.0   \n",
       "1      27.444430         2.0   \n",
       "2      24.007503         3.0   \n",
       "3      23.256523         4.0   \n",
       "4      22.063635         5.0   \n",
       "...          ...         ...   \n",
       "23530  27.045849         1.0   \n",
       "23531  21.992069         2.0   \n",
       "23532  21.161375         3.0   \n",
       "23533  19.967213         4.0   \n",
       "23534  19.123854         5.0   \n",
       "\n",
       "                                               sensor_wt  \\\n",
       "0      AAATGACTGAGTATAAACTTGTGGTGGTTGGAGCTGGTGGCGTAGG...   \n",
       "1      AAATGACTGAGTATAAACTTGTGGTGGTTGGAGCTGGTGGCGTAGG...   \n",
       "2      AAATGACTGAGTATAAACTTGTGGTGGTTGGAGCTGGTGGCGTAGG...   \n",
       "3      AAATGACTGAGTATAAACTTGTGGTGGTTGGAGCTGGTGGCGTAGG...   \n",
       "4      AAATGACTGAGTATAAACTTGTGGTGGTTGGAGCTGGTGGCGTAGG...   \n",
       "...                                                  ...   \n",
       "23530  GAGCACTGCTGGACGACCACCTGCTCCTGTTTCCGCCTCTTCTCTT...   \n",
       "23531  GAGTTTTATGAAGAGAAGAGGCGGAAACAGGAGCAGGTGGTCGTCC...   \n",
       "23532  GAGCACTGCTGGACGACCACCTGCTCCTGTTTCCGCCTCTTCTCTT...   \n",
       "23533  GAGTTTTATGAAGAGAAGAGGCGGAAACAGGAGCAGGTGGTCGTCC...   \n",
       "23534  GAGTTTTATGAAGAGAAGAGGCGGAAACAGGAGCAGGTGGTCGTCC...   \n",
       "\n",
       "                                              sensor_alt  sensor_orientation  \\\n",
       "0      AAATGACTGAGTATAAACTTGTGGTGGTTGGAGCTGATGGCGTAGG...  reverse-complement   \n",
       "1      AAATGACTGAGTATAAACTTGTGGTGGTTGGAGCTGATGGCGTAGG...  reverse-complement   \n",
       "2      AAATGACTGAGTATAAACTTGTGGTGGTTGGAGCTGATGGCGTAGG...  reverse-complement   \n",
       "3      AAATGACTGAGTATAAACTTGTGGTGGTTGGAGCTGATGGCGTAGG...  reverse-complement   \n",
       "4      AAATGACTGAGTATAAACTTGTGGTGGTTGGAGCTGATGGCGTAGG...  reverse-complement   \n",
       "...                                                  ...                 ...   \n",
       "23530  GAGCACTGCTGGACGACCACCTGCTCCTGTTTTCGCCTCTTCTCTT...  reverse-complement   \n",
       "23531  GAGTTTTATGAAGAGAAGAGGCGAAAACAGGAGCAGGTGGTCGTCC...  reverse-complement   \n",
       "23532  GAGCACTGCTGGACGACCACCTGCTCCTGTTTTCGCCTCTTCTCTT...  reverse-complement   \n",
       "23533  GAGTTTTATGAAGAGAAGAGGCGAAAACAGGAGCAGGTGGTCGTCC...  reverse-complement   \n",
       "23534  GAGTTTTATGAAGAGAAGAGGCGAAAACAGGAGCAGGTGGTCGTCC...  reverse-complement   \n",
       "\n",
       "      sensor_error  contains_polyT_terminator     pegRNA_id  \n",
       "0         No Error                      False      pegRNA_0  \n",
       "1         No Error                      False      pegRNA_1  \n",
       "2         No Error                      False      pegRNA_2  \n",
       "3         No Error                      False      pegRNA_3  \n",
       "4         No Error                      False      pegRNA_4  \n",
       "...            ...                        ...           ...  \n",
       "23530     No Error                       True  pegRNA_23530  \n",
       "23531     No Error                      False  pegRNA_23531  \n",
       "23532     No Error                       True  pegRNA_23532  \n",
       "23533     No Error                      False  pegRNA_23533  \n",
       "23534     No Error                      False  pegRNA_23534  \n",
       "\n",
       "[23535 rows x 46 columns]"
      ]
     },
     "execution_count": 36,
     "metadata": {},
     "output_type": "execute_result"
    }
   ],
   "source": [
    "df_all['Reference_Allele'] = [str(x) for x in df_all['Reference_Allele']]\n",
    "df_all['Tumor_Seq_Allele2'] = [str(x) for x in df_all['Tumor_Seq_Allele2']]\n",
    "df_all['Start_Position'] = [int(x) for x in df_all['Start_Position']]\n",
    "df_all['End_Position'] = [int(x) for x in df_all['End_Position']]\n",
    "df_pe_m = prime.run(df_all, 'cBioPortal', chrom_dict=chrom_dict_m, PAM='NGN',rankby='RF_Score', pegRNAs_per_mut=5, RTT_lengths=[5, 10, 15, 25, 30],PBS_lengths=[8, 10, 13, 15], min_RHA_size=1, RE_sites=None, polyT_threshold=4,proto_size=19, context_size=120, before_proto_context=5, sensor_length=60,sensor_orientation='reverse-complement', sensor=True)\n",
    "df_pe_m"
   ]
  },
  {
   "cell_type": "code",
   "execution_count": 37,
   "metadata": {},
   "outputs": [
    {
     "data": {
      "text/plain": [
       "4707"
      ]
     },
     "execution_count": 37,
     "metadata": {},
     "output_type": "execute_result"
    }
   ],
   "source": [
    "len(df_pe_m['ID'].unique())"
   ]
  },
  {
   "cell_type": "code",
   "execution_count": null,
   "metadata": {},
   "outputs": [
    {
     "data": {
      "text/plain": [
       "Hugo_Symbol\n",
       "TP53      588\n",
       "APC       118\n",
       "PIK3CA    100\n",
       "PTEN       95\n",
       "ARID1A     85\n",
       "         ... \n",
       "FGF14       1\n",
       "FGA         1\n",
       "ERCC1       1\n",
       "ERRFI1      1\n",
       "SETD1B      1\n",
       "Name: count, Length: 614, dtype: int64"
      ]
     },
     "metadata": {},
     "output_type": "display_data"
    }
   ],
   "source": [
    "df_all['Hugo_Symbol'].value_counts()"
   ]
  },
  {
   "cell_type": "code",
   "execution_count": 39,
   "metadata": {},
   "outputs": [],
   "source": [
    "df_pe_m.to_csv('/Users/kexindong/Documents/GitHub/Output/h2m_database/PEGG/pe_mouse_result.csv',index=False)"
   ]
  },
  {
   "cell_type": "markdown",
   "metadata": {},
   "source": [
    "# Bind human and mouse data  "
   ]
  },
  {
   "cell_type": "code",
   "execution_count": 41,
   "metadata": {},
   "outputs": [],
   "source": [
    "df_pe_h = pd.read_csv('/Users/kexindong/Documents/GitHub/Output/h2m_database/PEGG/pe_human_result.csv')"
   ]
  },
  {
   "cell_type": "code",
   "execution_count": 46,
   "metadata": {},
   "outputs": [],
   "source": [
    "df_pe_h = df_pe_h.rename(columns = {'tx_id_h':'tx_id'})\n",
    "df_pe_m = df_pe_m.rename(columns = {'tx_id_m':'tx_id'})"
   ]
  },
  {
   "cell_type": "code",
   "execution_count": 51,
   "metadata": {},
   "outputs": [],
   "source": [
    "pd.concat([df_pe_h,df_pe_m]).drop(['pegRNA_id','tx_id'], axis=1).to_csv('/Users/kexindong/Documents/GitHub/Output/h2m_database/PEGG/pe_result_all.csv',index=False)"
   ]
  },
  {
   "cell_type": "markdown",
   "metadata": {},
   "source": [
    "# Statistics  "
   ]
  }
 ],
 "metadata": {
  "kernelspec": {
   "display_name": "Python 3",
   "language": "python",
   "name": "python3"
  },
  "language_info": {
   "codemirror_mode": {
    "name": "ipython",
    "version": 3
   },
   "file_extension": ".py",
   "mimetype": "text/x-python",
   "name": "python",
   "nbconvert_exporter": "python",
   "pygments_lexer": "ipython3",
   "version": "3.10.14"
  }
 },
 "nbformat": 4,
 "nbformat_minor": 2
}
