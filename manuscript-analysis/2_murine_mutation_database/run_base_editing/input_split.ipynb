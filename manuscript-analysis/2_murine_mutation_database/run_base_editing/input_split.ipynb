{
 "cells": [
  {
   "cell_type": "markdown",
   "metadata": {},
   "source": [
    "## This script generates splitted input csv files for h2m mouse librabry generation and guide RNA prediction.  It puts split results together as well.  \n",
    "\n",
    "Kexin Dong\n",
    "\n",
    "Arpril 3, 2024"
   ]
  },
  {
   "cell_type": "code",
   "execution_count": 2,
   "metadata": {},
   "outputs": [],
   "source": [
    "import numpy as np\n",
    "import pandas as pd"
   ]
  },
  {
   "cell_type": "code",
   "execution_count": 3,
   "metadata": {},
   "outputs": [
    {
     "name": "stderr",
     "output_type": "stream",
     "text": [
      "/var/folders/rl/65f1zcd575n092yn3xlqlqfw0000gn/T/ipykernel_11501/1223863185.py:1: DtypeWarning: Columns (8) have mixed types. Specify dtype option on import or set low_memory=False.\n",
      "  df = pd.read_csv('/Users/kexindong/Documents/GitHub/Output/h2m_database/PEGG/pegg_all_human.csv')\n"
     ]
    }
   ],
   "source": [
    "df = pd.read_csv('/Users/kexindong/Documents/GitHub/Output/h2m_database/PEGG/pegg_all_human.csv')"
   ]
  },
  {
   "cell_type": "code",
   "execution_count": 4,
   "metadata": {},
   "outputs": [],
   "source": [
    "df = df[df['Variant_Type']=='SNP'].reset_index(drop=True)"
   ]
  },
  {
   "cell_type": "code",
   "execution_count": 5,
   "metadata": {},
   "outputs": [],
   "source": [
    "con_1 = ((df['Reference_Allele'] == 'T') & (df['Tumor_Seq_Allele2'] == 'C'))\n",
    "con_2 = ((df['Reference_Allele'] == 'C') & (df['Tumor_Seq_Allele2'] == 'T'))\n",
    "con_3 = ((df['Reference_Allele'] == 'A') & (df['Tumor_Seq_Allele2'] == 'G'))\n",
    "con_4 = ((df['Reference_Allele'] == 'G') & (df['Tumor_Seq_Allele2'] == 'A'))\n",
    "df_be = df[con_1 | con_2 | con_3 | con_4].reset_index(drop=True)"
   ]
  },
  {
   "cell_type": "code",
   "execution_count": 6,
   "metadata": {},
   "outputs": [
    {
     "data": {
      "text/html": [
       "<div>\n",
       "<style scoped>\n",
       "    .dataframe tbody tr th:only-of-type {\n",
       "        vertical-align: middle;\n",
       "    }\n",
       "\n",
       "    .dataframe tbody tr th {\n",
       "        vertical-align: top;\n",
       "    }\n",
       "\n",
       "    .dataframe thead th {\n",
       "        text-align: right;\n",
       "    }\n",
       "</style>\n",
       "<table border=\"1\" class=\"dataframe\">\n",
       "  <thead>\n",
       "    <tr style=\"text-align: right;\">\n",
       "      <th></th>\n",
       "      <th>Hugo_Symbol</th>\n",
       "      <th>tx_id_h</th>\n",
       "      <th>Start_Position</th>\n",
       "      <th>End_Position</th>\n",
       "      <th>Reference_Allele</th>\n",
       "      <th>Tumor_Seq_Allele2</th>\n",
       "      <th>Variant_Type</th>\n",
       "      <th>ID</th>\n",
       "      <th>Chromosome</th>\n",
       "    </tr>\n",
       "  </thead>\n",
       "  <tbody>\n",
       "    <tr>\n",
       "      <th>0</th>\n",
       "      <td>ARF5</td>\n",
       "      <td>ENSMUST00000020717.12</td>\n",
       "      <td>127231348.0</td>\n",
       "      <td>127231348.0</td>\n",
       "      <td>C</td>\n",
       "      <td>T</td>\n",
       "      <td>SNP</td>\n",
       "      <td>CLINVAR-H0946378-M01</td>\n",
       "      <td>7</td>\n",
       "    </tr>\n",
       "    <tr>\n",
       "      <th>1</th>\n",
       "      <td>M6PR</td>\n",
       "      <td>ENSMUST00000112610.2</td>\n",
       "      <td>9094419.0</td>\n",
       "      <td>9094419.0</td>\n",
       "      <td>T</td>\n",
       "      <td>C</td>\n",
       "      <td>SNP</td>\n",
       "      <td>CLINVAR-H1400805-M01</td>\n",
       "      <td>12</td>\n",
       "    </tr>\n",
       "    <tr>\n",
       "      <th>2</th>\n",
       "      <td>M6PR</td>\n",
       "      <td>ENSMUST00000112610.2</td>\n",
       "      <td>9094452.0</td>\n",
       "      <td>9094452.0</td>\n",
       "      <td>C</td>\n",
       "      <td>T</td>\n",
       "      <td>SNP</td>\n",
       "      <td>CLINVAR-H1400806-M01</td>\n",
       "      <td>12</td>\n",
       "    </tr>\n",
       "    <tr>\n",
       "      <th>3</th>\n",
       "      <td>M6PR</td>\n",
       "      <td>ENSMUST00000112610.2</td>\n",
       "      <td>9096103.0</td>\n",
       "      <td>9096103.0</td>\n",
       "      <td>C</td>\n",
       "      <td>T</td>\n",
       "      <td>SNP</td>\n",
       "      <td>CLINVAR-H1400807-M01</td>\n",
       "      <td>12</td>\n",
       "    </tr>\n",
       "    <tr>\n",
       "      <th>4</th>\n",
       "      <td>M6PR</td>\n",
       "      <td>ENSMUST00000112610.2</td>\n",
       "      <td>9098121.0</td>\n",
       "      <td>9098121.0</td>\n",
       "      <td>C</td>\n",
       "      <td>T</td>\n",
       "      <td>SNP</td>\n",
       "      <td>CLINVAR-H1400809-M01</td>\n",
       "      <td>12</td>\n",
       "    </tr>\n",
       "    <tr>\n",
       "      <th>...</th>\n",
       "      <td>...</td>\n",
       "      <td>...</td>\n",
       "      <td>...</td>\n",
       "      <td>...</td>\n",
       "      <td>...</td>\n",
       "      <td>...</td>\n",
       "      <td>...</td>\n",
       "      <td>...</td>\n",
       "      <td>...</td>\n",
       "    </tr>\n",
       "    <tr>\n",
       "      <th>2900250</th>\n",
       "      <td>PNLDC1</td>\n",
       "      <td>ENSMUST00000163394.3</td>\n",
       "      <td>160237601.0</td>\n",
       "      <td>160237601.0</td>\n",
       "      <td>G</td>\n",
       "      <td>A</td>\n",
       "      <td>SNP</td>\n",
       "      <td>CLINVAR-H0858292-M01</td>\n",
       "      <td>6</td>\n",
       "    </tr>\n",
       "    <tr>\n",
       "      <th>2900251</th>\n",
       "      <td>PNLDC1</td>\n",
       "      <td>ENSMUST00000163394.3</td>\n",
       "      <td>160239601.0</td>\n",
       "      <td>160239601.0</td>\n",
       "      <td>C</td>\n",
       "      <td>T</td>\n",
       "      <td>SNP</td>\n",
       "      <td>CLINVAR-H0858293-M01</td>\n",
       "      <td>6</td>\n",
       "    </tr>\n",
       "    <tr>\n",
       "      <th>2900252</th>\n",
       "      <td>PNLDC1</td>\n",
       "      <td>ENSMUST00000163394.3</td>\n",
       "      <td>160239603.0</td>\n",
       "      <td>160239603.0</td>\n",
       "      <td>G</td>\n",
       "      <td>A</td>\n",
       "      <td>SNP</td>\n",
       "      <td>CLINVAR-H0858294-M01</td>\n",
       "      <td>6</td>\n",
       "    </tr>\n",
       "    <tr>\n",
       "      <th>2900253</th>\n",
       "      <td>PNLDC1</td>\n",
       "      <td>ENSMUST00000163394.3</td>\n",
       "      <td>160240107.0</td>\n",
       "      <td>160240107.0</td>\n",
       "      <td>C</td>\n",
       "      <td>T</td>\n",
       "      <td>SNP</td>\n",
       "      <td>CLINVAR-H0858295-M01</td>\n",
       "      <td>6</td>\n",
       "    </tr>\n",
       "    <tr>\n",
       "      <th>2900254</th>\n",
       "      <td>PNLDC1</td>\n",
       "      <td>ENSMUST00000163394.3</td>\n",
       "      <td>160240311.0</td>\n",
       "      <td>160240311.0</td>\n",
       "      <td>C</td>\n",
       "      <td>T</td>\n",
       "      <td>SNP</td>\n",
       "      <td>CLINVAR-H0858296-M01</td>\n",
       "      <td>6</td>\n",
       "    </tr>\n",
       "  </tbody>\n",
       "</table>\n",
       "<p>2900255 rows × 9 columns</p>\n",
       "</div>"
      ],
      "text/plain": [
       "        Hugo_Symbol                tx_id_h  Start_Position  End_Position  \\\n",
       "0              ARF5  ENSMUST00000020717.12     127231348.0   127231348.0   \n",
       "1              M6PR   ENSMUST00000112610.2       9094419.0     9094419.0   \n",
       "2              M6PR   ENSMUST00000112610.2       9094452.0     9094452.0   \n",
       "3              M6PR   ENSMUST00000112610.2       9096103.0     9096103.0   \n",
       "4              M6PR   ENSMUST00000112610.2       9098121.0     9098121.0   \n",
       "...             ...                    ...             ...           ...   \n",
       "2900250      PNLDC1   ENSMUST00000163394.3     160237601.0   160237601.0   \n",
       "2900251      PNLDC1   ENSMUST00000163394.3     160239601.0   160239601.0   \n",
       "2900252      PNLDC1   ENSMUST00000163394.3     160239603.0   160239603.0   \n",
       "2900253      PNLDC1   ENSMUST00000163394.3     160240107.0   160240107.0   \n",
       "2900254      PNLDC1   ENSMUST00000163394.3     160240311.0   160240311.0   \n",
       "\n",
       "        Reference_Allele Tumor_Seq_Allele2 Variant_Type                    ID  \\\n",
       "0                      C                 T          SNP  CLINVAR-H0946378-M01   \n",
       "1                      T                 C          SNP  CLINVAR-H1400805-M01   \n",
       "2                      C                 T          SNP  CLINVAR-H1400806-M01   \n",
       "3                      C                 T          SNP  CLINVAR-H1400807-M01   \n",
       "4                      C                 T          SNP  CLINVAR-H1400809-M01   \n",
       "...                  ...               ...          ...                   ...   \n",
       "2900250                G                 A          SNP  CLINVAR-H0858292-M01   \n",
       "2900251                C                 T          SNP  CLINVAR-H0858293-M01   \n",
       "2900252                G                 A          SNP  CLINVAR-H0858294-M01   \n",
       "2900253                C                 T          SNP  CLINVAR-H0858295-M01   \n",
       "2900254                C                 T          SNP  CLINVAR-H0858296-M01   \n",
       "\n",
       "        Chromosome  \n",
       "0                7  \n",
       "1               12  \n",
       "2               12  \n",
       "3               12  \n",
       "4               12  \n",
       "...            ...  \n",
       "2900250          6  \n",
       "2900251          6  \n",
       "2900252          6  \n",
       "2900253          6  \n",
       "2900254          6  \n",
       "\n",
       "[2900255 rows x 9 columns]"
      ]
     },
     "execution_count": 6,
     "metadata": {},
     "output_type": "execute_result"
    }
   ],
   "source": [
    "df_be"
   ]
  },
  {
   "cell_type": "code",
   "execution_count": 7,
   "metadata": {},
   "outputs": [],
   "source": [
    "x = 0\n",
    "i = 1\n",
    "len_of_df = 20000\n",
    "list_of_name = []\n",
    "list_of_path = []\n",
    "list_of_csv = []\n",
    "while x<=len(aacr):\n",
    "   # list_of_csv.append(aacr.iloc[x:min((x+len_of_df),len(aacr)+1)])\n",
    "    list_of_name.append(f'aacr_{i}')\n",
    "    list_of_path.append(f'aacr_input/aacr_input_{i}.csv')\n",
    "    i = i+1\n",
    "    x = x + len_of_df"
   ]
  },
  {
   "cell_type": "code",
   "execution_count": null,
   "metadata": {},
   "outputs": [],
   "source": [
    "for i,x in enumerate(list_of_csv):\n",
    "    print(i)\n",
    "    x.to_csv(list_of_path[i], index=False)"
   ]
  },
  {
   "cell_type": "code",
   "execution_count": 9,
   "metadata": {},
   "outputs": [
    {
     "name": "stdout",
     "output_type": "stream",
     "text": [
      "文件写入完成。\n"
     ]
    }
   ],
   "source": [
    "# 指定文件路径\n",
    "file_path = '/Users/kexindong/Documents/GitHub/h2m-public/2_run_h2m_murine_mutation_database/h2m_db.txt'\n",
    "\n",
    "# 使用with语句打开文件，确保正确关闭\n",
    "with open(file_path, 'w') as file:\n",
    "    # 写入标题行\n",
    "    file.write('ArrayTaskID FILE folder_name\\n')\n",
    "    # 遍历数据，按格式写入每一行\n",
    "    for x,y in enumerate(zip(list_of_name, list_of_path)):\n",
    "        line = f\"{x+1} {f'./{y[1]}'} {y[0]}\\n\"\n",
    "        file.write(line)\n",
    "\n",
    "print('文件写入完成。')"
   ]
  },
  {
   "cell_type": "markdown",
   "metadata": {},
   "source": [
    "# 3. Put split left-over together  "
   ]
  },
  {
   "cell_type": "code",
   "execution_count": 25,
   "metadata": {},
   "outputs": [
    {
     "name": "stdout",
     "output_type": "stream",
     "text": [
      "Missing 14\n"
     ]
    }
   ],
   "source": [
    "list_of_left_over = []\n",
    "for x in range(1,44):\n",
    "    path = f'1_murine_mutation_database_output/aacr_output/aacr_{x}_f0_left_over.csv'\n",
    "    try:\n",
    "        list_of_left_over.append(pd.read_csv(path))\n",
    "    except:\n",
    "        print(f'Missing {x}')\n",
    "df = pd.concat(list_of_left_over)\n",
    "df = df.sort_values(by = 'index').reset_index(drop=True)\n",
    "df.to_csv('1_murine_mutation_database_output/aacr_output/aacr_left_over.csv', index=False)"
   ]
  },
  {
   "cell_type": "code",
   "execution_count": 26,
   "metadata": {},
   "outputs": [
    {
     "name": "stdout",
     "output_type": "stream",
     "text": [
      "Missing 4\n",
      "Missing 17\n"
     ]
    }
   ],
   "source": [
    "list_of_left_over = []\n",
    "for x in range(1,47):\n",
    "    path = f'1_murine_mutation_database_output/clinvar_output/clinvar_{x}_f0_left_over.csv'\n",
    "    try:\n",
    "        list_of_left_over.append(pd.read_csv(path))\n",
    "    except:\n",
    "        print(f'Missing {x}')\n",
    "df = pd.concat(list_of_left_over)\n",
    "df = df.sort_values(by = 'index').reset_index(drop=True)\n",
    "df.to_csv('1_murine_mutation_database_output/clinvar_output/clinvar_left_over.csv', index=False)"
   ]
  },
  {
   "cell_type": "code",
   "execution_count": 27,
   "metadata": {},
   "outputs": [
    {
     "name": "stdout",
     "output_type": "stream",
     "text": [
      "Missing 2\n",
      "Missing 3\n",
      "Missing 4\n",
      "Missing 5\n",
      "Missing 6\n",
      "Missing 7\n",
      "Missing 8\n",
      "Missing 9\n",
      "Missing 10\n",
      "Missing 11\n",
      "Missing 12\n",
      "Missing 8\n"
     ]
    }
   ],
   "source": [
    "list_of_left_over = []\n",
    "for x in range(1,37):\n",
    "    path = f'1_murine_mutation_database_output/cosmic_output/aacr_{x}_f0_left_over.csv'\n",
    "    try:\n",
    "        list_of_left_over.append(pd.read_csv(path))\n",
    "    except:\n",
    "        print(f'Missing {x}')\n",
    "for x in range(2,13):\n",
    "    path = f'1_murine_mutation_database_output/cosmic_output/cosmic_{x}_f0_left_over.csv'\n",
    "    try:\n",
    "        list_of_left_over.append(pd.read_csv(path))\n",
    "    except:\n",
    "        print(f'Missing {x}')\n",
    "df = pd.concat(list_of_left_over)\n",
    "df = df.sort_values(by = 'index').reset_index(drop=True)\n",
    "df.to_csv('1_murine_mutation_database_output/cosmic_output/cosmic_left_over.csv', index=False)"
   ]
  },
  {
   "cell_type": "markdown",
   "metadata": {},
   "source": [
    "# 3. Put split result together  "
   ]
  },
  {
   "cell_type": "code",
   "execution_count": 29,
   "metadata": {},
   "outputs": [],
   "source": [
    "list_fs = [0,2,5,10]"
   ]
  },
  {
   "cell_type": "code",
   "execution_count": 33,
   "metadata": {},
   "outputs": [],
   "source": [
    "fs = 2"
   ]
  },
  {
   "cell_type": "code",
   "execution_count": 34,
   "metadata": {},
   "outputs": [
    {
     "name": "stdout",
     "output_type": "stream",
     "text": [
      "Missing 14\n",
      "Missing 44\n",
      "Missing 45\n",
      "Missing 46\n"
     ]
    }
   ],
   "source": [
    "list_of_left_over = []\n",
    "for x in range(1,47):\n",
    "    path = f'1_murine_mutation_database_output/aacr_output/aacr_{x}_result_f{fs}.csv'\n",
    "    try:\n",
    "        list_of_left_over.append(pd.read_csv(path))\n",
    "    except:\n",
    "        print(f'Missing {x}')\n",
    "df = pd.concat(list_of_left_over)\n",
    "df = df.sort_values(by = 'index').reset_index(drop=True)\n",
    "df.to_csv(f'1_murine_mutation_database_output/aacr_output/aacr_result_f{fs}.csv', index=False)"
   ]
  },
  {
   "cell_type": "code",
   "execution_count": 30,
   "metadata": {},
   "outputs": [
    {
     "name": "stdout",
     "output_type": "stream",
     "text": [
      "Missing 14\n",
      "Missing 44\n",
      "Missing 45\n",
      "Missing 46\n",
      "Missing 14\n",
      "Missing 44\n",
      "Missing 45\n",
      "Missing 46\n",
      "Missing 14\n",
      "Missing 44\n",
      "Missing 45\n",
      "Missing 46\n",
      "Missing 14\n",
      "Missing 44\n",
      "Missing 45\n",
      "Missing 46\n"
     ]
    }
   ],
   "source": [
    "for fs in list_fs:\n",
    "    list_of_left_over = []\n",
    "    for x in range(1,47):\n",
    "        path = f'1_murine_mutation_database_output/aacr_output/aacr_{x}_result_f{fs}.csv'\n",
    "        try:\n",
    "            list_of_left_over.append(pd.read_csv(path))\n",
    "        except:\n",
    "            print(f'Missing {x}')\n",
    "    df = pd.concat(list_of_left_over)\n",
    "    df = df.sort_values(by = 'index').reset_index(drop=True)\n",
    "    df.to_csv(f'1_murine_mutation_database_output/aacr_output/aacr_result_f{fs}.csv', index=False)"
   ]
  },
  {
   "cell_type": "code",
   "execution_count": null,
   "metadata": {},
   "outputs": [],
   "source": [
    "df_cosmic = pd.read_csv('/Users/gorkordkx/Documents/Output/h2m/cosmic_input.csv')\n",
    "df_clinvar = pd.read_csv('/Users/gorkordkx/Documents/Output/h2m/clinvar_input.csv')"
   ]
  },
  {
   "cell_type": "code",
   "execution_count": 36,
   "metadata": {},
   "outputs": [
    {
     "name": "stdout",
     "output_type": "stream",
     "text": [
      "Missing 4\n",
      "Missing 17\n",
      "Missing 4\n",
      "Missing 17\n",
      "Missing 4\n",
      "Missing 17\n",
      "Missing 4\n",
      "Missing 17\n",
      "Missing 2\n",
      "Missing 3\n",
      "Missing 4\n",
      "Missing 5\n",
      "Missing 6\n",
      "Missing 7\n",
      "Missing 8\n",
      "Missing 9\n",
      "Missing 10\n",
      "Missing 11\n",
      "Missing 12\n",
      "Missing 8\n",
      "Missing 2\n",
      "Missing 3\n",
      "Missing 4\n",
      "Missing 5\n",
      "Missing 6\n",
      "Missing 7\n",
      "Missing 8\n",
      "Missing 9\n",
      "Missing 10\n",
      "Missing 11\n",
      "Missing 12\n",
      "Missing 8\n",
      "Missing 2\n",
      "Missing 3\n",
      "Missing 4\n",
      "Missing 5\n",
      "Missing 6\n",
      "Missing 7\n",
      "Missing 8\n",
      "Missing 9\n",
      "Missing 10\n",
      "Missing 11\n",
      "Missing 12\n",
      "Missing 8\n",
      "Missing 2\n",
      "Missing 3\n",
      "Missing 4\n",
      "Missing 5\n",
      "Missing 6\n",
      "Missing 7\n",
      "Missing 8\n",
      "Missing 9\n",
      "Missing 10\n",
      "Missing 11\n",
      "Missing 12\n",
      "Missing 8\n"
     ]
    }
   ],
   "source": [
    "# clinvar\n",
    "for fs in list_fs:\n",
    "    list_of_left_over = []\n",
    "    for x in range(1,47):\n",
    "        path = f'1_murine_mutation_database_output/clinvar_output/clinvar_{x}_result_f{fs}.csv'\n",
    "        try:\n",
    "            list_of_left_over.append(pd.read_csv(path))\n",
    "        except:\n",
    "            print(f'Missing {x}')\n",
    "    df = pd.concat(list_of_left_over)\n",
    "    df = df.sort_values(by = 'index').reset_index(drop=True)\n",
    "    df = df[df['index'].isin(df_clinvar['index'])].reset_index(drop=True)\n",
    "    df.to_csv(f'1_murine_mutation_database_output/clinvar_output/clinvar_result_f{fs}.csv', index=False)\n",
    "\n",
    "# cosmic\n",
    "for fs in list_fs:\n",
    "    list_of_left_over = []\n",
    "    for x in range(1,37):\n",
    "        path = f'1_murine_mutation_database_output/cosmic_output/aacr_{x}_result_f{fs}.csv'\n",
    "        try:\n",
    "            list_of_left_over.append(pd.read_csv(path))\n",
    "        except:\n",
    "            print(f'Missing {x}')\n",
    "\n",
    "    for x in range(2,13):\n",
    "        path = f'1_murine_mutation_database_output/cosmic_output/cosmic_{x}_result_f{fs}.csv'\n",
    "        try:\n",
    "            list_of_left_over.append(pd.read_csv(path))\n",
    "        except:\n",
    "            print(f'Missing {x}')\n",
    "\n",
    "    df = pd.concat(list_of_left_over)\n",
    "    df = df.sort_values(by = 'index').reset_index(drop=True)\n",
    "    df = df[df['index'].isin(df_cosmic['index'])].reset_index(drop=True)\n",
    "    df.to_csv(f'1_murine_mutation_database_output/cosmic_output/cosmic_result_f{fs}.csv', index=False)"
   ]
  }
 ],
 "metadata": {
  "kernelspec": {
   "display_name": "Python 3",
   "language": "python",
   "name": "python3"
  },
  "language_info": {
   "codemirror_mode": {
    "name": "ipython",
    "version": 3
   },
   "file_extension": ".py",
   "mimetype": "text/x-python",
   "name": "python",
   "nbconvert_exporter": "python",
   "pygments_lexer": "ipython3",
   "version": "3.10.14"
  }
 },
 "nbformat": 4,
 "nbformat_minor": 2
}
