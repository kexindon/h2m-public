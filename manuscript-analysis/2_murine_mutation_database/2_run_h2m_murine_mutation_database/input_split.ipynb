{
 "cells": [
  {
   "cell_type": "markdown",
   "metadata": {},
   "source": [
    "## This script generates splitted input csv files for h2m mouse librabry generation and guide RNA prediction.  It puts split results together as well.  \n",
    "\n",
    "Kexin Dong\n",
    "\n",
    "Arpril 3, 2024"
   ]
  },
  {
   "cell_type": "code",
   "execution_count": 2,
   "metadata": {},
   "outputs": [],
   "source": [
    "import numpy as np\n",
    "import pandas as pd"
   ]
  },
  {
   "cell_type": "code",
   "execution_count": 3,
   "metadata": {},
   "outputs": [],
   "source": [
    "aacr = pd.read_csv('/Users/kexindong/Documents/GitHub/Output/h2m_database/left_over_rerun/h2m_db_left_over_12.csv')"
   ]
  },
  {
   "cell_type": "code",
   "execution_count": 4,
   "metadata": {},
   "outputs": [],
   "source": [
    "x = 0\n",
    "i = 1\n",
    "len_of_df = 10000\n",
    "list_of_name = []\n",
    "list_of_path = []\n",
    "list_of_csv = []\n",
    "while x<=len(aacr):\n",
    "    list_of_csv.append(aacr.iloc[x:min((x+len_of_df),len(aacr)+1)])\n",
    "    list_of_name.append(f'aacr_{i}')\n",
    "    list_of_path.append(f'/Users/kexindong/Documents/GitHub/Output/h2m_database/left_over_rerun/h2m_db_left_over_12_{i}.csv')\n",
    "    i = i+1\n",
    "    x = x + len_of_df"
   ]
  },
  {
   "cell_type": "code",
   "execution_count": null,
   "metadata": {},
   "outputs": [],
   "source": [
    "x = 0\n",
    "i = 1\n",
    "len_of_df = 20000\n",
    "list_of_name = []\n",
    "list_of_path = []\n",
    "list_of_csv = []\n",
    "while x<=len(aacr):\n",
    "   # list_of_csv.append(aacr.iloc[x:min((x+len_of_df),len(aacr)+1)])\n",
    "    list_of_name.append(f'aacr_{i}')\n",
    "    list_of_path.append(f'aacr_input/aacr_input_{i}.csv')\n",
    "    i = i+1\n",
    "    x = x + len_of_df"
   ]
  },
  {
   "cell_type": "code",
   "execution_count": 5,
   "metadata": {},
   "outputs": [
    {
     "name": "stdout",
     "output_type": "stream",
     "text": [
      "0\n",
      "1\n",
      "2\n",
      "3\n",
      "4\n",
      "5\n",
      "6\n",
      "7\n"
     ]
    }
   ],
   "source": [
    "for i,x in enumerate(list_of_csv):\n",
    "    print(i)\n",
    "    x.to_csv(list_of_path[i], index=False)"
   ]
  },
  {
   "cell_type": "code",
   "execution_count": 9,
   "metadata": {},
   "outputs": [
    {
     "name": "stdout",
     "output_type": "stream",
     "text": [
      "文件写入完成。\n"
     ]
    }
   ],
   "source": [
    "# 指定文件路径\n",
    "file_path = '/Users/kexindong/Documents/GitHub/h2m-public/2_run_h2m_murine_mutation_database/h2m_db.txt'\n",
    "\n",
    "# 使用with语句打开文件，确保正确关闭\n",
    "with open(file_path, 'w') as file:\n",
    "    # 写入标题行\n",
    "    file.write('ArrayTaskID FILE folder_name\\n')\n",
    "    # 遍历数据，按格式写入每一行\n",
    "    for x,y in enumerate(zip(list_of_name, list_of_path)):\n",
    "        line = f\"{x+1} {f'./{y[1]}'} {y[0]}\\n\"\n",
    "        file.write(line)\n",
    "\n",
    "print('文件写入完成。')"
   ]
  },
  {
   "cell_type": "markdown",
   "metadata": {},
   "source": [
    "# 3. Put split left-over together  "
   ]
  },
  {
   "cell_type": "code",
   "execution_count": 25,
   "metadata": {},
   "outputs": [
    {
     "name": "stdout",
     "output_type": "stream",
     "text": [
      "Missing 14\n"
     ]
    }
   ],
   "source": [
    "list_of_left_over = []\n",
    "for x in range(1,44):\n",
    "    path = f'1_murine_mutation_database_output/aacr_output/aacr_{x}_f0_left_over.csv'\n",
    "    try:\n",
    "        list_of_left_over.append(pd.read_csv(path))\n",
    "    except:\n",
    "        print(f'Missing {x}')\n",
    "df = pd.concat(list_of_left_over)\n",
    "df = df.sort_values(by = 'index').reset_index(drop=True)\n",
    "df.to_csv('1_murine_mutation_database_output/aacr_output/aacr_left_over.csv', index=False)"
   ]
  },
  {
   "cell_type": "code",
   "execution_count": 26,
   "metadata": {},
   "outputs": [
    {
     "name": "stdout",
     "output_type": "stream",
     "text": [
      "Missing 4\n",
      "Missing 17\n"
     ]
    }
   ],
   "source": [
    "list_of_left_over = []\n",
    "for x in range(1,47):\n",
    "    path = f'1_murine_mutation_database_output/clinvar_output/clinvar_{x}_f0_left_over.csv'\n",
    "    try:\n",
    "        list_of_left_over.append(pd.read_csv(path))\n",
    "    except:\n",
    "        print(f'Missing {x}')\n",
    "df = pd.concat(list_of_left_over)\n",
    "df = df.sort_values(by = 'index').reset_index(drop=True)\n",
    "df.to_csv('1_murine_mutation_database_output/clinvar_output/clinvar_left_over.csv', index=False)"
   ]
  },
  {
   "cell_type": "code",
   "execution_count": 27,
   "metadata": {},
   "outputs": [
    {
     "name": "stdout",
     "output_type": "stream",
     "text": [
      "Missing 2\n",
      "Missing 3\n",
      "Missing 4\n",
      "Missing 5\n",
      "Missing 6\n",
      "Missing 7\n",
      "Missing 8\n",
      "Missing 9\n",
      "Missing 10\n",
      "Missing 11\n",
      "Missing 12\n",
      "Missing 8\n"
     ]
    }
   ],
   "source": [
    "list_of_left_over = []\n",
    "for x in range(1,37):\n",
    "    path = f'1_murine_mutation_database_output/cosmic_output/aacr_{x}_f0_left_over.csv'\n",
    "    try:\n",
    "        list_of_left_over.append(pd.read_csv(path))\n",
    "    except:\n",
    "        print(f'Missing {x}')\n",
    "for x in range(2,13):\n",
    "    path = f'1_murine_mutation_database_output/cosmic_output/cosmic_{x}_f0_left_over.csv'\n",
    "    try:\n",
    "        list_of_left_over.append(pd.read_csv(path))\n",
    "    except:\n",
    "        print(f'Missing {x}')\n",
    "df = pd.concat(list_of_left_over)\n",
    "df = df.sort_values(by = 'index').reset_index(drop=True)\n",
    "df.to_csv('1_murine_mutation_database_output/cosmic_output/cosmic_left_over.csv', index=False)"
   ]
  },
  {
   "cell_type": "markdown",
   "metadata": {},
   "source": [
    "# 3. Put split result together  "
   ]
  },
  {
   "cell_type": "code",
   "execution_count": 29,
   "metadata": {},
   "outputs": [],
   "source": [
    "list_fs = [0,2,5,10]"
   ]
  },
  {
   "cell_type": "code",
   "execution_count": 33,
   "metadata": {},
   "outputs": [],
   "source": [
    "fs = 2"
   ]
  },
  {
   "cell_type": "code",
   "execution_count": 34,
   "metadata": {},
   "outputs": [
    {
     "name": "stdout",
     "output_type": "stream",
     "text": [
      "Missing 14\n",
      "Missing 44\n",
      "Missing 45\n",
      "Missing 46\n"
     ]
    }
   ],
   "source": [
    "list_of_left_over = []\n",
    "for x in range(1,47):\n",
    "    path = f'1_murine_mutation_database_output/aacr_output/aacr_{x}_result_f{fs}.csv'\n",
    "    try:\n",
    "        list_of_left_over.append(pd.read_csv(path))\n",
    "    except:\n",
    "        print(f'Missing {x}')\n",
    "df = pd.concat(list_of_left_over)\n",
    "df = df.sort_values(by = 'index').reset_index(drop=True)\n",
    "df.to_csv(f'1_murine_mutation_database_output/aacr_output/aacr_result_f{fs}.csv', index=False)"
   ]
  },
  {
   "cell_type": "code",
   "execution_count": 30,
   "metadata": {},
   "outputs": [
    {
     "name": "stdout",
     "output_type": "stream",
     "text": [
      "Missing 14\n",
      "Missing 44\n",
      "Missing 45\n",
      "Missing 46\n",
      "Missing 14\n",
      "Missing 44\n",
      "Missing 45\n",
      "Missing 46\n",
      "Missing 14\n",
      "Missing 44\n",
      "Missing 45\n",
      "Missing 46\n",
      "Missing 14\n",
      "Missing 44\n",
      "Missing 45\n",
      "Missing 46\n"
     ]
    }
   ],
   "source": [
    "for fs in list_fs:\n",
    "    list_of_left_over = []\n",
    "    for x in range(1,47):\n",
    "        path = f'1_murine_mutation_database_output/aacr_output/aacr_{x}_result_f{fs}.csv'\n",
    "        try:\n",
    "            list_of_left_over.append(pd.read_csv(path))\n",
    "        except:\n",
    "            print(f'Missing {x}')\n",
    "    df = pd.concat(list_of_left_over)\n",
    "    df = df.sort_values(by = 'index').reset_index(drop=True)\n",
    "    df.to_csv(f'1_murine_mutation_database_output/aacr_output/aacr_result_f{fs}.csv', index=False)"
   ]
  },
  {
   "cell_type": "code",
   "execution_count": null,
   "metadata": {},
   "outputs": [],
   "source": [
    "df_cosmic = pd.read_csv('/Users/gorkordkx/Documents/Output/h2m/cosmic_input.csv')\n",
    "df_clinvar = pd.read_csv('/Users/gorkordkx/Documents/Output/h2m/clinvar_input.csv')"
   ]
  },
  {
   "cell_type": "code",
   "execution_count": 36,
   "metadata": {},
   "outputs": [
    {
     "name": "stdout",
     "output_type": "stream",
     "text": [
      "Missing 4\n",
      "Missing 17\n",
      "Missing 4\n",
      "Missing 17\n",
      "Missing 4\n",
      "Missing 17\n",
      "Missing 4\n",
      "Missing 17\n",
      "Missing 2\n",
      "Missing 3\n",
      "Missing 4\n",
      "Missing 5\n",
      "Missing 6\n",
      "Missing 7\n",
      "Missing 8\n",
      "Missing 9\n",
      "Missing 10\n",
      "Missing 11\n",
      "Missing 12\n",
      "Missing 8\n",
      "Missing 2\n",
      "Missing 3\n",
      "Missing 4\n",
      "Missing 5\n",
      "Missing 6\n",
      "Missing 7\n",
      "Missing 8\n",
      "Missing 9\n",
      "Missing 10\n",
      "Missing 11\n",
      "Missing 12\n",
      "Missing 8\n",
      "Missing 2\n",
      "Missing 3\n",
      "Missing 4\n",
      "Missing 5\n",
      "Missing 6\n",
      "Missing 7\n",
      "Missing 8\n",
      "Missing 9\n",
      "Missing 10\n",
      "Missing 11\n",
      "Missing 12\n",
      "Missing 8\n",
      "Missing 2\n",
      "Missing 3\n",
      "Missing 4\n",
      "Missing 5\n",
      "Missing 6\n",
      "Missing 7\n",
      "Missing 8\n",
      "Missing 9\n",
      "Missing 10\n",
      "Missing 11\n",
      "Missing 12\n",
      "Missing 8\n"
     ]
    }
   ],
   "source": [
    "# clinvar\n",
    "for fs in list_fs:\n",
    "    list_of_left_over = []\n",
    "    for x in range(1,47):\n",
    "        path = f'1_murine_mutation_database_output/clinvar_output/clinvar_{x}_result_f{fs}.csv'\n",
    "        try:\n",
    "            list_of_left_over.append(pd.read_csv(path))\n",
    "        except:\n",
    "            print(f'Missing {x}')\n",
    "    df = pd.concat(list_of_left_over)\n",
    "    df = df.sort_values(by = 'index').reset_index(drop=True)\n",
    "    df = df[df['index'].isin(df_clinvar['index'])].reset_index(drop=True)\n",
    "    df.to_csv(f'1_murine_mutation_database_output/clinvar_output/clinvar_result_f{fs}.csv', index=False)\n",
    "\n",
    "# cosmic\n",
    "for fs in list_fs:\n",
    "    list_of_left_over = []\n",
    "    for x in range(1,37):\n",
    "        path = f'1_murine_mutation_database_output/cosmic_output/aacr_{x}_result_f{fs}.csv'\n",
    "        try:\n",
    "            list_of_left_over.append(pd.read_csv(path))\n",
    "        except:\n",
    "            print(f'Missing {x}')\n",
    "\n",
    "    for x in range(2,13):\n",
    "        path = f'1_murine_mutation_database_output/cosmic_output/cosmic_{x}_result_f{fs}.csv'\n",
    "        try:\n",
    "            list_of_left_over.append(pd.read_csv(path))\n",
    "        except:\n",
    "            print(f'Missing {x}')\n",
    "\n",
    "    df = pd.concat(list_of_left_over)\n",
    "    df = df.sort_values(by = 'index').reset_index(drop=True)\n",
    "    df = df[df['index'].isin(df_cosmic['index'])].reset_index(drop=True)\n",
    "    df.to_csv(f'1_murine_mutation_database_output/cosmic_output/cosmic_result_f{fs}.csv', index=False)"
   ]
  }
 ],
 "metadata": {
  "kernelspec": {
   "display_name": "Python 3",
   "language": "python",
   "name": "python3"
  },
  "language_info": {
   "codemirror_mode": {
    "name": "ipython",
    "version": 3
   },
   "file_extension": ".py",
   "mimetype": "text/x-python",
   "name": "python",
   "nbconvert_exporter": "python",
   "pygments_lexer": "ipython3",
   "version": "3.10.14"
  }
 },
 "nbformat": 4,
 "nbformat_minor": 2
}
